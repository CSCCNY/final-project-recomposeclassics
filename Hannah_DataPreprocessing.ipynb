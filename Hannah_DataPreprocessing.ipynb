{
  "nbformat": 4,
  "nbformat_minor": 0,
  "metadata": {
    "colab": {
      "name": "Classics_DNN.ipynb",
      "provenance": [],
      "authorship_tag": "ABX9TyNCrHEIF2hnRh3Kzpi1VagJ",
      "include_colab_link": true
    },
    "kernelspec": {
      "name": "python3",
      "display_name": "Python 3"
    },
    "language_info": {
      "name": "python"
    },
    "accelerator": "GPU"
  },
  "cells": [
    {
      "cell_type": "markdown",
      "metadata": {
        "id": "view-in-github",
        "colab_type": "text"
      },
      "source": [
        "<a href=\"https://colab.research.google.com/github/CSCCNY/final-project-recomposeclassics/blob/main/DataImport_GoogleDrive.ipynb\" target=\"_parent\"><img src=\"https://colab.research.google.com/assets/colab-badge.svg\" alt=\"Open In Colab\"/></a>"
      ]
    },
    {
      "cell_type": "markdown",
      "metadata": {
        "id": "FmmL-F2xBABd"
      },
      "source": [
        "## Recompose Classics : **Data Preprocessing**\n",
        "###### Hannah Do\n",
        "###### April 22nd, 2021\n",
        "\n",
        "\n",
        "-\n",
        "\n",
        "\n",
        "##### **Summary**\n",
        "\n",
        "1. Conversion of **midi** to **wav** files :\n",
        "\n",
        " *midi2audio, fluidsynth*\n",
        "\n",
        "\n",
        "2. Conversion of **wav** files to **spectograms** :\n",
        "\n",
        "  *librosa*\n",
        "\n",
        "\n",
        "---"
      ]
    },
    {
      "cell_type": "markdown",
      "metadata": {
        "id": "f8Ssu3qZCRUi"
      },
      "source": [
        "**Mount from Google Drive**"
      ]
    },
    {
      "cell_type": "code",
      "metadata": {
        "colab": {
          "base_uri": "https://localhost:8080/"
        },
        "id": "PDE22KEJwBvA",
        "outputId": "1f995226-abd8-4af7-a865-e16bcbcd4481"
      },
      "source": [
        "from google.colab import drive\n",
        "drive.mount('/content/gdrive/')"
      ],
      "execution_count": 24,
      "outputs": [
        {
          "output_type": "stream",
          "text": [
            "Mounted at /content/gdrive/\n"
          ],
          "name": "stdout"
        }
      ]
    },
    {
      "cell_type": "markdown",
      "metadata": {
        "id": "HjUC4wJ6CVnA"
      },
      "source": [
        "**Get folder with Chopin classics only**"
      ]
    },
    {
      "cell_type": "code",
      "metadata": {
        "id": "fUu8XieCwUrc",
        "colab": {
          "base_uri": "https://localhost:8080/"
        },
        "outputId": "545de5ed-777d-4028-d103-3ab396b97a26"
      },
      "source": [
        "import os\n",
        "import matplotlib.pyplot as plt\n",
        "\n",
        "#for loading and visualizing audio files\n",
        "import librosa\n",
        "import librosa.display\n",
        "\n",
        "#to play audio\n",
        "import IPython.display as ipd\n",
        "\n",
        "audio_fpath = \"/content/gdrive/My Drive/Classics_DNN/unzipped_classics/chopin/\"\n",
        "audio_clips = os.listdir(audio_fpath)\n",
        "print(\"No. of .midi files in audio folder = \",len(audio_clips))"
      ],
      "execution_count": 63,
      "outputs": [
        {
          "output_type": "stream",
          "text": [
            "No. of .midi files in audio folder =  49\n"
          ],
          "name": "stdout"
        }
      ]
    },
    {
      "cell_type": "markdown",
      "metadata": {
        "id": "8WOFBNDYCavF"
      },
      "source": [
        "**Imports to convert midi files into wav files**"
      ]
    },
    {
      "cell_type": "code",
      "metadata": {
        "colab": {
          "base_uri": "https://localhost:8080/"
        },
        "id": "QQncrIIs4T7f",
        "outputId": "e0a29484-aa28-4176-d407-4cde6f6f7e3b"
      },
      "source": [
        "!pip install midi2audio\n",
        "!sudo apt-get install fluidsynth"
      ],
      "execution_count": 40,
      "outputs": [
        {
          "output_type": "stream",
          "text": [
            "Collecting midi2audio\n",
            "  Downloading https://files.pythonhosted.org/packages/55/75/23618a687fc2391192c9d9ec8906a198a3f318f146388d3b96f779826d43/midi2audio-0.1.1-py2.py3-none-any.whl\n",
            "Installing collected packages: midi2audio\n",
            "Successfully installed midi2audio-0.1.1\n",
            "Collecting fluidsynth\n",
            "  Downloading https://files.pythonhosted.org/packages/87/db/471488e0ac26ffd0b73e49f1fedc3b557195f45aa0d1e6e9193c510024d3/fluidsynth-0.2.tar.gz\n",
            "Building wheels for collected packages: fluidsynth\n",
            "  Building wheel for fluidsynth (setup.py) ... \u001b[?25l\u001b[?25hdone\n",
            "  Created wheel for fluidsynth: filename=fluidsynth-0.2-cp37-none-any.whl size=4512 sha256=7e1367a4d3d4cebe9e5df4127b32f356c502e0a1dc672431d614bd1eba7c02fa\n",
            "  Stored in directory: /root/.cache/pip/wheels/2d/70/4d/ffe2589bbfe9c268780570a6875583fbf59547004459e2c3c3\n",
            "Successfully built fluidsynth\n",
            "Installing collected packages: fluidsynth\n",
            "Successfully installed fluidsynth-0.2\n"
          ],
          "name": "stdout"
        }
      ]
    },
    {
      "cell_type": "markdown",
      "metadata": {
        "id": "KAxGkgqhD5Dq"
      },
      "source": [
        "**Save converted wav files in 'chopin_wav' folder**"
      ]
    },
    {
      "cell_type": "code",
      "metadata": {
        "id": "mQB-I-a94fBR"
      },
      "source": [
        "from midi2audio import FluidSynth\n",
        "fs = FluidSynth()\n",
        "\n",
        "i=0\n",
        "for i in range(len(audio_clips)):\n",
        "  fs.midi_to_audio(audio_fpath+audio_clips[i], '/content/gdrive/My Drive/Classics_DNN/unzipped_classics/chopin_wav/'+os.path.splitext(audio_clips[i])[0]+'.wav')\n",
        "  i += 1\n",
        "  print(os.path.splitext(audio_clips[i])[0]+'.wav file downloaded \\n')\n"
      ],
      "execution_count": 69,
      "outputs": []
    },
    {
      "cell_type": "code",
      "metadata": {
        "id": "1CU29Nrowc9D",
        "colab": {
          "base_uri": "https://localhost:8080/"
        },
        "outputId": "e4b2bac0-1cba-4738-aa55-6d11687e2e4e"
      },
      "source": [
        "audio_fpath = '/content/gdrive/My Drive/Classics_DNN/unzipped_classics/chopin_wav/'\n",
        "audio_clips = os.listdir(audio_fpath)\n",
        "\n",
        "x, sr = librosa.load(audio_fpath+audio_clips[2], sr=44100)\n",
        "\n",
        "print(type(x), type(sr))\n",
        "print(x.shape, sr)"
      ],
      "execution_count": 73,
      "outputs": [
        {
          "output_type": "stream",
          "text": [
            "<class 'numpy.ndarray'> <class 'int'>\n",
            "(1381120,) 44100\n"
          ],
          "name": "stdout"
        }
      ]
    },
    {
      "cell_type": "code",
      "metadata": {
        "id": "vO0tGm530Fk0"
      },
      "source": [
        ""
      ],
      "execution_count": 75,
      "outputs": []
    }
  ]
}
