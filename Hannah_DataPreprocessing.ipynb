{
  "nbformat": 4,
  "nbformat_minor": 0,
  "metadata": {
    "colab": {
      "name": "Classics_DNN.ipynb",
      "provenance": [],
      "toc_visible": true,
      "authorship_tag": "ABX9TyPKDe1Oo8WZbevjCpjuYQJt",
      "include_colab_link": true
    },
    "kernelspec": {
      "name": "python3",
      "display_name": "Python 3"
    },
    "language_info": {
      "name": "python"
    },
    "accelerator": "GPU"
  },
  "cells": [
    {
      "cell_type": "markdown",
      "metadata": {
        "id": "view-in-github",
        "colab_type": "text"
      },
      "source": [
        "<a href=\"https://colab.research.google.com/github/CSCCNY/final-project-recomposeclassics/blob/main/Hannah_DataPreprocessing.ipynb\" target=\"_parent\"><img src=\"https://colab.research.google.com/assets/colab-badge.svg\" alt=\"Open In Colab\"/></a>"
      ]
    },
    {
      "cell_type": "markdown",
      "metadata": {
        "id": "FmmL-F2xBABd"
      },
      "source": [
        "## Recompose Classics : **Data Preprocessing**\n",
        "Hannah Do\n",
        "April 22nd, 2021\n",
        "\n",
        "\n",
        "---\n",
        "\n",
        "\n",
        "##### **Summary**\n",
        "\n",
        "1. Conversion of **midi** to **wav** files :\n",
        "\n",
        " *fluidsynth*\n",
        "\n",
        "\n",
        "2. Conversion of **wav** files to **spectograms** :\n",
        "\n",
        "  *librosa*\n",
        "\n",
        "\n",
        "---"
      ]
    },
    {
      "cell_type": "markdown",
      "metadata": {
        "id": "f8Ssu3qZCRUi"
      },
      "source": [
        "**Mount from Google Drive**"
      ]
    },
    {
      "cell_type": "code",
      "metadata": {
        "colab": {
          "base_uri": "https://localhost:8080/"
        },
        "id": "PDE22KEJwBvA",
        "outputId": "1f995226-abd8-4af7-a865-e16bcbcd4481"
      },
      "source": [
        "from google.colab import drive\n",
        "drive.mount('/content/gdrive/')"
      ],
      "execution_count": null,
      "outputs": [
        {
          "output_type": "stream",
          "text": [
            "Mounted at /content/gdrive/\n"
          ],
          "name": "stdout"
        }
      ]
    },
    {
      "cell_type": "markdown",
      "metadata": {
        "id": "HjUC4wJ6CVnA"
      },
      "source": [
        "**Get folder with Chopin classics only**"
      ]
    },
    {
      "cell_type": "code",
      "metadata": {
        "id": "fUu8XieCwUrc",
        "colab": {
          "base_uri": "https://localhost:8080/"
        },
        "outputId": "93817e00-577f-40c5-f1bd-e9aef8231091"
      },
      "source": [
        "import os\n",
        "import matplotlib.pyplot as plt\n",
        "\n",
        "#for loading and visualizing audio files\n",
        "import librosa\n",
        "import librosa.display\n",
        "\n",
        "#to play audio\n",
        "import IPython.display as ipd\n",
        "\n",
        "audio_fpath = \"/content/gdrive/My Drive/Classics_DNN/unzipped_classics/\"\n",
        "audio_clips = os.listdir(audio_fpath+'chopin/')\n",
        "print(\"No. of .midi files in audio folder = \",len(audio_clips))"
      ],
      "execution_count": 108,
      "outputs": [
        {
          "output_type": "stream",
          "text": [
            "No. of .midi files in audio folder =  49\n"
          ],
          "name": "stdout"
        }
      ]
    },
    {
      "cell_type": "markdown",
      "metadata": {
        "id": "8WOFBNDYCavF"
      },
      "source": [
        "**Imports to convert midi files into wav files - fluidsynth**"
      ]
    },
    {
      "cell_type": "code",
      "metadata": {
        "id": "GW7Ze9RXOYGJ",
        "outputId": "f12fa33d-784e-4e32-eea4-1e9f8ee4fe24",
        "colab": {
          "base_uri": "https://localhost:8080/"
        }
      },
      "source": [
        "!sudo apt install fluidsynth\n",
        "!cp /usr/share/sounds/sf2/FluidR3_GM.sf2 ./font.sf2\n",
        "\n",
        "!cp /content/gdrive/My\\ Drive/Classics_DNN/unzipped_classics/chopin/*.mid /content/mids/"
      ],
      "execution_count": 122,
      "outputs": [
        {
          "output_type": "stream",
          "text": [
            "Reading package lists... Done\n",
            "Building dependency tree       \n",
            "Reading state information... Done\n",
            "fluidsynth is already the newest version (1.1.9-1).\n",
            "0 upgraded, 0 newly installed, 0 to remove and 31 not upgraded.\n"
          ],
          "name": "stdout"
        }
      ]
    },
    {
      "cell_type": "markdown",
      "metadata": {
        "id": "KAxGkgqhD5Dq"
      },
      "source": [
        "**Change of directory to 'content' during 'midi to wav' conversion and back to google drive folder to avoid shell script error**"
      ]
    },
    {
      "cell_type": "code",
      "metadata": {
        "id": "mQB-I-a94fBR",
        "outputId": "698bf031-7362-4739-bb32-a2919c76d6e9",
        "colab": {
          "base_uri": "https://localhost:8080/",
          "height": 1000
        }
      },
      "source": [
        "\n",
        "i=0\n",
        "for i in range(len(audio_clips)):\n",
        "  ! fluidsynth -ni font.sf2 {'/content/mids/'+audio_clips[i]} -F {'/content/wavs/'+os.path.splitext(audio_clips[i])[0]+'.wav'} -r 44100\n",
        "  print(os.path.splitext(audio_clips[i])[0]+'.wav file downloaded \\n')\n",
        "  i += 1\n"
      ],
      "execution_count": 125,
      "outputs": [
        {
          "output_type": "stream",
          "text": [
            "FluidSynth version 1.1.9\n",
            "Copyright (C) 2000-2018 Peter Hanappe and others.\n",
            "Distributed under the LGPL license.\n",
            "SoundFont(R) is a registered trademark of E-mu Systems, Inc.\n",
            "\n",
            "Rendering audio to file '/content/wavs/chp_op18.wav'..\n",
            "chp_op31.wav file downloaded \n",
            "\n",
            "FluidSynth version 1.1.9\n",
            "Copyright (C) 2000-2018 Peter Hanappe and others.\n",
            "Distributed under the LGPL license.\n",
            "SoundFont(R) is a registered trademark of E-mu Systems, Inc.\n",
            "\n",
            "Rendering audio to file '/content/wavs/chp_op31.wav'..\n",
            "chpn-p1.wav file downloaded \n",
            "\n",
            "FluidSynth version 1.1.9\n",
            "Copyright (C) 2000-2018 Peter Hanappe and others.\n",
            "Distributed under the LGPL license.\n",
            "SoundFont(R) is a registered trademark of E-mu Systems, Inc.\n",
            "\n",
            "Rendering audio to file '/content/wavs/chpn-p1.wav'..\n",
            "chpn-p10.wav file downloaded \n",
            "\n",
            "FluidSynth version 1.1.9\n",
            "Copyright (C) 2000-2018 Peter Hanappe and others.\n",
            "Distributed under the LGPL license.\n",
            "SoundFont(R) is a registered trademark of E-mu Systems, Inc.\n",
            "\n",
            "Rendering audio to file '/content/wavs/chpn-p10.wav'..\n",
            "chpn-p11.wav file downloaded \n",
            "\n",
            "FluidSynth version 1.1.9\n",
            "Copyright (C) 2000-2018 Peter Hanappe and others.\n",
            "Distributed under the LGPL license.\n",
            "SoundFont(R) is a registered trademark of E-mu Systems, Inc.\n",
            "\n",
            "Rendering audio to file '/content/wavs/chpn-p11.wav'..\n",
            "chpn-p12.wav file downloaded \n",
            "\n",
            "FluidSynth version 1.1.9\n",
            "Copyright (C) 2000-2018 Peter Hanappe and others.\n",
            "Distributed under the LGPL license.\n",
            "SoundFont(R) is a registered trademark of E-mu Systems, Inc.\n",
            "\n",
            "Rendering audio to file '/content/wavs/chpn-p12.wav'..\n",
            "chpn-p13.wav file downloaded \n",
            "\n",
            "FluidSynth version 1.1.9\n",
            "Copyright (C) 2000-2018 Peter Hanappe and others.\n",
            "Distributed under the LGPL license.\n",
            "SoundFont(R) is a registered trademark of E-mu Systems, Inc.\n",
            "\n",
            "Rendering audio to file '/content/wavs/chpn-p13.wav'..\n",
            "chpn-p15.wav file downloaded \n",
            "\n",
            "FluidSynth version 1.1.9\n",
            "Copyright (C) 2000-2018 Peter Hanappe and others.\n",
            "Distributed under the LGPL license.\n",
            "SoundFont(R) is a registered trademark of E-mu Systems, Inc.\n",
            "\n",
            "Rendering audio to file '/content/wavs/chpn-p15.wav'..\n",
            "chpn-p14.wav file downloaded \n",
            "\n",
            "FluidSynth version 1.1.9\n",
            "Copyright (C) 2000-2018 Peter Hanappe and others.\n",
            "Distributed under the LGPL license.\n",
            "SoundFont(R) is a registered trademark of E-mu Systems, Inc.\n",
            "\n",
            "Rendering audio to file '/content/wavs/chpn-p14.wav'..\n",
            "chpn-p16.wav file downloaded \n",
            "\n",
            "FluidSynth version 1.1.9\n",
            "Copyright (C) 2000-2018 Peter Hanappe and others.\n",
            "Distributed under the LGPL license.\n",
            "SoundFont(R) is a registered trademark of E-mu Systems, Inc.\n",
            "\n",
            "Rendering audio to file '/content/wavs/chpn-p16.wav'..\n",
            "chpn-p17.wav file downloaded \n",
            "\n",
            "FluidSynth version 1.1.9\n",
            "Copyright (C) 2000-2018 Peter Hanappe and others.\n",
            "Distributed under the LGPL license.\n",
            "SoundFont(R) is a registered trademark of E-mu Systems, Inc.\n",
            "\n",
            "Rendering audio to file '/content/wavs/chpn-p17.wav'..\n",
            "chpn-p18.wav file downloaded \n",
            "\n",
            "FluidSynth version 1.1.9\n",
            "Copyright (C) 2000-2018 Peter Hanappe and others.\n",
            "Distributed under the LGPL license.\n",
            "SoundFont(R) is a registered trademark of E-mu Systems, Inc.\n",
            "\n",
            "Rendering audio to file '/content/wavs/chpn-p18.wav'..\n",
            "chpn-p19.wav file downloaded \n",
            "\n",
            "FluidSynth version 1.1.9\n",
            "Copyright (C) 2000-2018 Peter Hanappe and others.\n",
            "Distributed under the LGPL license.\n",
            "SoundFont(R) is a registered trademark of E-mu Systems, Inc.\n",
            "\n",
            "Rendering audio to file '/content/wavs/chpn-p19.wav'..\n",
            "chpn-p2.wav file downloaded \n",
            "\n",
            "FluidSynth version 1.1.9\n",
            "Copyright (C) 2000-2018 Peter Hanappe and others.\n",
            "Distributed under the LGPL license.\n",
            "SoundFont(R) is a registered trademark of E-mu Systems, Inc.\n",
            "\n",
            "Rendering audio to file '/content/wavs/chpn-p2.wav'..\n",
            "chpn-p21.wav file downloaded \n",
            "\n",
            "FluidSynth version 1.1.9\n",
            "Copyright (C) 2000-2018 Peter Hanappe and others.\n",
            "Distributed under the LGPL license.\n",
            "SoundFont(R) is a registered trademark of E-mu Systems, Inc.\n",
            "\n",
            "Rendering audio to file '/content/wavs/chpn-p21.wav'..\n",
            "chpn-p20.wav file downloaded \n",
            "\n",
            "FluidSynth version 1.1.9\n",
            "Copyright (C) 2000-2018 Peter Hanappe and others.\n",
            "Distributed under the LGPL license.\n",
            "SoundFont(R) is a registered trademark of E-mu Systems, Inc.\n",
            "\n",
            "Rendering audio to file '/content/wavs/chpn-p20.wav'..\n",
            "chpn-p22.wav file downloaded \n",
            "\n",
            "FluidSynth version 1.1.9\n",
            "Copyright (C) 2000-2018 Peter Hanappe and others.\n",
            "Distributed under the LGPL license.\n",
            "SoundFont(R) is a registered trademark of E-mu Systems, Inc.\n",
            "\n",
            "Rendering audio to file '/content/wavs/chpn-p22.wav'..\n",
            "chpn-p23.wav file downloaded \n",
            "\n",
            "FluidSynth version 1.1.9\n",
            "Copyright (C) 2000-2018 Peter Hanappe and others.\n",
            "Distributed under the LGPL license.\n",
            "SoundFont(R) is a registered trademark of E-mu Systems, Inc.\n",
            "\n",
            "Rendering audio to file '/content/wavs/chpn-p23.wav'..\n",
            "chpn-p24.wav file downloaded \n",
            "\n",
            "FluidSynth version 1.1.9\n",
            "Copyright (C) 2000-2018 Peter Hanappe and others.\n",
            "Distributed under the LGPL license.\n",
            "SoundFont(R) is a registered trademark of E-mu Systems, Inc.\n",
            "\n",
            "Rendering audio to file '/content/wavs/chpn-p24.wav'..\n",
            "chpn-p3.wav file downloaded \n",
            "\n",
            "FluidSynth version 1.1.9\n",
            "Copyright (C) 2000-2018 Peter Hanappe and others.\n",
            "Distributed under the LGPL license.\n",
            "SoundFont(R) is a registered trademark of E-mu Systems, Inc.\n",
            "\n",
            "Rendering audio to file '/content/wavs/chpn-p3.wav'..\n",
            "chpn-p4.wav file downloaded \n",
            "\n",
            "FluidSynth version 1.1.9\n",
            "Copyright (C) 2000-2018 Peter Hanappe and others.\n",
            "Distributed under the LGPL license.\n",
            "SoundFont(R) is a registered trademark of E-mu Systems, Inc.\n",
            "\n",
            "Rendering audio to file '/content/wavs/chpn-p4.wav'..\n",
            "chpn-p5.wav file downloaded \n",
            "\n",
            "FluidSynth version 1.1.9\n",
            "Copyright (C) 2000-2018 Peter Hanappe and others.\n",
            "Distributed under the LGPL license.\n",
            "SoundFont(R) is a registered trademark of E-mu Systems, Inc.\n",
            "\n",
            "Rendering audio to file '/content/wavs/chpn-p5.wav'..\n",
            "chpn-p6.wav file downloaded \n",
            "\n",
            "FluidSynth version 1.1.9\n",
            "Copyright (C) 2000-2018 Peter Hanappe and others.\n",
            "Distributed under the LGPL license.\n",
            "SoundFont(R) is a registered trademark of E-mu Systems, Inc.\n",
            "\n",
            "Rendering audio to file '/content/wavs/chpn-p6.wav'..\n",
            "chpn-p8.wav file downloaded \n",
            "\n",
            "FluidSynth version 1.1.9\n",
            "Copyright (C) 2000-2018 Peter Hanappe and others.\n",
            "Distributed under the LGPL license.\n",
            "SoundFont(R) is a registered trademark of E-mu Systems, Inc.\n",
            "\n",
            "Rendering audio to file '/content/wavs/chpn-p8.wav'..\n",
            "chpn-p7.wav file downloaded \n",
            "\n",
            "FluidSynth version 1.1.9\n",
            "Copyright (C) 2000-2018 Peter Hanappe and others.\n",
            "Distributed under the LGPL license.\n",
            "SoundFont(R) is a registered trademark of E-mu Systems, Inc.\n",
            "\n",
            "Rendering audio to file '/content/wavs/chpn-p7.wav'..\n",
            "chpn-p9.wav file downloaded \n",
            "\n",
            "FluidSynth version 1.1.9\n",
            "Copyright (C) 2000-2018 Peter Hanappe and others.\n",
            "Distributed under the LGPL license.\n",
            "SoundFont(R) is a registered trademark of E-mu Systems, Inc.\n",
            "\n",
            "Rendering audio to file '/content/wavs/chpn-p9.wav'..\n",
            "chpn_op10_e01.wav file downloaded \n",
            "\n",
            "FluidSynth version 1.1.9\n",
            "Copyright (C) 2000-2018 Peter Hanappe and others.\n",
            "Distributed under the LGPL license.\n",
            "SoundFont(R) is a registered trademark of E-mu Systems, Inc.\n",
            "\n",
            "Rendering audio to file '/content/wavs/chpn_op10_e01.wav'..\n",
            "chpn_op10_e05.wav file downloaded \n",
            "\n",
            "FluidSynth version 1.1.9\n",
            "Copyright (C) 2000-2018 Peter Hanappe and others.\n",
            "Distributed under the LGPL license.\n",
            "SoundFont(R) is a registered trademark of E-mu Systems, Inc.\n",
            "\n",
            "Rendering audio to file '/content/wavs/chpn_op10_e05.wav'..\n",
            "chpn_op10_e12.wav file downloaded \n",
            "\n",
            "FluidSynth version 1.1.9\n",
            "Copyright (C) 2000-2018 Peter Hanappe and others.\n",
            "Distributed under the LGPL license.\n",
            "SoundFont(R) is a registered trademark of E-mu Systems, Inc.\n",
            "\n",
            "Rendering audio to file '/content/wavs/chpn_op10_e12.wav'..\n",
            "chpn_op23.wav file downloaded \n",
            "\n",
            "FluidSynth version 1.1.9\n",
            "Copyright (C) 2000-2018 Peter Hanappe and others.\n",
            "Distributed under the LGPL license.\n",
            "SoundFont(R) is a registered trademark of E-mu Systems, Inc.\n",
            "\n",
            "Rendering audio to file '/content/wavs/chpn_op23.wav'..\n",
            "chpn_op25_e1.wav file downloaded \n",
            "\n",
            "FluidSynth version 1.1.9\n",
            "Copyright (C) 2000-2018 Peter Hanappe and others.\n",
            "Distributed under the LGPL license.\n",
            "SoundFont(R) is a registered trademark of E-mu Systems, Inc.\n",
            "\n",
            "Rendering audio to file '/content/wavs/chpn_op25_e1.wav'..\n",
            "chpn_op25_e11.wav file downloaded \n",
            "\n",
            "FluidSynth version 1.1.9\n",
            "Copyright (C) 2000-2018 Peter Hanappe and others.\n",
            "Distributed under the LGPL license.\n",
            "SoundFont(R) is a registered trademark of E-mu Systems, Inc.\n",
            "\n",
            "Rendering audio to file '/content/wavs/chpn_op25_e11.wav'..\n",
            "chpn_op25_e12.wav file downloaded \n",
            "\n",
            "FluidSynth version 1.1.9\n",
            "Copyright (C) 2000-2018 Peter Hanappe and others.\n",
            "Distributed under the LGPL license.\n",
            "SoundFont(R) is a registered trademark of E-mu Systems, Inc.\n",
            "\n",
            "Rendering audio to file '/content/wavs/chpn_op25_e12.wav'..\n",
            "chpn_op25_e3.wav file downloaded \n",
            "\n",
            "FluidSynth version 1.1.9\n",
            "Copyright (C) 2000-2018 Peter Hanappe and others.\n",
            "Distributed under the LGPL license.\n",
            "SoundFont(R) is a registered trademark of E-mu Systems, Inc.\n",
            "\n",
            "Rendering audio to file '/content/wavs/chpn_op25_e3.wav'..\n",
            "chpn_op25_e2.wav file downloaded \n",
            "\n",
            "FluidSynth version 1.1.9\n",
            "Copyright (C) 2000-2018 Peter Hanappe and others.\n",
            "Distributed under the LGPL license.\n",
            "SoundFont(R) is a registered trademark of E-mu Systems, Inc.\n",
            "\n",
            "Rendering audio to file '/content/wavs/chpn_op25_e2.wav'..\n",
            "chpn_op25_e4.wav file downloaded \n",
            "\n",
            "FluidSynth version 1.1.9\n",
            "Copyright (C) 2000-2018 Peter Hanappe and others.\n",
            "Distributed under the LGPL license.\n",
            "SoundFont(R) is a registered trademark of E-mu Systems, Inc.\n",
            "\n",
            "Rendering audio to file '/content/wavs/chpn_op25_e4.wav'..\n",
            "chpn_op27_1.wav file downloaded \n",
            "\n",
            "FluidSynth version 1.1.9\n",
            "Copyright (C) 2000-2018 Peter Hanappe and others.\n",
            "Distributed under the LGPL license.\n",
            "SoundFont(R) is a registered trademark of E-mu Systems, Inc.\n",
            "\n",
            "Rendering audio to file '/content/wavs/chpn_op27_1.wav'..\n",
            "chpn_op27_2.wav file downloaded \n",
            "\n",
            "FluidSynth version 1.1.9\n",
            "Copyright (C) 2000-2018 Peter Hanappe and others.\n",
            "Distributed under the LGPL license.\n",
            "SoundFont(R) is a registered trademark of E-mu Systems, Inc.\n",
            "\n",
            "Rendering audio to file '/content/wavs/chpn_op27_2.wav'..\n",
            "chpn_op33_2.wav file downloaded \n",
            "\n",
            "FluidSynth version 1.1.9\n",
            "Copyright (C) 2000-2018 Peter Hanappe and others.\n",
            "Distributed under the LGPL license.\n",
            "SoundFont(R) is a registered trademark of E-mu Systems, Inc.\n",
            "\n",
            "Rendering audio to file '/content/wavs/chpn_op33_2.wav'..\n",
            "chpn_op33_4.wav file downloaded \n",
            "\n",
            "FluidSynth version 1.1.9\n",
            "Copyright (C) 2000-2018 Peter Hanappe and others.\n",
            "Distributed under the LGPL license.\n",
            "SoundFont(R) is a registered trademark of E-mu Systems, Inc.\n",
            "\n",
            "Rendering audio to file '/content/wavs/chpn_op33_4.wav'..\n",
            "chpn_op35_1.wav file downloaded \n",
            "\n",
            "FluidSynth version 1.1.9\n",
            "Copyright (C) 2000-2018 Peter Hanappe and others.\n",
            "Distributed under the LGPL license.\n",
            "SoundFont(R) is a registered trademark of E-mu Systems, Inc.\n",
            "\n",
            "Rendering audio to file '/content/wavs/chpn_op35_1.wav'..\n",
            "chpn_op35_2.wav file downloaded \n",
            "\n",
            "FluidSynth version 1.1.9\n",
            "Copyright (C) 2000-2018 Peter Hanappe and others.\n",
            "Distributed under the LGPL license.\n",
            "SoundFont(R) is a registered trademark of E-mu Systems, Inc.\n",
            "\n",
            "Rendering audio to file '/content/wavs/chpn_op35_2.wav'..\n",
            "chpn_op35_3.wav file downloaded \n",
            "\n",
            "FluidSynth version 1.1.9\n",
            "Copyright (C) 2000-2018 Peter Hanappe and others.\n",
            "Distributed under the LGPL license.\n",
            "SoundFont(R) is a registered trademark of E-mu Systems, Inc.\n",
            "\n",
            "Rendering audio to file '/content/wavs/chpn_op35_3.wav'..\n",
            "chpn_op35_4.wav file downloaded \n",
            "\n",
            "FluidSynth version 1.1.9\n",
            "Copyright (C) 2000-2018 Peter Hanappe and others.\n",
            "Distributed under the LGPL license.\n",
            "SoundFont(R) is a registered trademark of E-mu Systems, Inc.\n",
            "\n",
            "Rendering audio to file '/content/wavs/chpn_op35_4.wav'..\n",
            "chpn_op53.wav file downloaded \n",
            "\n",
            "FluidSynth version 1.1.9\n",
            "Copyright (C) 2000-2018 Peter Hanappe and others.\n",
            "Distributed under the LGPL license.\n",
            "SoundFont(R) is a registered trademark of E-mu Systems, Inc.\n",
            "\n",
            "Rendering audio to file '/content/wavs/chpn_op53.wav'..\n",
            "chpn_op66.wav file downloaded \n",
            "\n",
            "FluidSynth version 1.1.9\n",
            "Copyright (C) 2000-2018 Peter Hanappe and others.\n",
            "Distributed under the LGPL license.\n",
            "SoundFont(R) is a registered trademark of E-mu Systems, Inc.\n",
            "\n",
            "Rendering audio to file '/content/wavs/chpn_op66.wav'..\n",
            "chpn_op7_1.wav file downloaded \n",
            "\n",
            "FluidSynth version 1.1.9\n",
            "Copyright (C) 2000-2018 Peter Hanappe and others.\n",
            "Distributed under the LGPL license.\n",
            "SoundFont(R) is a registered trademark of E-mu Systems, Inc.\n",
            "\n",
            "Rendering audio to file '/content/wavs/chpn_op7_1.wav'..\n",
            "chpn_op7_2.wav file downloaded \n",
            "\n",
            "FluidSynth version 1.1.9\n",
            "Copyright (C) 2000-2018 Peter Hanappe and others.\n",
            "Distributed under the LGPL license.\n",
            "SoundFont(R) is a registered trademark of E-mu Systems, Inc.\n",
            "\n",
            "Rendering audio to file '/content/wavs/chpn_op7_2.wav'..\n",
            ".ipynb_checkpoints.wav file downloaded \n",
            "\n",
            "FluidSynth version 1.1.9\n",
            "Copyright (C) 2000-2018 Peter Hanappe and others.\n",
            "Distributed under the LGPL license.\n",
            "SoundFont(R) is a registered trademark of E-mu Systems, Inc.\n",
            "\n",
            "Parameter '/content/mids/.ipynb_checkpoints' not a SoundFont or MIDI file or error occurred identifying it.\n",
            "No midi file specified!\n"
          ],
          "name": "stdout"
        },
        {
          "output_type": "error",
          "ename": "IndexError",
          "evalue": "ignored",
          "traceback": [
            "\u001b[0;31m---------------------------------------------------------------------------\u001b[0m",
            "\u001b[0;31mIndexError\u001b[0m                                Traceback (most recent call last)",
            "\u001b[0;32m<ipython-input-125-cba8b3f4c399>\u001b[0m in \u001b[0;36m<module>\u001b[0;34m()\u001b[0m\n\u001b[1;32m      4\u001b[0m   \u001b[0mget_ipython\u001b[0m\u001b[0;34m(\u001b[0m\u001b[0;34m)\u001b[0m\u001b[0;34m.\u001b[0m\u001b[0msystem\u001b[0m\u001b[0;34m(\u001b[0m\u001b[0;34m\" fluidsynth -ni font.sf2 {'/content/mids/'+audio_clips[i]} -F {'/content/wavs/'+os.path.splitext(audio_clips[i])[0]+'.wav'} -r 44100\"\u001b[0m\u001b[0;34m)\u001b[0m\u001b[0;34m\u001b[0m\u001b[0;34m\u001b[0m\u001b[0m\n\u001b[1;32m      5\u001b[0m   \u001b[0mi\u001b[0m \u001b[0;34m+=\u001b[0m \u001b[0;36m1\u001b[0m\u001b[0;34m\u001b[0m\u001b[0;34m\u001b[0m\u001b[0m\n\u001b[0;32m----> 6\u001b[0;31m   \u001b[0mprint\u001b[0m\u001b[0;34m(\u001b[0m\u001b[0mos\u001b[0m\u001b[0;34m.\u001b[0m\u001b[0mpath\u001b[0m\u001b[0;34m.\u001b[0m\u001b[0msplitext\u001b[0m\u001b[0;34m(\u001b[0m\u001b[0maudio_clips\u001b[0m\u001b[0;34m[\u001b[0m\u001b[0mi\u001b[0m\u001b[0;34m]\u001b[0m\u001b[0;34m)\u001b[0m\u001b[0;34m[\u001b[0m\u001b[0;36m0\u001b[0m\u001b[0;34m]\u001b[0m\u001b[0;34m+\u001b[0m\u001b[0;34m'.wav file downloaded \\n'\u001b[0m\u001b[0;34m)\u001b[0m\u001b[0;34m\u001b[0m\u001b[0;34m\u001b[0m\u001b[0m\n\u001b[0m",
            "\u001b[0;31mIndexError\u001b[0m: list index out of range"
          ]
        }
      ]
    },
    {
      "cell_type": "code",
      "metadata": {
        "id": "ntrzyHDeShiF"
      },
      "source": [
        "!cp /content/wavs/*wav /content/gdrive/My\\ Drive/Classics_DNN/unzipped_classics/chopin_wavs2"
      ],
      "execution_count": 126,
      "outputs": []
    },
    {
      "cell_type": "markdown",
      "metadata": {
        "id": "w_-VsRz-ICJl"
      },
      "source": [
        "**Open through librosa as numpy array**"
      ]
    },
    {
      "cell_type": "code",
      "metadata": {
        "id": "1CU29Nrowc9D",
        "colab": {
          "base_uri": "https://localhost:8080/"
        },
        "outputId": "04b2966f-4b03-466f-bc7b-4f180588dfce"
      },
      "source": [
        "audio_fpath = '/content/gdrive/My Drive/Classics_DNN/unzipped_classics/chopin_wavs2/'\n",
        "audio_clips = os.listdir(audio_fpath)\n",
        "\n",
        "x, sr = librosa.load(audio_fpath+audio_clips[0], sr=44100)\n",
        "\n",
        "print(type(x), type(sr))\n",
        "print(x.shape, sr)"
      ],
      "execution_count": 128,
      "outputs": [
        {
          "output_type": "stream",
          "text": [
            "<class 'numpy.ndarray'> <class 'int'>\n",
            "(4918720,) 44100\n"
          ],
          "name": "stdout"
        }
      ]
    },
    {
      "cell_type": "code",
      "metadata": {
        "id": "9neUS8DnIPcT",
        "outputId": "992adfe0-4ce5-421d-e68d-a7f13f6c3b04",
        "colab": {
          "base_uri": "https://localhost:8080/"
        }
      },
      "source": [
        "print()"
      ],
      "execution_count": 129,
      "outputs": [
        {
          "output_type": "stream",
          "text": [
            "\n"
          ],
          "name": "stdout"
        }
      ]
    },
    {
      "cell_type": "code",
      "metadata": {
        "id": "vO0tGm530Fk0",
        "outputId": "f5afb307-952f-48df-eec9-1152cbe83225",
        "colab": {
          "base_uri": "https://localhost:8080/",
          "height": 351
        }
      },
      "source": [
        "plt.figure(figsize=(14, 5))\n",
        "librosa.display.waveplot(x, sr=sr)"
      ],
      "execution_count": 130,
      "outputs": [
        {
          "output_type": "execute_result",
          "data": {
            "text/plain": [
              "<matplotlib.collections.PolyCollection at 0x7fde27fc7e50>"
            ]
          },
          "metadata": {
            "tags": []
          },
          "execution_count": 130
        },
        {
          "output_type": "display_data",
          "data": {
            "image/png": "[encoded data removed]",
            "text/plain": [
              "<Figure size 1008x360 with 1 Axes>"
            ]
          },
          "metadata": {
            "tags": [],
            "needs_background": "light"
          }
        }
      ]
    },
    {
      "cell_type": "code",
      "metadata": {
        "id": "uQNDo9ocIY10",
        "outputId": "2e005855-d35b-4091-aacc-1a1bfa6d207a",
        "colab": {
          "base_uri": "https://localhost:8080/",
          "height": 351
        }
      },
      "source": [
        "X = librosa.stft(x)\n",
        "Xdb = librosa.amplitude_to_db(abs(X))\n",
        "plt.figure(figsize=(14, 5))\n",
        "librosa.display.specshow(Xdb, sr=sr, x_axis='time', y_axis='hz')\n",
        "plt.colorbar()"
      ],
      "execution_count": 87,
      "outputs": [
        {
          "output_type": "execute_result",
          "data": {
            "text/plain": [
              "<matplotlib.colorbar.Colorbar at 0x7fde280a7ed0>"
            ]
          },
          "metadata": {
            "tags": []
          },
          "execution_count": 87
        },
        {
          "output_type": "display_data",
          "data": {
            "image/png": "[encoded data removed]",
            "text/plain": [
              "<Figure size 1008x360 with 2 Axes>"
            ]
          },
          "metadata": {
            "tags": [],
            "needs_background": "light"
          }
        }
      ]
    }
  ]
}