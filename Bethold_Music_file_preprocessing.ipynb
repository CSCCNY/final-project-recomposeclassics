{
  "nbformat": 4,
  "nbformat_minor": 0,
  "metadata": {
    "colab": {
      "name": "first_model.ipynb",
      "provenance": [],
      "collapsed_sections": []
    },
    "kernelspec": {
      "name": "python3",
      "display_name": "Python 3"
    },
    "language_info": {
      "name": "python"
    },
    "accelerator": "GPU"
  },
  "cells": [
    {
      "cell_type": "code",
      "metadata": {
        "colab": {
          "base_uri": "https://localhost:8080/"
        },
        "id": "1Pj1F5s4n7GN",
        "outputId": "2d6aaeee-09bf-4c99-b102-7bbe8db75b4b"
      },
      "source": [
        "#Mounting google and authenticating\n",
        "from google.colab import drive\n",
        "drive.mount('/content/gdrive')\n",
        "\n",
        "!ln -s /content/gdrive/My\\ Drive/ /mydrive\n",
        "#!ls /mydrive"
      ],
      "execution_count": null,
      "outputs": [
        {
          "output_type": "stream",
          "text": [
            "Mounted at /content/gdrive\n"
          ],
          "name": "stdout"
        }
      ]
    },
    {
      "cell_type": "code",
      "metadata": {
        "id": "wb0U8-xnoD7M"
      },
      "source": [
        "!cp /mydrive/music\\ project/X_spec_half.pickle ./\n",
        "!cp /mydrive/music\\ project/y_spec_half.pickle ./"
      ],
      "execution_count": null,
      "outputs": []
    },
    {
      "cell_type": "code",
      "metadata": {
        "id": "uHSKIjrXOP2H"
      },
      "source": [
        "import pickle \n",
        "pickle_off = open(\"X_spec_half.pickle\", 'rb')\n",
        "X_spec = pickle.load(pickle_off)\n",
        "\n",
        "pickle_off = open(\"y_spec_half.pickle\", 'rb')\n",
        "y_spec = pickle.load(pickle_off)"
      ],
      "execution_count": null,
      "outputs": []
    },
    {
      "cell_type": "code",
      "metadata": {
        "id": "Qey86mOGQuWy"
      },
      "source": [
        "X_spec_ = X_spec.reshape(48, 440, 128,1)\n",
        "y_spec_ = y_spec.reshape(48, 440, 128, 1)"
      ],
      "execution_count": null,
      "outputs": []
    },
    {
      "cell_type": "code",
      "metadata": {
        "colab": {
          "base_uri": "https://localhost:8080/"
        },
        "id": "viDlfI6DSZ9w",
        "outputId": "81645544-8d83-4391-ff9d-95bdc3363a45"
      },
      "source": [
        "X_spec_.shape"
      ],
      "execution_count": null,
      "outputs": [
        {
          "output_type": "execute_result",
          "data": {
            "text/plain": [
              "(48, 440, 128, 1)"
            ]
          },
          "metadata": {
            "tags": []
          },
          "execution_count": 9
        }
      ]
    },
    {
      "cell_type": "code",
      "metadata": {
        "id": "tZ7hXQRhcCtm"
      },
      "source": [
        "from tensorflow.keras.models import Model, load_model\n",
        "from tensorflow.keras.layers import Input, BatchNormalization, Activation, Dense, Dropout\n",
        "#from tensorflow.keras.layers import Lambda, RepeatVector, Reshape\n",
        "from tensorflow.keras.layers import Conv2D, Conv2DTranspose\n",
        "from tensorflow.keras.layers import MaxPooling2D, GlobalMaxPool2D\n",
        "from tensorflow.keras.layers import Concatenate \n",
        "from tensorflow.keras.optimizers import Adam"
      ],
      "execution_count": null,
      "outputs": []
    },
    {
      "cell_type": "code",
      "metadata": {
        "id": "1Y3cV3JIolwU"
      },
      "source": [
        "X_spec_ = X_spec_.reshape(-1,1)\n",
        "y_spec_ = y_spec_.reshape(-1,1)"
      ],
      "execution_count": null,
      "outputs": []
    },
    {
      "cell_type": "code",
      "metadata": {
        "colab": {
          "base_uri": "https://localhost:8080/"
        },
        "id": "OChkyk5emfiY",
        "outputId": "624c1389-3188-410f-a129-c1a6d8eccb6f"
      },
      "source": [
        "#Using Random Forest\n",
        "from sklearn.ensemble import RandomForestRegressor\n",
        "regr = RandomForestRegressor(max_depth=2, random_state=0)\n",
        "regr.fit(X_spec_, y_spec_)\n",
        "\n",
        "#print(regr.predict([[0, 0, 0, 0]]))"
      ],
      "execution_count": null,
      "outputs": [
        {
          "output_type": "stream",
          "text": [
            "/usr/local/lib/python3.7/dist-packages/ipykernel_launcher.py:3: DataConversionWarning: A column-vector y was passed when a 1d array was expected. Please change the shape of y to (n_samples,), for example using ravel().\n",
            "  This is separate from the ipykernel package so we can avoid doing imports until\n"
          ],
          "name": "stderr"
        },
        {
          "output_type": "execute_result",
          "data": {
            "text/plain": [
              "RandomForestRegressor(bootstrap=True, ccp_alpha=0.0, criterion='mse',\n",
              "                      max_depth=2, max_features='auto', max_leaf_nodes=None,\n",
              "                      max_samples=None, min_impurity_decrease=0.0,\n",
              "                      min_impurity_split=None, min_samples_leaf=1,\n",
              "                      min_samples_split=2, min_weight_fraction_leaf=0.0,\n",
              "                      n_estimators=100, n_jobs=None, oob_score=False,\n",
              "                      random_state=0, verbose=0, warm_start=False)"
            ]
          },
          "metadata": {
            "tags": []
          },
          "execution_count": 12
        }
      ]
    },
    {
      "cell_type": "code",
      "metadata": {
        "colab": {
          "base_uri": "https://localhost:8080/"
        },
        "id": "OXmkkJVdoeA9",
        "outputId": "da0f41cd-5bba-41bb-92cf-41a8e7cfb023"
      },
      "source": [
        "#R square\n",
        "regr.score(X_spec_, y_spec_)"
      ],
      "execution_count": null,
      "outputs": [
        {
          "output_type": "execute_result",
          "data": {
            "text/plain": [
              "0.3967978758216605"
            ]
          },
          "metadata": {
            "tags": []
          },
          "execution_count": 13
        }
      ]
    },
    {
      "cell_type": "code",
      "metadata": {
        "id": "y1O_dod6V6uE"
      },
      "source": [
        "#Using regressor sequential\n",
        "from tensorflow import keras\n",
        "from tensorflow.keras import layers\n",
        "\n",
        "horsepower_normalizer = preprocessing.Normalization(input_shape=[1,])\n",
        "horsepower_normalizer.adapt(X_spec_\n",
        "                            )\n",
        "\n",
        "horsepower_model = tf.keras.Sequential([\n",
        "    horsepower_normalizer,\n",
        "    layers.Dense(units=1)\n",
        "])"
      ],
      "execution_count": null,
      "outputs": []
    },
    {
      "cell_type": "code",
      "metadata": {
        "id": "A_zsgvmzpco5",
        "colab": {
          "base_uri": "https://localhost:8080/"
        },
        "outputId": "abb31c50-55e1-499d-ce78-e92726d9d551"
      },
      "source": [
        "import tensorflow as tf\n",
        "horsepower_model.compile(\n",
        "    optimizer=tf.optimizers.Adam(learning_rate=0.1),\n",
        "    loss='mean_absolute_error', metrics=[tf.keras.metrics.MeanSquaredError()])\n",
        "\n",
        "history = horsepower_model.fit(\n",
        "    X_spec_, y_spec_,\n",
        "    epochs=5,\n",
        "    # suppress logging\n",
        "    #verbose=0,\n",
        "    # Calculate validation results on 10% of the training data\n",
        "    validation_split = 0.1)"
      ],
      "execution_count": null,
      "outputs": [
        {
          "output_type": "stream",
          "text": [
            "Epoch 1/5\n",
            "76032/76032 [==============================] - 117s 2ms/step - loss: 10.2469 - mean_squared_error: 186.6453 - val_loss: 8.7888 - val_mean_squared_error: 126.8809\n",
            "Epoch 2/5\n",
            "76032/76032 [==============================] - 116s 2ms/step - loss: 9.7955 - mean_squared_error: 165.4883 - val_loss: 8.7916 - val_mean_squared_error: 126.2527\n",
            "Epoch 3/5\n",
            "76032/76032 [==============================] - 117s 2ms/step - loss: 9.7876 - mean_squared_error: 165.1230 - val_loss: 8.8311 - val_mean_squared_error: 127.3049\n",
            "Epoch 4/5\n",
            "76032/76032 [==============================] - 117s 2ms/step - loss: 9.8009 - mean_squared_error: 165.6078 - val_loss: 8.7863 - val_mean_squared_error: 126.4755\n",
            "Epoch 5/5\n",
            "76032/76032 [==============================] - 117s 2ms/step - loss: 9.7931 - mean_squared_error: 165.4911 - val_loss: 8.7642 - val_mean_squared_error: 125.6438\n"
          ],
          "name": "stdout"
        }
      ]
    },
    {
      "cell_type": "code",
      "metadata": {
        "colab": {
          "base_uri": "https://localhost:8080/",
          "height": 295
        },
        "id": "46z6Lnv2UB0E",
        "outputId": "74439423-cbde-4e3f-c208-cc501ddb6427"
      },
      "source": [
        "import matplotlib.pyplot as plt\n",
        "\n",
        "Epochs = 5\n",
        "train_loss = history.history['loss']\n",
        "train_accuracy = history.history['val_loss']\n",
        "\n",
        "epochs = range(Epochs)\n",
        "\n",
        "plt.figure()\n",
        "plt.plot(epochs, train_loss, 'r', label='Training loss')\n",
        "plt.plot(epochs, train_accuracy, 'bo', label='Validation loss')\n",
        "plt.title('Training and Validation Loss')\n",
        "plt.xlabel('Epoch')\n",
        "plt.ylabel('Loss Value')\n",
        "plt.ylim([5, 12])\n",
        "plt.legend()\n",
        "plt.show()"
      ],
      "execution_count": null,
      "outputs": [
        {
          "output_type": "display_data",
          "data": {
            "image/png": "[encoded data removed]",
            "text/plain": [
              "<Figure size 432x288 with 1 Axes>"
            ]
          },
          "metadata": {
            "tags": [],
            "needs_background": "light"
          }
        }
      ]
    },
    {
      "cell_type": "code",
      "metadata": {
        "colab": {
          "base_uri": "https://localhost:8080/",
          "height": 295
        },
        "id": "ILABgTMHTzEk",
        "outputId": "80b31941-43fb-4968-e6b0-be2d91d0193d"
      },
      "source": [
        "import matplotlib.pyplot as plt\n",
        "\n",
        "Epochs = 5\n",
        "train_loss = history.history['mean_squared_error']\n",
        "train_accuracy = history.history['val_mean_squared_error']\n",
        "\n",
        "epochs = range(Epochs)\n",
        "\n",
        "plt.figure()\n",
        "plt.plot(epochs, train_loss, 'r', label='Training mse')\n",
        "plt.plot(epochs, train_accuracy, 'bo', label='Validation mse')\n",
        "plt.title('Training and Validation Loss')\n",
        "plt.xlabel('Epoch')\n",
        "plt.ylabel('Loss Value')\n",
        "plt.ylim([100, 190])\n",
        "plt.legend()\n",
        "plt.show()"
      ],
      "execution_count": null,
      "outputs": [
        {
          "output_type": "display_data",
          "data": {
            "image/png": "[encoded data removed]",
            "text/plain": [
              "<Figure size 432x288 with 1 Axes>"
            ]
          },
          "metadata": {
            "tags": [],
            "needs_background": "light"
          }
        }
      ]
    },
    {
      "cell_type": "code",
      "metadata": {
        "id": "hbfeWWiicjVn"
      },
      "source": [
        ""
      ],
      "execution_count": null,
      "outputs": []
    }
  ]
}