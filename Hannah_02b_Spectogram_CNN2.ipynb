{
 "cells": [
  {
   "cell_type": "markdown",
   "metadata": {
    "colab_type": "text",
    "id": "view-in-github"
   },
   "source": [
    "<a href=\"https://colab.research.google.com/github/CSCCNY/final-project-recomposeclassics/blob/main/02_Spectogram_CNN.ipynb\" target=\"_parent\"><img src=\"https://colab.research.google.com/assets/colab-badge.svg\" alt=\"Open In Colab\"/></a>"
   ]
  },
  {
   "cell_type": "markdown",
   "metadata": {
    "id": "FmmL-F2xBABd"
   },
   "source": [
    "## Recompose Classics : **Import Data & Run CNN Model**\n",
    "Hannah Do\n",
    "\n",
    "May 10th, 2021\n",
    "\n",
    "\n",
    "\n",
    "---\n",
    "\n",
    "\n",
    "##### **Summary**\n",
    "\n",
    "1. Running **spectogram arrays** in KNN model\n",
    "\n",
    "\n",
    "2. Running **spectogram arrays** in Basic CNN model\n",
    "\n",
    "\n",
    "3. Running **spectogram arrays** in different complex CNN models\n",
    "\n",
    "---"
   ]
  },
  {
   "cell_type": "markdown",
   "metadata": {
    "id": "f8Ssu3qZCRUi"
   },
   "source": [
    "**Import saved array** - combined specto arrays from notebook 2b"
   ]
  },
  {
   "cell_type": "code",
   "execution_count": 2,
   "metadata": {
    "id": "rIbvrjFCPbXn"
   },
   "outputs": [],
   "source": [
    "import numpy as np\n",
    "import os\n",
    "import matplotlib.pyplot as plt\n",
    "\n",
    "import librosa\n",
    "import librosa.display\n",
    "\n",
    "import IPython.display as ipd\n",
    "\n",
    "import numpy as np\n",
    "import random\n",
    "\n",
    "from scipy.io.wavfile import write"
   ]
  },
  {
   "cell_type": "code",
   "execution_count": 54,
   "metadata": {
    "colab": {
     "base_uri": "https://localhost:8080/"
    },
    "id": "BzpuEP_5xLzB",
    "outputId": "97b54783-e3a8-4c9d-c23f-14963e5ac8bc"
   },
   "outputs": [
    {
     "data": {
      "text/plain": [
       "(1275, 128, 646)"
      ]
     },
     "execution_count": 54,
     "metadata": {},
     "output_type": "execute_result"
    }
   ],
   "source": [
    "x_train = np.load(\"/Users/SAMSUNG/Downloads/dnn_data/x_train.npy\")\n",
    "\n",
    "x_train.shape"
   ]
  },
  {
   "cell_type": "code",
   "execution_count": 55,
   "metadata": {},
   "outputs": [
    {
     "data": {
      "text/plain": [
       "(1275, 128, 646)"
      ]
     },
     "execution_count": 55,
     "metadata": {},
     "output_type": "execute_result"
    }
   ],
   "source": [
    "y_train = np.load(\"/Users/SAMSUNG/Downloads/dnn_data/y_train.npy\")\n",
    "\n",
    "y_train.shape"
   ]
  },
  {
   "cell_type": "code",
   "execution_count": 56,
   "metadata": {},
   "outputs": [
    {
     "data": {
      "text/plain": [
       "(158, 128, 646)"
      ]
     },
     "execution_count": 56,
     "metadata": {},
     "output_type": "execute_result"
    }
   ],
   "source": [
    "x_test = np.load(\"/Users/SAMSUNG/Downloads/dnn_data/x_test.npy\")\n",
    "\n",
    "x_test.shape"
   ]
  },
  {
   "cell_type": "code",
   "execution_count": 57,
   "metadata": {},
   "outputs": [
    {
     "data": {
      "text/plain": [
       "(158, 128, 646)"
      ]
     },
     "execution_count": 57,
     "metadata": {},
     "output_type": "execute_result"
    }
   ],
   "source": [
    "y_test = np.load(\"/Users/SAMSUNG/Downloads/dnn_data/y_test.npy\")\n",
    "\n",
    "y_test.shape"
   ]
  },
  {
   "cell_type": "code",
   "execution_count": 15,
   "metadata": {},
   "outputs": [],
   "source": [
    "# testing audio playback\n",
    "\n",
    "sr = 44100\n",
    "\n",
    "audio_path = '/Users/SAMSUNG/Downloads/yaoo2.wav'\n",
    "wav = librosa.db_to_power(y_test[1], ref=1.0)\n",
    "wav = librosa.feature.inverse.mel_to_audio (M=wav, hop_length=518, sr=sr)\n",
    "write (audio_path, sr, wav.astype(np.float32))"
   ]
  },
  {
   "cell_type": "code",
   "execution_count": null,
   "metadata": {
    "id": "BUHtzKeCwtlT",
    "outputId": "cfcaa2a1-0224-43c1-ec90-59e4ff39951a"
   },
   "outputs": [
    {
     "name": "stdout",
     "output_type": "stream",
     "text": [
      "Collecting keras\n",
      "  Downloading Keras-2.4.3-py2.py3-none-any.whl (36 kB)\n",
      "Requirement already satisfied: numpy>=1.9.1 in c:\\users\\samsung\\anaconda3\\lib\\site-packages (from keras) (1.19.2)\n",
      "Requirement already satisfied: h5py in c:\\users\\samsung\\anaconda3\\lib\\site-packages (from keras) (2.10.0)\n",
      "Requirement already satisfied: pyyaml in c:\\users\\samsung\\anaconda3\\lib\\site-packages (from keras) (5.3.1)\n",
      "Requirement already satisfied: scipy>=0.14 in c:\\users\\samsung\\anaconda3\\lib\\site-packages (from keras) (1.5.2)\n",
      "Requirement already satisfied: six in c:\\users\\samsung\\anaconda3\\lib\\site-packages (from h5py->keras) (1.15.0)\n",
      "Installing collected packages: keras\n",
      "Successfully installed keras-2.4.3\n"
     ]
    }
   ],
   "source": [
    "! pip install keras"
   ]
  },
  {
   "cell_type": "code",
   "execution_count": null,
   "metadata": {
    "id": "bpuQoOOdwtlT",
    "outputId": "0712ee0a-2d2e-4729-9bb5-e6d1cadd8168"
   },
   "outputs": [
    {
     "name": "stdout",
     "output_type": "stream",
     "text": [
      "Collecting tensorflow\n",
      "  Downloading tensorflow-2.4.1-cp38-cp38-win_amd64.whl (370.7 MB)\n",
      "Collecting absl-py~=0.10\n",
      "  Downloading absl_py-0.12.0-py3-none-any.whl (129 kB)\n",
      "Collecting protobuf>=3.9.2\n",
      "  Downloading protobuf-3.15.8-py2.py3-none-any.whl (173 kB)\n",
      "Collecting tensorflow-estimator<2.5.0,>=2.4.0\n",
      "  Downloading tensorflow_estimator-2.4.0-py2.py3-none-any.whl (462 kB)\n",
      "Collecting flatbuffers~=1.12.0\n",
      "  Downloading flatbuffers-1.12-py2.py3-none-any.whl (15 kB)\n",
      "Collecting tensorboard~=2.4\n",
      "  Downloading tensorboard-2.5.0-py3-none-any.whl (6.0 MB)\n",
      "Collecting google-pasta~=0.2\n",
      "  Downloading google_pasta-0.2.0-py3-none-any.whl (57 kB)\n",
      "Requirement already satisfied: h5py~=2.10.0 in c:\\users\\samsung\\anaconda3\\lib\\site-packages (from tensorflow) (2.10.0)\n",
      "Collecting astunparse~=1.6.3\n",
      "  Downloading astunparse-1.6.3-py2.py3-none-any.whl (12 kB)\n",
      "Collecting grpcio~=1.32.0\n",
      "  Downloading grpcio-1.32.0-cp38-cp38-win_amd64.whl (2.6 MB)\n",
      "Collecting termcolor~=1.1.0\n",
      "  Downloading termcolor-1.1.0.tar.gz (3.9 kB)\n",
      "Requirement already satisfied: typing-extensions~=3.7.4 in c:\\users\\samsung\\anaconda3\\lib\\site-packages (from tensorflow) (3.7.4.3)\n",
      "Requirement already satisfied: wheel~=0.35 in c:\\users\\samsung\\anaconda3\\lib\\site-packages (from tensorflow) (0.35.1)\n",
      "Requirement already satisfied: numpy~=1.19.2 in c:\\users\\samsung\\anaconda3\\lib\\site-packages (from tensorflow) (1.19.2)\n",
      "Collecting wrapt~=1.12.1\n",
      "  Downloading wrapt-1.12.1.tar.gz (27 kB)\n",
      "Collecting gast==0.3.3\n",
      "  Downloading gast-0.3.3-py2.py3-none-any.whl (9.7 kB)\n",
      "Collecting keras-preprocessing~=1.1.2\n",
      "  Downloading Keras_Preprocessing-1.1.2-py2.py3-none-any.whl (42 kB)\n",
      "Collecting opt-einsum~=3.3.0\n",
      "  Downloading opt_einsum-3.3.0-py3-none-any.whl (65 kB)\n",
      "Requirement already satisfied: six~=1.15.0 in c:\\users\\samsung\\anaconda3\\lib\\site-packages (from tensorflow) (1.15.0)\n",
      "Requirement already satisfied: setuptools>=41.0.0 in c:\\users\\samsung\\anaconda3\\lib\\site-packages (from tensorboard~=2.4->tensorflow) (50.3.1.post20201107)\n",
      "Collecting markdown>=2.6.8\n",
      "  Downloading Markdown-3.3.4-py3-none-any.whl (97 kB)\n",
      "Requirement already satisfied: werkzeug>=0.11.15 in c:\\users\\samsung\\anaconda3\\lib\\site-packages (from tensorboard~=2.4->tensorflow) (1.0.1)\n",
      "Requirement already satisfied: requests<3,>=2.21.0 in c:\\users\\samsung\\anaconda3\\lib\\site-packages (from tensorboard~=2.4->tensorflow) (2.24.0)\n",
      "Collecting google-auth<2,>=1.6.3\n",
      "  Downloading google_auth-1.30.0-py2.py3-none-any.whl (146 kB)\n",
      "Collecting tensorboard-plugin-wit>=1.6.0\n",
      "  Downloading tensorboard_plugin_wit-1.8.0-py3-none-any.whl (781 kB)\n",
      "Collecting google-auth-oauthlib<0.5,>=0.4.1\n",
      "  Downloading google_auth_oauthlib-0.4.4-py2.py3-none-any.whl (18 kB)\n",
      "Collecting tensorboard-data-server<0.7.0,>=0.6.0\n",
      "  Downloading tensorboard_data_server-0.6.1-py3-none-any.whl (2.4 kB)\n",
      "Requirement already satisfied: urllib3!=1.25.0,!=1.25.1,<1.26,>=1.21.1 in c:\\users\\samsung\\anaconda3\\lib\\site-packages (from requests<3,>=2.21.0->tensorboard~=2.4->tensorflow) (1.25.11)\n",
      "Requirement already satisfied: certifi>=2017.4.17 in c:\\users\\samsung\\anaconda3\\lib\\site-packages (from requests<3,>=2.21.0->tensorboard~=2.4->tensorflow) (2020.6.20)\n",
      "Requirement already satisfied: idna<3,>=2.5 in c:\\users\\samsung\\anaconda3\\lib\\site-packages (from requests<3,>=2.21.0->tensorboard~=2.4->tensorflow) (2.10)\n",
      "Requirement already satisfied: chardet<4,>=3.0.2 in c:\\users\\samsung\\anaconda3\\lib\\site-packages (from requests<3,>=2.21.0->tensorboard~=2.4->tensorflow) (3.0.4)\n",
      "Collecting pyasn1-modules>=0.2.1\n",
      "  Downloading pyasn1_modules-0.2.8-py2.py3-none-any.whl (155 kB)\n",
      "Collecting rsa<5,>=3.1.4; python_version >= \"3.6\"\n",
      "  Downloading rsa-4.7.2-py3-none-any.whl (34 kB)\n",
      "Collecting cachetools<5.0,>=2.0.0\n",
      "  Downloading cachetools-4.2.2-py3-none-any.whl (11 kB)\n",
      "Collecting requests-oauthlib>=0.7.0\n",
      "  Downloading requests_oauthlib-1.3.0-py2.py3-none-any.whl (23 kB)\n",
      "Collecting pyasn1<0.5.0,>=0.4.6\n",
      "  Downloading pyasn1-0.4.8-py2.py3-none-any.whl (77 kB)\n",
      "Collecting oauthlib>=3.0.0\n",
      "  Downloading oauthlib-3.1.0-py2.py3-none-any.whl (147 kB)\n",
      "Building wheels for collected packages: termcolor, wrapt\n",
      "  Building wheel for termcolor (setup.py): started\n",
      "  Building wheel for termcolor (setup.py): finished with status 'done'\n",
      "  Created wheel for termcolor: filename=termcolor-1.1.0-py3-none-any.whl size=4835 sha256=fb8454f2f1b4e9e2bba87a5028a3cf61aa129faa2879f53484a61f3cfd7a722b\n",
      "  Stored in directory: c:\\users\\samsung\\appdata\\local\\pip\\cache\\wheels\\a0\\16\\9c\\5473df82468f958445479c59e784896fa24f4a5fc024b0f501\n",
      "  Building wheel for wrapt (setup.py): started\n",
      "  Building wheel for wrapt (setup.py): finished with status 'done'\n",
      "  Created wheel for wrapt: filename=wrapt-1.12.1-py3-none-any.whl size=19558 sha256=9edc9594e927391f0dc1390878bb8069ac94fbf9dc2a6e9648b4500dea7f369b\n",
      "  Stored in directory: c:\\users\\samsung\\appdata\\local\\pip\\cache\\wheels\\5f\\fd\\9e\\b6cf5890494cb8ef0b5eaff72e5d55a70fb56316007d6dfe73\n",
      "Successfully built termcolor wrapt\n",
      "Installing collected packages: absl-py, protobuf, tensorflow-estimator, flatbuffers, grpcio, markdown, pyasn1, pyasn1-modules, rsa, cachetools, google-auth, tensorboard-plugin-wit, oauthlib, requests-oauthlib, google-auth-oauthlib, tensorboard-data-server, tensorboard, google-pasta, astunparse, termcolor, wrapt, gast, keras-preprocessing, opt-einsum, tensorflow\n",
      "  Attempting uninstall: wrapt\n",
      "    Found existing installation: wrapt 1.11.2\n",
      "    Uninstalling wrapt-1.11.2:\n",
      "      Successfully uninstalled wrapt-1.11.2\n",
      "Successfully installed absl-py-0.12.0 astunparse-1.6.3 cachetools-4.2.2 flatbuffers-1.12 gast-0.3.3 google-auth-1.30.0 google-auth-oauthlib-0.4.4 google-pasta-0.2.0 grpcio-1.32.0 keras-preprocessing-1.1.2 markdown-3.3.4 oauthlib-3.1.0 opt-einsum-3.3.0 protobuf-3.15.8 pyasn1-0.4.8 pyasn1-modules-0.2.8 requests-oauthlib-1.3.0 rsa-4.7.2 tensorboard-2.5.0 tensorboard-data-server-0.6.1 tensorboard-plugin-wit-1.8.0 tensorflow-2.4.1 tensorflow-estimator-2.4.0 termcolor-1.1.0 wrapt-1.12.1\n"
     ]
    }
   ],
   "source": [
    "! pip install tensorflow"
   ]
  },
  {
   "cell_type": "code",
   "execution_count": 18,
   "metadata": {
    "id": "FgH_lvXPwtlU"
   },
   "outputs": [],
   "source": [
    "import keras\n",
    "from keras.models import Sequential\n",
    "from keras.layers import Dense, Dropout, Activation, Flatten, Reshape\n",
    "from keras.layers import Conv2D, Conv2DTranspose, MaxPool2D, LeakyReLU\n",
    "from keras.utils import np_utils\n",
    "\n",
    "from keras import backend as K"
   ]
  },
  {
   "cell_type": "code",
   "execution_count": null,
   "metadata": {
    "id": "hM8oC8ER_bBp"
   },
   "outputs": [],
   "source": [
    "\n",
    "x_train = np.load(\"/content/gdrive/My Drive/Classics_DNN/numpy_files/x_train.npy\")\n",
    "y_train = np.load(\"/content/gdrive/My Drive/Classics_DNN/numpy_files/y_train.npy\")\n",
    "x_test = np.load(\"/content/gdrive/My Drive/Classics_DNN/numpy_files/x_test.npy\")\n",
    "y_test = np.load(\"/content/gdrive/My Drive/Classics_DNN/numpy_files/y_test.npy\")\n"
   ]
  },
  {
   "cell_type": "markdown",
   "metadata": {
    "id": "PrQ_3nGA_wFO"
   },
   "source": [
    "## **Implement Baseline model with KNN**\n",
    "\n",
    "Train data : 1275 images with input shape (128, 646)\n",
    "\n",
    "Test data : 158 images with input shape (128, 646)\n",
    "\n",
    "- Basic KNN model"
   ]
  },
  {
   "cell_type": "code",
   "execution_count": 58,
   "metadata": {},
   "outputs": [],
   "source": [
    "x_train_1d = x_train.reshape(-1,1)\n",
    "x_test_1d = x_test.reshape(-1,1)\n",
    "\n",
    "y_train_1d = y_train.reshape(-1,1)\n",
    "y_test_1d = y_test.reshape(-1,1)"
   ]
  },
  {
   "cell_type": "code",
   "execution_count": 60,
   "metadata": {},
   "outputs": [],
   "source": [
    "from sklearn.linear_model import LinearRegression\n",
    "\n",
    "clf = LinearRegression()\n",
    "\n",
    "clf.fit(x_train_1d, y_train_1d)\n",
    "y_pred = clf.predict(x_test_1d)\n"
   ]
  },
  {
   "cell_type": "code",
   "execution_count": 62,
   "metadata": {},
   "outputs": [
    {
     "name": "stdout",
     "output_type": "stream",
     "text": [
      "MAE: 9.343149\n",
      "MSE: 167.1632\n"
     ]
    }
   ],
   "source": [
    "from sklearn import metrics\n",
    "from sklearn.metrics import mean_absolute_error\n",
    "from sklearn.metrics import mean_squared_error\n",
    "\n",
    "print(\"MAE:\",mean_absolute_error(y_test_1d, y_pred))\n",
    "print(\"MSE:\",mean_squared_error(y_test_1d, y_pred))\n"
   ]
  },
  {
   "cell_type": "markdown",
   "metadata": {
    "id": "psCWoerr6Xie"
   },
   "source": [
    "## **First model**\n",
    "Train data : 1275 images with input shape (128, 646, 1)\n",
    "\n",
    "Test data : 158 images with input shape (128, 646, 1)\n",
    "\n",
    "- Basic CNN model with minimum parameters\n"
   ]
  },
  {
   "cell_type": "code",
   "execution_count": 17,
   "metadata": {
    "id": "duT-iFbNwtlT"
   },
   "outputs": [],
   "source": [
    "\n",
    "from keras.wrappers.scikit_learn import KerasRegressor\n",
    "from sklearn.model_selection import cross_val_score\n",
    "from sklearn.model_selection import KFold\n",
    "from sklearn.preprocessing import StandardScaler\n",
    "from sklearn.pipeline import Pipeline\n",
    "\n",
    "import numpy as np\n"
   ]
  },
  {
   "cell_type": "code",
   "execution_count": 25,
   "metadata": {},
   "outputs": [],
   "source": [
    "x_train_expanded = np.expand_dims(x_train, -1)\n",
    "y_train_expanded = np.expand_dims(y_train, -1)\n",
    "x_test_expanded = np.expand_dims(x_test, -1)\n",
    "y_test_expanded = np.expand_dims(y_test, -1)\n"
   ]
  },
  {
   "cell_type": "code",
   "execution_count": 27,
   "metadata": {
    "colab": {
     "base_uri": "https://localhost:8080/"
    },
    "id": "naCPrC2kwtlU",
    "outputId": "7a3261ec-7b06-4418-ca55-b17787d243f7"
   },
   "outputs": [
    {
     "data": {
      "text/plain": [
       "((1275, 128, 646, 1),\n",
       " (1275, 128, 646, 1),\n",
       " (158, 128, 646, 1),\n",
       " (158, 128, 646, 1))"
      ]
     },
     "execution_count": 27,
     "metadata": {},
     "output_type": "execute_result"
    }
   ],
   "source": [
    "x_train_expanded.shape, y_train_expanded.shape, x_test_expanded.shape, y_test_expanded.shape"
   ]
  },
  {
   "cell_type": "code",
   "execution_count": 20,
   "metadata": {
    "id": "lfA7PzcWwtlU"
   },
   "outputs": [],
   "source": [
    "def r2_keras(y_true, y_pred):\n",
    "    SS_res =  K.sum(K.square( y_true - y_pred )) \n",
    "    SS_tot = K.sum(K.square( y_true - K.mean(y_true) ) ) \n",
    "    return ( 1 - SS_res/(SS_tot + K.epsilon()) )"
   ]
  },
  {
   "cell_type": "code",
   "execution_count": 29,
   "metadata": {
    "colab": {
     "base_uri": "https://localhost:8080/"
    },
    "id": "IZe48yzSwtlU",
    "outputId": "d06d8b3c-62e6-41f7-c90b-00064c790677"
   },
   "outputs": [
    {
     "name": "stdout",
     "output_type": "stream",
     "text": [
      "Model: \"sequential_2\"\n",
      "_________________________________________________________________\n",
      "Layer (type)                 Output Shape              Param #   \n",
      "=================================================================\n",
      "conv2d_2 (Conv2D)            (None, 128, 646, 1)       10        \n",
      "_________________________________________________________________\n",
      "max_pooling2d_1 (MaxPooling2 (None, 64, 323, 1)        0         \n",
      "_________________________________________________________________\n",
      "dropout_1 (Dropout)          (None, 64, 323, 1)        0         \n",
      "_________________________________________________________________\n",
      "conv2d_transpose_1 (Conv2DTr (None, 128, 646, 1)       17        \n",
      "_________________________________________________________________\n",
      "leaky_re_lu_1 (LeakyReLU)    (None, 128, 646, 1)       0         \n",
      "_________________________________________________________________\n",
      "dense_1 (Dense)              (None, 128, 646, 1)       2         \n",
      "=================================================================\n",
      "Total params: 29\n",
      "Trainable params: 29\n",
      "Non-trainable params: 0\n",
      "_________________________________________________________________\n"
     ]
    }
   ],
   "source": [
    "\n",
    "model = Sequential()\n",
    "\n",
    "model.add(Conv2D(1, kernel_size=(3,3), strides=(1,1), padding='same', activation='relu', input_shape=(128, 646, 1)))\n",
    "\n",
    "model.add(MaxPool2D(pool_size=(2,2)))\n",
    "model.add(Dropout(0.25))\n",
    "\n",
    "model.add(Conv2DTranspose(1, (4,4), strides=(2,2), padding='same'))\n",
    "model.add(LeakyReLU(alpha=0.2))\n",
    "\n",
    "# output layer\n",
    "model.add(Dense(1, activation='linear'))\n",
    "\n",
    "model.summary()"
   ]
  },
  {
   "cell_type": "code",
   "execution_count": 32,
   "metadata": {
    "colab": {
     "base_uri": "https://localhost:8080/"
    },
    "id": "XgGk2QNvwtlU",
    "outputId": "5e3e5a2f-c14c-4205-f8a6-a36117f6474f"
   },
   "outputs": [
    {
     "name": "stdout",
     "output_type": "stream",
     "text": [
      "Epoch 1/10\n",
      "40/40 [==============================] - 11s 272ms/step - loss: 1891.4437 - mae: 37.2413 - val_loss: 1325.6895 - val_mae: 29.6167\n",
      "Epoch 2/10\n",
      "40/40 [==============================] - 11s 272ms/step - loss: 1343.1047 - mae: 29.2490 - val_loss: 782.9340 - val_mae: 21.8485\n",
      "Epoch 3/10\n",
      "40/40 [==============================] - 11s 278ms/step - loss: 872.1330 - mae: 22.6594 - val_loss: 402.6711 - val_mae: 15.1970\n",
      "Epoch 4/10\n",
      "40/40 [==============================] - 11s 278ms/step - loss: 610.2521 - mae: 18.4817 - val_loss: 262.7296 - val_mae: 12.3343\n",
      "Epoch 5/10\n",
      "40/40 [==============================] - 11s 278ms/step - loss: 494.7248 - mae: 16.3199 - val_loss: 223.5286 - val_mae: 11.4103\n",
      "Epoch 6/10\n",
      "40/40 [==============================] - 11s 282ms/step - loss: 434.5436 - mae: 15.0866 - val_loss: 209.8755 - val_mae: 11.0297\n",
      "Epoch 7/10\n",
      "40/40 [==============================] - 12s 299ms/step - loss: 404.1499 - mae: 14.6664 - val_loss: 204.0379 - val_mae: 10.8490\n",
      "Epoch 8/10\n",
      "40/40 [==============================] - 12s 292ms/step - loss: 378.6004 - mae: 14.3200 - val_loss: 199.9163 - val_mae: 10.7093\n",
      "Epoch 9/10\n",
      "40/40 [==============================] - 12s 293ms/step - loss: 362.9328 - mae: 14.0728 - val_loss: 197.3145 - val_mae: 10.6179\n",
      "Epoch 10/10\n",
      "40/40 [==============================] - 12s 293ms/step - loss: 346.7894 - mae: 13.8106 - val_loss: 194.3996 - val_mae: 10.5101\n"
     ]
    }
   ],
   "source": [
    "# compiling the sequential model\n",
    "model.compile(loss='mse', metrics=['mae'], optimizer='adam')\n",
    "\n",
    "# training the model for 10 epochs\n",
    "history = model.fit(y_train_expanded, y_train_expanded, epochs=10, validation_data=(x_test_expanded, y_test_expanded))\n"
   ]
  },
  {
   "cell_type": "code",
   "execution_count": 33,
   "metadata": {
    "colab": {
     "base_uri": "https://localhost:8080/",
     "height": 295
    },
    "id": "Tt9CGdwJKGh9",
    "outputId": "848a2820-6969-4332-e124-19f0c1224ac7"
   },
   "outputs": [
    {
     "data": {
      "image/png": "[encoded data removed]",
      "text/plain": [
       "<Figure size 432x288 with 1 Axes>"
      ]
     },
     "metadata": {
      "needs_background": "light"
     },
     "output_type": "display_data"
    }
   ],
   "source": [
    "import matplotlib.pyplot as plt\n",
    "\n",
    "epochs = 10\n",
    "train_loss = history.history['loss']\n",
    "val_loss = history.history['val_loss']\n",
    "\n",
    "epochs = range(epochs)\n",
    "\n",
    "plt.figure()\n",
    "plt.plot(epochs, train_loss, 'r', label='Training loss')\n",
    "plt.plot(epochs, val_loss, 'b', label='Validation loss')\n",
    "plt.title('Training and Validation Loss')\n",
    "plt.xlabel('Epoch')\n",
    "plt.ylabel('Loss Value')\n",
    "\n",
    "plt.legend()\n",
    "plt.show()"
   ]
  },
  {
   "cell_type": "markdown",
   "metadata": {
    "id": "u_bpK6bL7woI"
   },
   "source": [
    "- Here we can see the **steady decrease in loss value** for both train and validation data - can run for more epochs with higher learning rate"
   ]
  },
  {
   "cell_type": "markdown",
   "metadata": {
    "id": "rjq7HhC_8Q8T"
   },
   "source": [
    "## **Second model**\n",
    "Train data : 1275 images with input shape (128, 646, 1)\n",
    "\n",
    "Test data : 158 images with input shape (128, 646, 1)\n",
    "\n",
    "- Slightly developed CNN model with more Convolution layers, LeakyRelu and additional nodes.\n"
   ]
  },
  {
   "cell_type": "code",
   "execution_count": 45,
   "metadata": {
    "colab": {
     "base_uri": "https://localhost:8080/"
    },
    "id": "v_W6oW6D9wsg",
    "outputId": "92d4ade8-1284-4c84-9c01-4f6465864aa1"
   },
   "outputs": [
    {
     "name": "stdout",
     "output_type": "stream",
     "text": [
      "Model: \"sequential_12\"\n",
      "_________________________________________________________________\n",
      "Layer (type)                 Output Shape              Param #   \n",
      "=================================================================\n",
      "conv2d_41 (Conv2D)           (None, 128, 646, 1)       10        \n",
      "_________________________________________________________________\n",
      "conv2d_42 (Conv2D)           (None, 128, 646, 5)       50        \n",
      "_________________________________________________________________\n",
      "conv2d_transpose_29 (Conv2DT (None, 256, 1292, 25)     2025      \n",
      "_________________________________________________________________\n",
      "leaky_re_lu_31 (LeakyReLU)   (None, 256, 1292, 25)     0         \n",
      "_________________________________________________________________\n",
      "conv2d_43 (Conv2D)           (None, 256, 1292, 5)      130       \n",
      "_________________________________________________________________\n",
      "max_pooling2d_26 (MaxPooling (None, 256, 1292, 5)      0         \n",
      "_________________________________________________________________\n",
      "conv2d_44 (Conv2D)           (None, 256, 1292, 5)      230       \n",
      "_________________________________________________________________\n",
      "max_pooling2d_27 (MaxPooling (None, 128, 646, 5)       0         \n",
      "_________________________________________________________________\n",
      "conv2d_transpose_30 (Conv2DT (None, 256, 1292, 25)     2025      \n",
      "_________________________________________________________________\n",
      "leaky_re_lu_32 (LeakyReLU)   (None, 256, 1292, 25)     0         \n",
      "_________________________________________________________________\n",
      "conv2d_45 (Conv2D)           (None, 128, 646, 5)       2005      \n",
      "_________________________________________________________________\n",
      "leaky_re_lu_33 (LeakyReLU)   (None, 128, 646, 5)       0         \n",
      "_________________________________________________________________\n",
      "dropout_11 (Dropout)         (None, 128, 646, 5)       0         \n",
      "_________________________________________________________________\n",
      "dense_11 (Dense)             (None, 128, 646, 1)       6         \n",
      "=================================================================\n",
      "Total params: 6,481\n",
      "Trainable params: 6,481\n",
      "Non-trainable params: 0\n",
      "_________________________________________________________________\n"
     ]
    }
   ],
   "source": [
    "\n",
    "model2 = Sequential()\n",
    "\n",
    "model2.add(Conv2D(1, kernel_size=(3,3), strides=(1,1), padding='same', activation='relu', input_shape=(128, 646, 1)))\n",
    "\n",
    "# convolutional layer\n",
    "model2.add(Conv2D(5, kernel_size=(3,3), strides=(1,1), padding='same', activation='relu'))\n",
    "\n",
    "model2.add(Conv2DTranspose(25, (4,4), strides=(2,2), padding='same'))\n",
    "model2.add(LeakyReLU(alpha=0.2))\n",
    "\n",
    "model2.add(Conv2D(5, kernel_size=(1,1), strides=(1,1), padding='same', activation='relu'))\n",
    "model2.add(MaxPool2D(pool_size=(1,1)))\n",
    "\n",
    "model2.add(Conv2D(5, kernel_size=(3,3), strides=(1,1), padding='same', activation='relu'))\n",
    "model2.add(MaxPool2D(pool_size=(2,2)))\n",
    "\n",
    "model2.add(Conv2DTranspose(25, (4,4), strides=(2,2), padding='same'))\n",
    "model2.add(LeakyReLU(alpha=0.2))\n",
    "\n",
    "model2.add(Conv2D(5, (4,4), strides=(2,2), padding='same'))\n",
    "model2.add(LeakyReLU(alpha=0.2))\n",
    "\n",
    "model2.add(Dropout(0.25))\n",
    "\n",
    "model2.add(Dense(1, activation='linear'))\n",
    "\n",
    "model2.summary()"
   ]
  },
  {
   "cell_type": "code",
   "execution_count": 46,
   "metadata": {
    "colab": {
     "base_uri": "https://localhost:8080/"
    },
    "id": "ZlltwgunBiI4",
    "outputId": "40994c8b-855c-4ca8-cb07-eb53fe3c9c23"
   },
   "outputs": [
    {
     "name": "stdout",
     "output_type": "stream",
     "text": [
      "Epoch 1/10\n",
      "40/40 [==============================] - 356s 9s/step - loss: 1518.7571 - mae: 31.9691 - val_loss: 179.3926 - val_mae: 9.4136\n",
      "Epoch 2/10\n",
      "40/40 [==============================] - 360s 9s/step - loss: 272.6899 - mae: 12.4266 - val_loss: 167.1715 - val_mae: 9.2123\n",
      "Epoch 3/10\n",
      "40/40 [==============================] - 361s 9s/step - loss: 201.2751 - mae: 10.4707 - val_loss: 168.3311 - val_mae: 9.3440\n",
      "Epoch 4/10\n",
      "40/40 [==============================] - 359s 9s/step - loss: 183.6387 - mae: 9.8204 - val_loss: 169.8376 - val_mae: 9.3744\n",
      "Epoch 5/10\n",
      "40/40 [==============================] - 365s 9s/step - loss: 181.4617 - mae: 9.6141 - val_loss: 171.7438 - val_mae: 9.4252\n",
      "Epoch 6/10\n",
      "40/40 [==============================] - 361s 9s/step - loss: 178.1789 - mae: 9.4350 - val_loss: 173.4222 - val_mae: 9.4640\n",
      "Epoch 7/10\n",
      "40/40 [==============================] - 357s 9s/step - loss: 176.4481 - mae: 9.3358 - val_loss: 175.0900 - val_mae: 9.5245\n",
      "Epoch 8/10\n",
      "40/40 [==============================] - 358s 9s/step - loss: 174.6978 - mae: 9.2463 - val_loss: 175.5784 - val_mae: 9.5317\n",
      "Epoch 9/10\n",
      "40/40 [==============================] - 364s 9s/step - loss: 175.3409 - mae: 9.2295 - val_loss: 176.4449 - val_mae: 9.5381\n",
      "Epoch 10/10\n",
      "40/40 [==============================] - 362s 9s/step - loss: 172.7893 - mae: 9.1445 - val_loss: 177.1749 - val_mae: 9.5556\n"
     ]
    }
   ],
   "source": [
    "# compiling the sequential model\n",
    "model2.compile(loss='mse', metrics=['mae'], optimizer='adam')\n",
    "\n",
    "# training the model\n",
    "history2 = model2.fit(y_train_expanded, y_train_expanded, epochs=10, validation_data=(x_test_expanded, y_test_expanded))\n"
   ]
  },
  {
   "cell_type": "code",
   "execution_count": 49,
   "metadata": {
    "colab": {
     "base_uri": "https://localhost:8080/",
     "height": 295
    },
    "id": "pfD4WEoUKkZw",
    "outputId": "707a3fdd-df1b-4726-a8ab-04e554ded215"
   },
   "outputs": [
    {
     "data": {
      "image/png": "[encoded data removed]",
      "text/plain": [
       "<Figure size 432x288 with 1 Axes>"
      ]
     },
     "metadata": {
      "needs_background": "light"
     },
     "output_type": "display_data"
    }
   ],
   "source": [
    "import matplotlib.pyplot as plt\n",
    "\n",
    "epochs = 10\n",
    "train_loss2 = history2.history['mae']\n",
    "val_loss2 = history2.history['val_mae']\n",
    "\n",
    "epochs = range(epochs)\n",
    "\n",
    "plt.figure()\n",
    "plt.plot(epochs, train_loss2, 'r', label='Training loss')\n",
    "plt.plot(epochs, val_loss2, 'b', label='Validation loss')\n",
    "plt.title('Training and Validation Loss')\n",
    "plt.xlabel('Epoch')\n",
    "plt.ylabel('Loss Value')\n",
    "plt.legend()\n",
    "plt.show()"
   ]
  },
  {
   "cell_type": "markdown",
   "metadata": {
    "id": "caz5roOg9pD9"
   },
   "source": [
    "- We can see the **training and validation loss reaching its optimum at epoch five**. Training loss may continue to steadily decrease, but the model training needs to stop early at epoch five for generalization trade-off. Also the loss scores are much lower than the First Model."
   ]
  },
  {
   "cell_type": "markdown",
   "metadata": {
    "id": "Uf2u5dMk-boM"
   },
   "source": [
    "## **Third model**\n",
    "Train data : 1275 images with input shape (128, 646, 1)\n",
    "\n",
    "Test data : 158 images with input shape (128, 646, 1)\n",
    "\n",
    "\n",
    "- Complex CNN model with more Conv layers, MaxPooling, LeakyRelu and additional nodes."
   ]
  },
  {
   "cell_type": "code",
   "execution_count": null,
   "metadata": {
    "colab": {
     "base_uri": "https://localhost:8080/"
    },
    "id": "xsKAvvTWkBlh",
    "outputId": "04d02eab-151d-4ec5-ef1a-73e7f83f479e"
   },
   "outputs": [
    {
     "name": "stdout",
     "output_type": "stream",
     "text": [
      "Model: \"sequential_15\"\n",
      "_________________________________________________________________\n",
      "Layer (type)                 Output Shape              Param #   \n",
      "=================================================================\n",
      "conv2d_46 (Conv2D)           (None, 400, 400, 25)      700       \n",
      "_________________________________________________________________\n",
      "conv2d_47 (Conv2D)           (None, 400, 400, 35)      7910      \n",
      "_________________________________________________________________\n",
      "max_pooling2d_35 (MaxPooling (None, 200, 200, 35)      0         \n",
      "_________________________________________________________________\n",
      "conv2d_48 (Conv2D)           (None, 200, 200, 125)     39500     \n",
      "_________________________________________________________________\n",
      "max_pooling2d_36 (MaxPooling (None, 100, 100, 125)     0         \n",
      "_________________________________________________________________\n",
      "conv2d_49 (Conv2D)           (None, 100, 100, 5)       5630      \n",
      "_________________________________________________________________\n",
      "max_pooling2d_37 (MaxPooling (None, 50, 50, 5)         0         \n",
      "_________________________________________________________________\n",
      "conv2d_transpose_35 (Conv2DT (None, 100, 100, 25)      2025      \n",
      "_________________________________________________________________\n",
      "leaky_re_lu_35 (LeakyReLU)   (None, 100, 100, 25)      0         \n",
      "_________________________________________________________________\n",
      "conv2d_transpose_36 (Conv2DT (None, 200, 200, 75)      30075     \n",
      "_________________________________________________________________\n",
      "leaky_re_lu_36 (LeakyReLU)   (None, 200, 200, 75)      0         \n",
      "_________________________________________________________________\n",
      "conv2d_transpose_37 (Conv2DT (None, 400, 400, 25)      30025     \n",
      "_________________________________________________________________\n",
      "leaky_re_lu_37 (LeakyReLU)   (None, 400, 400, 25)      0         \n",
      "_________________________________________________________________\n",
      "dropout_14 (Dropout)         (None, 400, 400, 25)      0         \n",
      "_________________________________________________________________\n",
      "dense_14 (Dense)             (None, 400, 400, 3)       78        \n",
      "=================================================================\n",
      "Total params: 115,943\n",
      "Trainable params: 115,943\n",
      "Non-trainable params: 0\n",
      "_________________________________________________________________\n"
     ]
    }
   ],
   "source": [
    "\n",
    "model3 = Sequential()\n",
    "\n",
    "model3.add(Conv2D(25, kernel_size=(3,3), strides=(1,1), padding='same', activation='relu', input_shape=(400, 400, 3)))\n",
    "\n",
    "# convolutional layer\n",
    "model3.add(Conv2D(35, kernel_size=(3,3), strides=(1,1), padding='same', activation='relu'))\n",
    "model3.add(MaxPool2D(pool_size=(2,2)))\n",
    "\n",
    "model3.add(Conv2D(125, kernel_size=(3,3), strides=(1,1), padding='same', activation='relu'))\n",
    "model3.add(MaxPool2D(pool_size=(2,2)))\n",
    "\n",
    "model3.add(Conv2D(5, kernel_size=(3,3), strides=(1,1), padding='same', activation='relu'))\n",
    "model3.add(MaxPool2D(pool_size=(2,2)))\n",
    "\n",
    "model3.add(Conv2DTranspose(25, (4,4), strides=(2,2), padding='same'))\n",
    "model3.add(LeakyReLU(alpha=0.2))\n",
    "\n",
    "model3.add(Conv2DTranspose(75, (4,4), strides=(2,2), padding='same'))\n",
    "model3.add(LeakyReLU(alpha=0.2))\n",
    "\n",
    "model3.add(Conv2DTranspose(25, (4,4), strides=(2,2), padding='same'))\n",
    "model3.add(LeakyReLU(alpha=0.2))\n",
    "model3.add(Dropout(0.25))\n",
    "\n",
    "# output layer\n",
    "model3.add(Dense(3, activation='linear'))\n",
    "\n",
    "model3.summary()"
   ]
  },
  {
   "cell_type": "code",
   "execution_count": null,
   "metadata": {
    "colab": {
     "base_uri": "https://localhost:8080/"
    },
    "id": "4OatjB3ykSr5",
    "outputId": "98943d3e-4e62-4b6b-da02-bd77ffcb204c"
   },
   "outputs": [
    {
     "name": "stdout",
     "output_type": "stream",
     "text": [
      "Epoch 1/10\n",
      "25/25 [==============================] - 37s 1s/step - loss: 8883.9285 - mae: 69.7675 - val_loss: 2031.8120 - val_mae: 32.7406\n",
      "Epoch 2/10\n",
      "25/25 [==============================] - 36s 1s/step - loss: 2793.9058 - mae: 38.6536 - val_loss: 1926.8600 - val_mae: 32.0347\n",
      "Epoch 3/10\n",
      "25/25 [==============================] - 36s 1s/step - loss: 2590.3262 - mae: 36.8981 - val_loss: 2042.5693 - val_mae: 33.0566\n",
      "Epoch 4/10\n",
      "25/25 [==============================] - 36s 1s/step - loss: 2567.2602 - mae: 36.6846 - val_loss: 1901.7072 - val_mae: 31.9877\n",
      "Epoch 5/10\n",
      "25/25 [==============================] - 36s 1s/step - loss: 2442.4722 - mae: 35.8136 - val_loss: 1812.7029 - val_mae: 31.3581\n",
      "Epoch 6/10\n",
      "25/25 [==============================] - 36s 1s/step - loss: 2289.7017 - mae: 34.7733 - val_loss: 1833.2859 - val_mae: 31.7062\n",
      "Epoch 7/10\n",
      "25/25 [==============================] - 36s 1s/step - loss: 2265.1343 - mae: 34.5010 - val_loss: 1648.5397 - val_mae: 28.8727\n",
      "Epoch 8/10\n",
      "25/25 [==============================] - 36s 1s/step - loss: 2107.4228 - mae: 32.7472 - val_loss: 1612.3076 - val_mae: 28.5087\n",
      "Epoch 9/10\n",
      "25/25 [==============================] - 36s 1s/step - loss: 2062.3973 - mae: 32.1398 - val_loss: 1609.9835 - val_mae: 28.5952\n",
      "Epoch 10/10\n",
      "25/25 [==============================] - 36s 1s/step - loss: 2038.0656 - mae: 31.9185 - val_loss: 1589.5121 - val_mae: 27.4824\n"
     ]
    }
   ],
   "source": [
    "# compiling the sequential model\n",
    "model3.compile(loss='mse', metrics=['mae'], optimizer='adam')\n",
    "\n",
    "# training the model\n",
    "history3= model3.fit(x_train3, y_train3, epochs=10, validation_data=(x_test3, y_test3))"
   ]
  },
  {
   "cell_type": "code",
   "execution_count": null,
   "metadata": {
    "colab": {
     "base_uri": "https://localhost:8080/",
     "height": 295
    },
    "id": "IHbA5e-QwC3I",
    "outputId": "80cc98e9-f6a2-471c-9f47-6befddbbf776"
   },
   "outputs": [
    {
     "data": {
      "image/png": "[encoded data removed]",
      "text/plain": [
       "<Figure size 432x288 with 1 Axes>"
      ]
     },
     "metadata": {
      "needs_background": "light",
      "tags": []
     },
     "output_type": "display_data"
    }
   ],
   "source": [
    "import matplotlib.pyplot as plt\n",
    "\n",
    "epochs = 10\n",
    "train_loss3 = history3.history['mae']\n",
    "val_loss3 = history3.history['val_mae']\n",
    "\n",
    "epochs = range(epochs)\n",
    "\n",
    "plt.figure()\n",
    "plt.plot(epochs, train_loss3, 'r', label='Training loss')\n",
    "plt.plot(epochs, val_loss3, 'b', label='Validation loss')\n",
    "plt.title('Training and Validation Loss')\n",
    "plt.xlabel('Epoch')\n",
    "plt.ylabel('Loss Value')\n",
    "\n",
    "plt.legend()\n",
    "plt.show()"
   ]
  },
  {
   "cell_type": "markdown",
   "metadata": {
    "id": "7faPzl7yA0pM"
   },
   "source": [
    "- Model three shows **the lowest error rate** compared to the previous models. The graph also shows possibility of improvement if more epochs are run."
   ]
  },
  {
   "cell_type": "markdown",
   "metadata": {
    "id": "OmWPH1y4DjG8"
   },
   "source": [
    "## **Fourth model**\n",
    "Train data : 1275 images with input shape (128, 646, 1)\n",
    "\n",
    "Test data : 158 images with input shape (128, 646, 1)\n",
    "\n",
    "\n",
    "- Complex CNN model with more Conv layers, MaxPooling, LeakyRelu and additional nodes - Same model as Model Three\n",
    "- Changed **learning rate of Adam optimizer to 0.1 & 0.05**"
   ]
  },
  {
   "cell_type": "code",
   "execution_count": null,
   "metadata": {
    "id": "cG7zXUos1upf"
   },
   "outputs": [],
   "source": [
    "import tensorflow as tf"
   ]
  },
  {
   "cell_type": "code",
   "execution_count": null,
   "metadata": {
    "colab": {
     "base_uri": "https://localhost:8080/"
    },
    "id": "NFqt6bxJuMEP",
    "outputId": "a7eadcd9-38fb-48f2-ccdd-ecbea316ceae"
   },
   "outputs": [
    {
     "name": "stdout",
     "output_type": "stream",
     "text": [
      "Model: \"sequential_19\"\n",
      "_________________________________________________________________\n",
      "Layer (type)                 Output Shape              Param #   \n",
      "=================================================================\n",
      "conv2d_62 (Conv2D)           (None, 400, 400, 25)      700       \n",
      "_________________________________________________________________\n",
      "conv2d_63 (Conv2D)           (None, 400, 400, 35)      7910      \n",
      "_________________________________________________________________\n",
      "max_pooling2d_47 (MaxPooling (None, 200, 200, 35)      0         \n",
      "_________________________________________________________________\n",
      "conv2d_64 (Conv2D)           (None, 200, 200, 125)     39500     \n",
      "_________________________________________________________________\n",
      "max_pooling2d_48 (MaxPooling (None, 100, 100, 125)     0         \n",
      "_________________________________________________________________\n",
      "conv2d_65 (Conv2D)           (None, 100, 100, 5)       5630      \n",
      "_________________________________________________________________\n",
      "max_pooling2d_49 (MaxPooling (None, 50, 50, 5)         0         \n",
      "_________________________________________________________________\n",
      "conv2d_transpose_47 (Conv2DT (None, 100, 100, 25)      2025      \n",
      "_________________________________________________________________\n",
      "leaky_re_lu_47 (LeakyReLU)   (None, 100, 100, 25)      0         \n",
      "_________________________________________________________________\n",
      "conv2d_transpose_48 (Conv2DT (None, 200, 200, 75)      30075     \n",
      "_________________________________________________________________\n",
      "leaky_re_lu_48 (LeakyReLU)   (None, 200, 200, 75)      0         \n",
      "_________________________________________________________________\n",
      "conv2d_transpose_49 (Conv2DT (None, 400, 400, 25)      30025     \n",
      "_________________________________________________________________\n",
      "leaky_re_lu_49 (LeakyReLU)   (None, 400, 400, 25)      0         \n",
      "_________________________________________________________________\n",
      "dropout_18 (Dropout)         (None, 400, 400, 25)      0         \n",
      "_________________________________________________________________\n",
      "dense_18 (Dense)             (None, 400, 400, 3)       78        \n",
      "=================================================================\n",
      "Total params: 115,943\n",
      "Trainable params: 115,943\n",
      "Non-trainable params: 0\n",
      "_________________________________________________________________\n"
     ]
    }
   ],
   "source": [
    "\n",
    "model4 = Sequential()\n",
    "\n",
    "model4.add(Conv2D(25, kernel_size=(3,3), strides=(1,1), padding='same', activation='relu', input_shape=(400, 400, 3)))\n",
    "\n",
    "# convolutional layer\n",
    "model4.add(Conv2D(35, kernel_size=(3,3), strides=(1,1), padding='same', activation='relu'))\n",
    "model4.add(MaxPool2D(pool_size=(2,2)))\n",
    "\n",
    "model4.add(Conv2D(125, kernel_size=(3,3), strides=(1,1), padding='same', activation='relu'))\n",
    "model4.add(MaxPool2D(pool_size=(2,2)))\n",
    "\n",
    "model4.add(Conv2D(5, kernel_size=(3,3), strides=(1,1), padding='same', activation='relu'))\n",
    "model4.add(MaxPool2D(pool_size=(2,2)))\n",
    "\n",
    "model4.add(Conv2DTranspose(25, (4,4), strides=(2,2), padding='same'))\n",
    "model4.add(LeakyReLU(alpha=0.2))\n",
    "\n",
    "model4.add(Conv2DTranspose(75, (4,4), strides=(2,2), padding='same'))\n",
    "model4.add(LeakyReLU(alpha=0.2))\n",
    "\n",
    "model4.add(Conv2DTranspose(25, (4,4), strides=(2,2), padding='same'))\n",
    "model4.add(LeakyReLU(alpha=0.2))\n",
    "model4.add(Dropout(0.25))\n",
    "\n",
    "# output layer\n",
    "model4.add(Dense(3, activation='linear'))\n",
    "\n",
    "model4.summary()\n"
   ]
  },
  {
   "cell_type": "code",
   "execution_count": null,
   "metadata": {
    "colab": {
     "base_uri": "https://localhost:8080/"
    },
    "id": "R-268JJ0DBik",
    "outputId": "9da9e418-490a-46c3-e2d5-872232eda890"
   },
   "outputs": [
    {
     "name": "stdout",
     "output_type": "stream",
     "text": [
      "Epoch 1/10\n",
      "25/25 [==============================] - 37s 1s/step - loss: 17410294063082.2266 - mae: 1144152.8589 - val_loss: 31708.4141 - val_mae: 142.8952\n",
      "Epoch 2/10\n",
      "25/25 [==============================] - 35s 1s/step - loss: 52047.9129 - mae: 179.4537 - val_loss: 45263.4102 - val_mae: 168.0824\n",
      "Epoch 3/10\n",
      "25/25 [==============================] - 35s 1s/step - loss: 66275.7447 - mae: 203.0670 - val_loss: 45997.6641 - val_mae: 169.6146\n",
      "Epoch 4/10\n",
      "25/25 [==============================] - 35s 1s/step - loss: 66491.9853 - mae: 203.7541 - val_loss: 45064.7305 - val_mae: 168.1775\n",
      "Epoch 5/10\n",
      "25/25 [==============================] - 35s 1s/step - loss: 64855.4316 - mae: 201.3384 - val_loss: 43887.3594 - val_mae: 166.3047\n",
      "Epoch 6/10\n",
      "25/25 [==============================] - 35s 1s/step - loss: 63063.0273 - mae: 198.9464 - val_loss: 42617.9844 - val_mae: 164.2561\n",
      "Epoch 7/10\n",
      "25/25 [==============================] - 35s 1s/step - loss: 60973.1056 - mae: 195.9133 - val_loss: 41291.2305 - val_mae: 162.0835\n",
      "Epoch 8/10\n",
      "25/25 [==============================] - 35s 1s/step - loss: 58920.5443 - mae: 192.8821 - val_loss: 39925.8008 - val_mae: 159.8104\n",
      "Epoch 9/10\n",
      "25/25 [==============================] - 35s 1s/step - loss: 56697.7864 - mae: 189.4748 - val_loss: 38539.3242 - val_mae: 157.4604\n",
      "Epoch 10/10\n",
      "25/25 [==============================] - 35s 1s/step - loss: 54526.1669 - mae: 186.2227 - val_loss: 37144.2109 - val_mae: 155.0518\n"
     ]
    }
   ],
   "source": [
    "opt = tf.keras.optimizers.Adam(learning_rate=0.1)\n",
    "model4.compile(loss='mse', metrics=['mae'], optimizer=opt)\n",
    "\n",
    "# training the model\n",
    "history4 = model4.fit(x_train3, y_train3, epochs=10, validation_data=(x_test3, y_test3))"
   ]
  },
  {
   "cell_type": "code",
   "execution_count": null,
   "metadata": {
    "colab": {
     "base_uri": "https://localhost:8080/"
    },
    "id": "klH85OhkD12E",
    "outputId": "29437923-34bc-4306-98f5-30621e0846e2"
   },
   "outputs": [
    {
     "name": "stdout",
     "output_type": "stream",
     "text": [
      "Epoch 1/10\n",
      "25/25 [==============================] - 37s 1s/step - loss: 200243869536.3535 - mae: 111238.9880 - val_loss: 15046.6230 - val_mae: 100.8412\n",
      "Epoch 2/10\n",
      "25/25 [==============================] - 35s 1s/step - loss: 16222.8505 - mae: 105.0229 - val_loss: 15397.8350 - val_mae: 103.0372\n",
      "Epoch 3/10\n",
      "25/25 [==============================] - 35s 1s/step - loss: 16526.2719 - mae: 106.3226 - val_loss: 15275.7129 - val_mae: 102.1564\n",
      "Epoch 4/10\n",
      "25/25 [==============================] - 35s 1s/step - loss: 16627.2723 - mae: 106.3349 - val_loss: 15090.1436 - val_mae: 100.8404\n",
      "Epoch 5/10\n",
      "25/25 [==============================] - 35s 1s/step - loss: 16279.4271 - mae: 104.7442 - val_loss: 14936.8906 - val_mae: 99.7527\n",
      "Epoch 6/10\n",
      "25/25 [==============================] - 35s 1s/step - loss: 15884.6123 - mae: 102.4978 - val_loss: 14861.7871 - val_mae: 99.2979\n",
      "Epoch 7/10\n",
      "25/25 [==============================] - 35s 1s/step - loss: 15652.4796 - mae: 101.1886 - val_loss: 14820.8164 - val_mae: 99.1026\n",
      "Epoch 8/10\n",
      "25/25 [==============================] - 35s 1s/step - loss: 15837.5427 - mae: 102.1917 - val_loss: 14792.4863 - val_mae: 98.9951\n",
      "Epoch 9/10\n",
      "25/25 [==============================] - 35s 1s/step - loss: 15886.0015 - mae: 102.4217 - val_loss: 14767.0918 - val_mae: 98.9064\n",
      "Epoch 10/10\n",
      "25/25 [==============================] - 35s 1s/step - loss: 15558.8880 - mae: 100.9992 - val_loss: 14741.7686 - val_mae: 98.8186\n"
     ]
    }
   ],
   "source": [
    "opt = tf.keras.optimizers.Adam(learning_rate=0.05)\n",
    "model4.compile(loss='mse', metrics=['mae'], optimizer=opt)\n",
    "\n",
    "# training the model\n",
    "history4 = model4.fit(x_train3, y_train3, epochs=10, validation_data=(x_test3, y_test3))"
   ]
  },
  {
   "cell_type": "code",
   "execution_count": null,
   "metadata": {
    "colab": {
     "base_uri": "https://localhost:8080/",
     "height": 295
    },
    "id": "3dm5HvocwGUJ",
    "outputId": "00e9b24d-1a91-4bc2-8aea-444bd2935b2e"
   },
   "outputs": [
    {
     "data": {
      "image/png": "[encoded data removed]",
      "text/plain": [
       "<Figure size 432x288 with 1 Axes>"
      ]
     },
     "metadata": {
      "needs_background": "light",
      "tags": []
     },
     "output_type": "display_data"
    }
   ],
   "source": [
    "import matplotlib.pyplot as plt\n",
    "\n",
    "epochs = 10\n",
    "train_loss4 = history4.history['mae']\n",
    "val_loss4 = history4.history['val_mae']\n",
    "\n",
    "epochs = range(epochs)\n",
    "\n",
    "plt.figure()\n",
    "plt.plot(epochs, train_loss4, 'r', label='Training loss')\n",
    "plt.plot(epochs, val_loss4, 'b', label='Validation loss')\n",
    "plt.title('Training and Validation Loss')\n",
    "plt.xlabel('Epoch')\n",
    "plt.ylabel('Loss Value')\n",
    "plt.ylim([90, 105])\n",
    "plt.xlim([0, 10])\n",
    "plt.legend()\n",
    "plt.show()"
   ]
  },
  {
   "cell_type": "markdown",
   "metadata": {
    "id": "a6YWvX-3GW1z"
   },
   "source": [
    "- It looks like default adam optimizer learning rate - smaller size than 0.1 or 0.05 - worked much better than Model Four - which performed poorly here."
   ]
  },
  {
   "cell_type": "markdown",
   "metadata": {
    "id": "BSj5Nf-7IM3E"
   },
   "source": [
    "## **Combined Train and Validation graphs** from Previous Models"
   ]
  },
  {
   "cell_type": "code",
   "execution_count": null,
   "metadata": {
    "colab": {
     "base_uri": "https://localhost:8080/",
     "height": 295
    },
    "id": "3Q2881ep5kAG",
    "outputId": "16276170-4190-4329-92f0-46faee1dd074"
   },
   "outputs": [
    {
     "data": {
      "image/png": "[encoded data removed]",
      "text/plain": [
       "<Figure size 432x288 with 1 Axes>"
      ]
     },
     "metadata": {
      "needs_background": "light",
      "tags": []
     },
     "output_type": "display_data"
    }
   ],
   "source": [
    "import matplotlib.pyplot as plt\n",
    "\n",
    "epochs = 10\n",
    "train_loss4 = history4.history['mae']\n",
    "val_loss4 = history4.history['val_mae']\n",
    "\n",
    "epochs = range(epochs)\n",
    "\n",
    "plt.figure()\n",
    "plt.plot(epochs, train_loss, label='model 1 training loss')\n",
    "plt.plot(epochs, train_loss2,  label='model 2 training loss')\n",
    "plt.plot(epochs, train_loss3,  label='model 3 training loss')\n",
    "plt.plot(epochs, train_loss4,  label='model 4 training loss')\n",
    "\n",
    "plt.title('Training Loss on Different Models')\n",
    "plt.xlabel('Epoch')\n",
    "plt.ylabel('Loss Value')\n",
    "plt.ylim([20, 130])\n",
    "plt.xlim([0, 10])\n",
    "plt.legend()\n",
    "plt.show()"
   ]
  },
  {
   "cell_type": "markdown",
   "metadata": {
    "id": "wSkoK5KGKpZq"
   },
   "source": [
    "- Training Loss : **Fastest convergence on Model 3** - and possibility of reaching smaller loss value if run with more epochs. Model 1 is not found in this graph since the error rate was out of bounds."
   ]
  },
  {
   "cell_type": "code",
   "execution_count": null,
   "metadata": {
    "colab": {
     "base_uri": "https://localhost:8080/",
     "height": 295
    },
    "id": "NH4_pEH7Kdm7",
    "outputId": "c7837d5d-997e-4240-a915-693d70527be5"
   },
   "outputs": [
    {
     "data": {
      "image/png": "[encoded data removed]",
      "text/plain": [
       "<Figure size 432x288 with 1 Axes>"
      ]
     },
     "metadata": {
      "needs_background": "light",
      "tags": []
     },
     "output_type": "display_data"
    }
   ],
   "source": [
    "import matplotlib.pyplot as plt\n",
    "\n",
    "epochs = 10\n",
    "train_loss4 = history4.history['mae']\n",
    "val_loss4 = history4.history['val_mae']\n",
    "\n",
    "epochs = range(epochs)\n",
    "\n",
    "plt.figure()\n",
    "plt.plot(epochs, val_loss, label='model 1 validation loss')\n",
    "plt.plot(epochs, val_loss2,  label='model 2 validation loss')\n",
    "plt.plot(epochs, val_loss3,  label='model 3 validation loss')\n",
    "plt.plot(epochs, val_loss4,  label='model 4 validation loss')\n",
    "\n",
    "plt.title('Validation Loss on Different Models')\n",
    "plt.xlabel('Epoch')\n",
    "plt.ylabel('Loss Value')\n",
    "plt.ylim([20, 105])\n",
    "plt.xlim([0, 10])\n",
    "plt.legend()\n",
    "plt.show()"
   ]
  },
  {
   "cell_type": "markdown",
   "metadata": {
    "id": "zIHyaqEnK98z"
   },
   "source": [
    "- Validation Loss : **Steady Decrease of loss value in Model 3** - and possibility of reaching smaller validation loss after more epochs. Model 2 already bounces off from epoch 6 and Model 4 is nowhere close to the performance of Model 3."
   ]
  }
 ],
 "metadata": {
  "accelerator": "GPU",
  "colab": {
   "include_colab_link": true,
   "name": "02_Spectogram_BasicCNN.ipynb",
   "provenance": []
  },
  "kernelspec": {
   "display_name": "Python 3",
   "language": "python",
   "name": "python3"
  },
  "language_info": {
   "codemirror_mode": {
    "name": "ipython",
    "version": 3
   },
   "file_extension": ".py",
   "mimetype": "text/x-python",
   "name": "python",
   "nbconvert_exporter": "python",
   "pygments_lexer": "ipython3",
   "version": "3.8.5"
  }
 },
 "nbformat": 4,
 "nbformat_minor": 1
}
