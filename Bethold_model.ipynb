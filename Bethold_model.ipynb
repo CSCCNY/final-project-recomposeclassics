{
  "nbformat": 4,
  "nbformat_minor": 0,
  "metadata": {
    "colab": {
      "name": "Bethold_model.ipynb",
      "provenance": []
    },
    "kernelspec": {
      "name": "python3",
      "display_name": "Python 3"
    },
    "language_info": {
      "name": "python"
    }
  },
  "cells": [
    {
      "cell_type": "code",
      "metadata": {
        "colab": {
          "base_uri": "https://localhost:8080/"
        },
        "id": "qwoXkEfeUEOH",
        "outputId": "6b550e32-0e54-4d0a-fed1-5584a901ed79"
      },
      "source": [
        "#Mounting google and authenticating\n",
        "from google.colab import drive\n",
        "drive.mount('/content/gdrive')\n",
        "\n",
        "!ln -s /content/gdrive/My\\ Drive/ /mydrive\n",
        "#!ls /mydrive"
      ],
      "execution_count": 1,
      "outputs": [
        {
          "output_type": "stream",
          "text": [
            "Mounted at /content/gdrive\n"
          ],
          "name": "stdout"
        }
      ]
    },
    {
      "cell_type": "code",
      "metadata": {
        "id": "ZUsvqLeGVluq"
      },
      "source": [
        "!cp /mydrive/music\\ project/X_spec.pickle ./\n",
        "!cp /mydrive/music\\ project/y_spec.pickle ./"
      ],
      "execution_count": 2,
      "outputs": []
    },
    {
      "cell_type": "code",
      "metadata": {
        "id": "OPapgEtmVuku"
      },
      "source": [
        "#LOADING DATA\n",
        "import pickle \n",
        "pickle_off = open(\"X_spec.pickle\", 'rb')\n",
        "X_spec = pickle.load(pickle_off)\n",
        "\n",
        "pickle_off = open(\"y_spec.pickle\", 'rb')\n",
        "y_spec = pickle.load(pickle_off)"
      ],
      "execution_count": 3,
      "outputs": []
    },
    {
      "cell_type": "code",
      "metadata": {
        "colab": {
          "base_uri": "https://localhost:8080/"
        },
        "id": "lbdVafxzPZeW",
        "outputId": "9a8de62a-cada-4f00-a6fa-5a59d9e77bd1"
      },
      "source": [
        "import numpy as np\n",
        "dataset = np.vstack((X_spec,y_spec))\n",
        "dataset = dataset.reshape(2862,300,128,1)\n",
        "\n",
        "dataset.shape"
      ],
      "execution_count": 4,
      "outputs": [
        {
          "output_type": "execute_result",
          "data": {
            "text/plain": [
              "(2862, 300, 128, 1)"
            ]
          },
          "metadata": {
            "tags": []
          },
          "execution_count": 4
        }
      ]
    },
    {
      "cell_type": "code",
      "metadata": {
        "colab": {
          "base_uri": "https://localhost:8080/"
        },
        "id": "O1kI0EzuasM9",
        "outputId": "fe635e69-aeed-4361-8c13-7e05193d94af"
      },
      "source": [
        "test = dataset[:287]\n",
        "train = dataset[287:]\n",
        "print(train.shape)\n",
        "print(test.shape)"
      ],
      "execution_count": 14,
      "outputs": [
        {
          "output_type": "stream",
          "text": [
            "(2575, 300, 128, 1)\n",
            "(287, 300, 128, 1)\n"
          ],
          "name": "stdout"
        }
      ]
    },
    {
      "cell_type": "code",
      "metadata": {
        "id": "eX_ZVK8zaspi"
      },
      "source": [
        "train.shape"
      ],
      "execution_count": null,
      "outputs": []
    },
    {
      "cell_type": "code",
      "metadata": {
        "id": "RgRg_wqwSQJm"
      },
      "source": [
        "# For visual\n",
        "import matplotlib.pyplot as plt\n",
        "import librosa\n",
        "import librosa.display\n",
        "\n",
        "genre_name = 'X_spec[1]'\n",
        "print(train[1].T.shape, genre_name)\n",
        "plt.figure(figsize=(10, 4))\n",
        "librosa.display.specshow(train[1].T, y_axis='time', fmax=8000, x_axis='mel')\n",
        "plt.colorbar(format='%+2.0f dB')\n",
        "plt.title(str(genre_name))\n",
        "plt.show()\n",
        "\n",
        "genre_name = 'y_spec[1]'\n",
        "print(train[1000].T.shape, genre_name)\n",
        "plt.figure(figsize=(10, 4))\n",
        "librosa.display.specshow(train[1000].T, y_axis='time', fmax=8000, x_axis='mel')\n",
        "plt.colorbar(format='%+2.0f dB')\n",
        "plt.title(str(genre_name))\n",
        "plt.show()"
      ],
      "execution_count": 7,
      "outputs": []
    },
    {
      "cell_type": "code",
      "metadata": {
        "id": "kebEMvptWSZp"
      },
      "source": [
        "#Normalization\n",
        "train = train/100\n",
        "test = test/100\n",
        "train_size = 2575\n",
        "batch_size = 32\n",
        "test_size = 287"
      ],
      "execution_count": 17,
      "outputs": []
    },
    {
      "cell_type": "code",
      "metadata": {
        "id": "b_DIN8q6WUjI"
      },
      "source": [
        "#Getting Data Ready\n",
        "import tensorflow as tf\n",
        "\n",
        "train_dataset = (tf.data.Dataset.from_tensor_slices(train)\n",
        "                 .shuffle(train_size).batch(batch_size))\n",
        "test_dataset = (tf.data.Dataset.from_tensor_slices(test)\n",
        "                .shuffle(test_size).batch(batch_size))"
      ],
      "execution_count": 18,
      "outputs": []
    },
    {
      "cell_type": "code",
      "metadata": {
        "id": "oKz9xJprjjiN"
      },
      "source": [
        ""
      ],
      "execution_count": null,
      "outputs": []
    }
  ]
}