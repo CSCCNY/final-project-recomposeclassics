{
  "nbformat": 4,
  "nbformat_minor": 0,
  "metadata": {
    "colab": {
      "name": "Bethold_model.ipynb",
      "provenance": []
    },
    "kernelspec": {
      "name": "python3",
      "display_name": "Python 3"
    },
    "language_info": {
      "name": "python"
    }
  },
  "cells": [
    {
      "cell_type": "code",
      "metadata": {
        "colab": {
          "base_uri": "https://localhost:8080/"
        },
        "id": "qwoXkEfeUEOH",
        "outputId": "3a30394e-2482-4301-b300-ca3c713f8b79"
      },
      "source": [
        "#Mounting google and authenticating\n",
        "from google.colab import drive\n",
        "drive.mount('/content/gdrive')\n",
        "\n",
        "!ln -s /content/gdrive/My\\ Drive/ /mydrive\n",
        "#!ls /mydrive"
      ],
      "execution_count": 1,
      "outputs": [
        {
          "output_type": "stream",
          "text": [
            "Mounted at /content/gdrive\n"
          ],
          "name": "stdout"
        }
      ]
    },
    {
      "cell_type": "code",
      "metadata": {
        "id": "ZUsvqLeGVluq"
      },
      "source": [
        "!cp /mydrive/music\\ project/X_spec.pickle ./\n",
        "!cp /mydrive/music\\ project/y_spec.pickle ./"
      ],
      "execution_count": 2,
      "outputs": []
    },
    {
      "cell_type": "code",
      "metadata": {
        "id": "OPapgEtmVuku"
      },
      "source": [
        "#LOADING DATA\n",
        "import pickle \n",
        "pickle_off = open(\"X_spec.pickle\", 'rb')\n",
        "X_spec = pickle.load(pickle_off)\n",
        "\n",
        "pickle_off = open(\"y_spec.pickle\", 'rb')\n",
        "y_spec = pickle.load(pickle_off)"
      ],
      "execution_count": 3,
      "outputs": []
    },
    {
      "cell_type": "code",
      "metadata": {
        "id": "eQM4t6TkWDlF",
        "colab": {
          "base_uri": "https://localhost:8080/"
        },
        "outputId": "ecd7cf62-fb5c-4788-8bcf-c0be454f914f"
      },
      "source": [
        "type(X_spec)"
      ],
      "execution_count": 5,
      "outputs": [
        {
          "output_type": "execute_result",
          "data": {
            "text/plain": [
              "numpy.ndarray"
            ]
          },
          "metadata": {
            "tags": []
          },
          "execution_count": 5
        }
      ]
    },
    {
      "cell_type": "code",
      "metadata": {
        "id": "Zwx5dA-xOjH0"
      },
      "source": [
        "import tensorflow as tf\n",
        "\n",
        "dataset = tf.data.Dataset.from_tensor_slices([X_spec, y_spec])"
      ],
      "execution_count": 7,
      "outputs": []
    },
    {
      "cell_type": "code",
      "metadata": {
        "id": "lbdVafxzPZeW"
      },
      "source": [
        "import numpy as np\n",
        "dataset = np.hstack((X_spec,y_spec))"
      ],
      "execution_count": 21,
      "outputs": []
    },
    {
      "cell_type": "code",
      "metadata": {
        "colab": {
          "base_uri": "https://localhost:8080/"
        },
        "id": "LHUoooa0PZgs",
        "outputId": "e499be3c-9d74-4258-b864-fd9b8e5fc245"
      },
      "source": [
        "dataset.shape"
      ],
      "execution_count": 22,
      "outputs": [
        {
          "output_type": "execute_result",
          "data": {
            "text/plain": [
              "(1431, 600, 128)"
            ]
          },
          "metadata": {
            "tags": []
          },
          "execution_count": 22
        }
      ]
    },
    {
      "cell_type": "code",
      "metadata": {
        "id": "WTIL_Kz8PZkC"
      },
      "source": [
        "new = dataset.reshape(1431,2,300,128)"
      ],
      "execution_count": 23,
      "outputs": []
    },
    {
      "cell_type": "code",
      "metadata": {
        "id": "RgRg_wqwSQJm"
      },
      "source": [
        ""
      ],
      "execution_count": null,
      "outputs": []
    },
    {
      "cell_type": "code",
      "metadata": {
        "id": "8-DWYOpNSQM_"
      },
      "source": [
        ""
      ],
      "execution_count": null,
      "outputs": []
    },
    {
      "cell_type": "code",
      "metadata": {
        "id": "yddGPFzDLH0j"
      },
      "source": [
        "#for train\n",
        "import tensorflow as tf\n",
        "\n",
        "dataset = tf.data.Dataset.from_tensor_slices(X_spec)\n",
        "\n",
        "def normalize(input_image, input_mask):\n",
        "    input_image = tf.cast(input_image, tf.float32) /2\n",
        "    #input_image = tf.image.rgb_to_grayscale(input_image)\n",
        "    input_mask = tf.cast(input_mask, tf.float32) \n",
        "    #input_mask = tf.image.rgb_to_grayscale(input_mask)\n",
        "    return input_image, input_mask\n",
        "\n",
        "def load_image_train(datapoint):\n",
        "    #input_image = tf.image.resize(datapoint[0], (128, 128))\n",
        "    #input_mask = tf.image.resize(datapoint[1], (128, 128))\n",
        "\n",
        "    input_image, input_mask = normalize(datapoint[0], datapoint[1])\n",
        "\n",
        "    return input_image, input_mask\n",
        "\n",
        "train = dataset.map(load_image_train, num_parallel_calls=tf.data.experimental.AUTOTUNE)\n"
      ],
      "execution_count": null,
      "outputs": []
    },
    {
      "cell_type": "code",
      "metadata": {
        "id": "4ZwvGXYIWSJF"
      },
      "source": [
        "#for test in tensorflow - getting ready for fitting\n",
        "\n",
        "testd = tf.data.Dataset.from_tensor_slices(new_t)\n",
        "\n",
        "def normalize_test(input_image, input_mask):\n",
        "    input_image = tf.cast(input_image, tf.float32) /2\n",
        "    #input_image = tf.image.rgb_to_grayscale(input_image) \n",
        "    input_mask = tf.cast(input_mask, tf.float32) \n",
        "    #input_mask = tf.image.rgb_to_grayscale(input_mask)\n",
        "    return input_image, input_mask\n",
        "\n",
        "def load_image_test(datapoint):\n",
        "    #input_image = tf.image.resize(datapoint[0], (128, 128))\n",
        "    #input_mask = tf.image.resize(datapoint[1], (128, 128))\n",
        "\n",
        "    input_image, input_mask = normalize_test(datapoint[0], datapoint[1])\n",
        "\n",
        "    return input_image, input_mask\n",
        "\n",
        "test = testd.map(load_image_test)"
      ],
      "execution_count": null,
      "outputs": []
    },
    {
      "cell_type": "code",
      "metadata": {
        "id": "kebEMvptWSZp"
      },
      "source": [
        ""
      ],
      "execution_count": null,
      "outputs": []
    },
    {
      "cell_type": "code",
      "metadata": {
        "id": "b_DIN8q6WUjI"
      },
      "source": [
        ""
      ],
      "execution_count": null,
      "outputs": []
    }
  ]
}