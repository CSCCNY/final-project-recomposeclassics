{
  "nbformat": 4,
  "nbformat_minor": 0,
  "metadata": {
    "colab": {
      "name": "Bethold_model.ipynb",
      "provenance": []
    },
    "kernelspec": {
      "name": "python3",
      "display_name": "Python 3"
    },
    "language_info": {
      "name": "python"
    }
  },
  "cells": [
    {
      "cell_type": "code",
      "metadata": {
        "colab": {
          "base_uri": "https://localhost:8080/"
        },
        "id": "qwoXkEfeUEOH",
        "outputId": "3a30394e-2482-4301-b300-ca3c713f8b79"
      },
      "source": [
        "#Mounting google and authenticating\n",
        "from google.colab import drive\n",
        "drive.mount('/content/gdrive')\n",
        "\n",
        "!ln -s /content/gdrive/My\\ Drive/ /mydrive\n",
        "#!ls /mydrive"
      ],
      "execution_count": 1,
      "outputs": [
        {
          "output_type": "stream",
          "text": [
            "Mounted at /content/gdrive\n"
          ],
          "name": "stdout"
        }
      ]
    },
    {
      "cell_type": "code",
      "metadata": {
        "id": "ZUsvqLeGVluq"
      },
      "source": [
        "!cp /mydrive/music\\ project/X_spec.pickle ./\n",
        "!cp /mydrive/music\\ project/y_spec.pickle ./"
      ],
      "execution_count": 2,
      "outputs": []
    },
    {
      "cell_type": "code",
      "metadata": {
        "id": "OPapgEtmVuku"
      },
      "source": [
        "#LOADING DATA\n",
        "import pickle \n",
        "pickle_off = open(\"X_spec.pickle\", 'rb')\n",
        "X_spec = pickle.load(pickle_off)\n",
        "\n",
        "pickle_off = open(\"y_spec.pickle\", 'rb')\n",
        "y_spec = pickle.load(pickle_off)"
      ],
      "execution_count": 3,
      "outputs": []
    },
    {
      "cell_type": "code",
      "metadata": {
        "id": "eQM4t6TkWDlF"
      },
      "source": [
        ""
      ],
      "execution_count": null,
      "outputs": []
    },
    {
      "cell_type": "code",
      "metadata": {
        "id": "4ZwvGXYIWSJF"
      },
      "source": [
        ""
      ],
      "execution_count": null,
      "outputs": []
    },
    {
      "cell_type": "code",
      "metadata": {
        "id": "kebEMvptWSZp"
      },
      "source": [
        ""
      ],
      "execution_count": null,
      "outputs": []
    },
    {
      "cell_type": "code",
      "metadata": {
        "id": "b_DIN8q6WUjI"
      },
      "source": [
        ""
      ],
      "execution_count": null,
      "outputs": []
    }
  ]
}