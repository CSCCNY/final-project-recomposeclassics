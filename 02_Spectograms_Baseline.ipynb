{
  "nbformat": 4,
  "nbformat_minor": 0,
  "metadata": {
    "colab": {
      "name": "Classics_DNN.ipynb",
      "provenance": [],
      "authorship_tag": "ABX9TyNuuEZPiKPB0objpSGkEiBe",
      "include_colab_link": true
    },
    "kernelspec": {
      "name": "python3",
      "display_name": "Python 3"
    },
    "language_info": {
      "name": "python"
    },
    "accelerator": "GPU"
  },
  "cells": [
    {
      "cell_type": "markdown",
      "metadata": {
        "id": "view-in-github",
        "colab_type": "text"
      },
      "source": [
        "<a href=\"https://colab.research.google.com/github/CSCCNY/final-project-recomposeclassics/blob/main/02_Spectograms_Baseline.ipynb\" target=\"_parent\"><img src=\"https://colab.research.google.com/assets/colab-badge.svg\" alt=\"Open In Colab\"/></a>"
      ]
    },
    {
      "cell_type": "markdown",
      "metadata": {
        "id": "FmmL-F2xBABd"
      },
      "source": [
        "## Recompose Classics : **Import Data & Run Baseline Model**\n",
        "Hannah Do\n",
        "\n",
        "May 4th, 2021\n",
        "\n",
        "\n",
        "\n",
        "---\n",
        "\n",
        "\n",
        "##### **Summary**\n",
        "\n",
        "1. Conversion of **spectograms** to **3D Numpy Arrays** :\n",
        "\n",
        "\n",
        "\n",
        "2. Splitting into train and test data\n",
        "\n",
        "\n",
        "3. Running Baseline Model\n",
        "\n",
        "\n",
        "---"
      ]
    },
    {
      "cell_type": "markdown",
      "metadata": {
        "id": "f8Ssu3qZCRUi"
      },
      "source": [
        "**Mount from Google Drive**"
      ]
    },
    {
      "cell_type": "code",
      "metadata": {
        "colab": {
          "base_uri": "https://localhost:8080/"
        },
        "id": "PDE22KEJwBvA",
        "outputId": "b27a6903-28ee-44ff-80c0-e32fc7d79bc4"
      },
      "source": [
        "from google.colab import drive\n",
        "drive.mount('/content/gdrive/')"
      ],
      "execution_count": 2,
      "outputs": [
        {
          "output_type": "stream",
          "text": [
            "Mounted at /content/gdrive/\n"
          ],
          "name": "stdout"
        }
      ]
    },
    {
      "cell_type": "markdown",
      "metadata": {
        "id": "HjUC4wJ6CVnA"
      },
      "source": [
        "**Get folder with segmented chopin spectograms**"
      ]
    },
    {
      "cell_type": "code",
      "metadata": {
        "id": "fUu8XieCwUrc",
        "colab": {
          "base_uri": "https://localhost:8080/"
        },
        "outputId": "0ed9c108-0801-4904-afa0-7e242e3a91d8"
      },
      "source": [
        "import os\n",
        "import matplotlib.pyplot as plt\n",
        "\n",
        "#for loading and visualizing audio files\n",
        "import librosa\n",
        "import librosa.display\n",
        "\n",
        "#to play audio\n",
        "import IPython.display as ipd\n",
        "\n",
        "spectograms_path = \"/content/gdrive/My Drive/Classics_DNN/chopin_spectograms/\"\n",
        "spectograms = os.listdir(spectograms_path)\n",
        "\n",
        "print(\"No. of .midi files in audio folder = \",len(spectograms))"
      ],
      "execution_count": 5,
      "outputs": [
        {
          "output_type": "stream",
          "text": [
            "No. of .midi files in audio folder =  1575\n"
          ],
          "name": "stdout"
        }
      ]
    },
    {
      "cell_type": "code",
      "metadata": {
        "id": "HkOpxXW6UQ1p"
      },
      "source": [
        ""
      ],
      "execution_count": null,
      "outputs": []
    },
    {
      "cell_type": "code",
      "metadata": {
        "id": "_f5RT9RgURN-"
      },
      "source": [
        ""
      ],
      "execution_count": null,
      "outputs": []
    }
  ]
}