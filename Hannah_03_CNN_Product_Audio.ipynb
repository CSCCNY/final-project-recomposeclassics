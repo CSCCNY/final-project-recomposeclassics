{
 "cells": [
  {
   "cell_type": "markdown",
   "metadata": {
    "colab_type": "text",
    "id": "view-in-github"
   },
   "source": [
    "<a href=\"https://colab.research.google.com/github/CSCCNY/final-project-recomposeclassics/blob/main/03_CNN_Product_Audio.ipynb\" target=\"_parent\"><img src=\"https://colab.research.google.com/assets/colab-badge.svg\" alt=\"Open In Colab\"/></a>"
   ]
  },
  {
   "cell_type": "markdown",
   "metadata": {
    "id": "FmmL-F2xBABd"
   },
   "source": [
    "## Recompose Classics : **Run Final CNN Model**\n",
    "Hannah Do\n",
    "\n",
    "May 7th, 2021\n",
    "\n",
    "\n",
    "\n",
    "---\n",
    "\n",
    "\n",
    "##### **Summary**\n",
    "\n",
    "1. **Run CNN Model with best performance** from '02_Spectogram_CNN.ipynb' to optimal epochs\n",
    "\n",
    "\n",
    "2. **Produce Predict Numpy array**, evaluate with Actual array \n",
    "    \n",
    "    -> Compare y_pred and y_test Spectograms\n",
    "\n",
    "\n",
    "3. **Play Spectograms**\n",
    "    \n",
    "    -> save as Audio files to hear differences by ear\n",
    "\n",
    "\n",
    "---"
   ]
  },
  {
   "cell_type": "markdown",
   "metadata": {
    "id": "f8Ssu3qZCRUi"
   },
   "source": [
    "**Mount from Google Drive**"
   ]
  },
  {
   "cell_type": "code",
   "execution_count": 5,
   "metadata": {
    "colab": {
     "base_uri": "https://localhost:8080/"
    },
    "id": "PDE22KEJwBvA",
    "outputId": "5821ea16-9194-45dc-e010-ae544668ba75"
   },
   "outputs": [
    {
     "name": "stdout",
     "output_type": "stream",
     "text": [
      "Mounted at /content/gdrive/\n"
     ]
    }
   ],
   "source": [
    "from google.colab import drive\n",
    "drive.mount('/content/gdrive/')"
   ]
  },
  {
   "cell_type": "markdown",
   "metadata": {
    "id": "Uf2u5dMk-boM"
   },
   "source": [
    "## **Run Third CNN Model**\n",
    "Test data : 788 images with input shape (400, 400, 3)\n",
    "Test data : 197 images with input shape (400, 400, 3)"
   ]
  },
  {
   "cell_type": "code",
   "execution_count": 1,
   "metadata": {
    "id": "swEQdvowJUUg"
   },
   "outputs": [],
   "source": [
    "from keras.wrappers.scikit_learn import KerasRegressor\n",
    "from sklearn.model_selection import cross_val_score\n",
    "from sklearn.model_selection import KFold\n",
    "from sklearn.preprocessing import StandardScaler\n",
    "from sklearn.pipeline import Pipeline\n",
    "\n",
    "import numpy as np"
   ]
  },
  {
   "cell_type": "code",
   "execution_count": 2,
   "metadata": {
    "id": "drXr0npEJWVw"
   },
   "outputs": [],
   "source": [
    "import keras\n",
    "from keras.models import Sequential\n",
    "from keras.layers import Dense, Dropout, Activation, Flatten, Reshape\n",
    "from keras.layers import Conv2D, Conv2DTranspose, MaxPool2D, LeakyReLU\n",
    "from keras.utils import np_utils\n",
    "\n",
    "from keras import backend as K"
   ]
  },
  {
   "cell_type": "code",
   "execution_count": 8,
   "metadata": {
    "id": "lE_MtQpHJbAY"
   },
   "outputs": [],
   "source": [
    "x_train = np.load(\"/Users/SAMSUNG/Downloads/dnn_data/x_train.npy\")\n",
    "y_train = np.load(\"/Users/SAMSUNG/Downloads/dnn_data/y_train.npy\")\n",
    "x_test = np.load(\"/Users/SAMSUNG/Downloads/dnn_data/x_test.npy\")\n",
    "y_test = np.load(\"/Users/SAMSUNG/Downloads/dnn_data/y_test.npy\")"
   ]
  },
  {
   "cell_type": "code",
   "execution_count": 9,
   "metadata": {
    "colab": {
     "base_uri": "https://localhost:8080/"
    },
    "id": "1jAjx-lEJchI",
    "outputId": "03ea631a-cace-4261-dc07-500bc0ab5855"
   },
   "outputs": [
    {
     "data": {
      "text/plain": [
       "((1275, 128, 646, 1),\n",
       " (1275, 128, 646, 1),\n",
       " (158, 128, 646, 1),\n",
       " (158, 128, 646, 1))"
      ]
     },
     "execution_count": 9,
     "metadata": {},
     "output_type": "execute_result"
    }
   ],
   "source": [
    "x_train = np.expand_dims(x_train, -1)\n",
    "y_train = np.expand_dims(y_train, -1)\n",
    "x_test = np.expand_dims(x_test, -1)\n",
    "y_test = np.expand_dims(y_test, -1)\n",
    "\n",
    "x_train.shape, y_train.shape, x_test.shape, y_test.shape"
   ]
  },
  {
   "cell_type": "code",
   "execution_count": 23,
   "metadata": {
    "colab": {
     "base_uri": "https://localhost:8080/"
    },
    "id": "xsKAvvTWkBlh",
    "outputId": "e5957860-aeb1-4115-f579-10e1c919189a"
   },
   "outputs": [
    {
     "name": "stdout",
     "output_type": "stream",
     "text": [
      "Model: \"sequential_4\"\n",
      "_________________________________________________________________\n",
      "Layer (type)                 Output Shape              Param #   \n",
      "=================================================================\n",
      "conv2d_18 (Conv2D)           (None, 128, 646, 25)      250       \n",
      "_________________________________________________________________\n",
      "conv2d_19 (Conv2D)           (None, 128, 646, 40)      9040      \n",
      "_________________________________________________________________\n",
      "max_pooling2d_8 (MaxPooling2 (None, 64, 323, 40)       0         \n",
      "_________________________________________________________________\n",
      "conv2d_transpose_8 (Conv2DTr (None, 128, 646, 20)      12820     \n",
      "_________________________________________________________________\n",
      "leaky_re_lu_11 (LeakyReLU)   (None, 128, 646, 20)      0         \n",
      "_________________________________________________________________\n",
      "conv2d_20 (Conv2D)           (None, 128, 646, 20)      3620      \n",
      "_________________________________________________________________\n",
      "max_pooling2d_9 (MaxPooling2 (None, 64, 323, 20)       0         \n",
      "_________________________________________________________________\n",
      "conv2d_transpose_9 (Conv2DTr (None, 128, 646, 40)      12840     \n",
      "_________________________________________________________________\n",
      "leaky_re_lu_12 (LeakyReLU)   (None, 128, 646, 40)      0         \n",
      "_________________________________________________________________\n",
      "dropout_4 (Dropout)          (None, 128, 646, 40)      0         \n",
      "_________________________________________________________________\n",
      "dense_4 (Dense)              (None, 128, 646, 1)       41        \n",
      "=================================================================\n",
      "Total params: 38,611\n",
      "Trainable params: 38,611\n",
      "Non-trainable params: 0\n",
      "_________________________________________________________________\n"
     ]
    }
   ],
   "source": [
    "\n",
    "model = Sequential()\n",
    "\n",
    "model.add(Conv2D(25, kernel_size=(3,3), strides=(1,1), padding='same', activation='relu', input_shape=(128, 646, 1)))\n",
    "\n",
    "# convolutional layer\n",
    "model.add(Conv2D(40, kernel_size=(3,3), strides=(1,1), padding='same', activation='relu'))\n",
    "model.add(MaxPool2D(pool_size=(2,2)))\n",
    "\n",
    "model.add(Conv2DTranspose(20, (4,4), strides=(2,2), padding='same'))\n",
    "model.add(LeakyReLU(alpha=0.2))\n",
    "\n",
    "model.add(Conv2D(20, kernel_size=(3,3), strides=(1,1), padding='same', activation='relu'))\n",
    "model.add(MaxPool2D(pool_size=(2,2)))\n",
    "\n",
    "model.add(Conv2DTranspose(40, (4,4), strides=(2,2), padding='same'))\n",
    "model.add(LeakyReLU(alpha=0.2))\n",
    "model.add(Dropout(0.25))\n",
    "\n",
    "# output layer\n",
    "model.add(Dense(1, activation='linear'))\n",
    "\n",
    "model.summary()"
   ]
  },
  {
   "cell_type": "code",
   "execution_count": 24,
   "metadata": {
    "colab": {
     "base_uri": "https://localhost:8080/"
    },
    "id": "4OatjB3ykSr5",
    "outputId": "4e53497c-0f0b-42d5-89f0-956629ac6a23"
   },
   "outputs": [
    {
     "name": "stdout",
     "output_type": "stream",
     "text": [
      "Epoch 1/10\n",
      "40/40 [==============================] - 193s 5s/step - loss: 984.2115 - mae: 24.0214 - val_loss: 171.9243 - val_mae: 9.4192\n",
      "Epoch 2/10\n",
      "40/40 [==============================] - 195s 5s/step - loss: 177.4709 - mae: 10.2268 - val_loss: 154.8727 - val_mae: 8.8556\n",
      "Epoch 3/10\n",
      "40/40 [==============================] - 195s 5s/step - loss: 157.1109 - mae: 9.5958 - val_loss: 151.5373 - val_mae: 8.7738\n",
      "Epoch 4/10\n",
      "40/40 [==============================] - 194s 5s/step - loss: 146.3292 - mae: 9.2667 - val_loss: 150.5757 - val_mae: 8.7666\n",
      "Epoch 5/10\n",
      "40/40 [==============================] - 195s 5s/step - loss: 138.5113 - mae: 9.0236 - val_loss: 147.6906 - val_mae: 8.5729\n",
      "Epoch 6/10\n",
      "40/40 [==============================] - 195s 5s/step - loss: 132.8362 - mae: 8.8631 - val_loss: 146.7314 - val_mae: 8.4847\n",
      "Epoch 7/10\n",
      "40/40 [==============================] - 195s 5s/step - loss: 137.8341 - mae: 8.9276 - val_loss: 146.2215 - val_mae: 8.4605\n",
      "Epoch 8/10\n",
      "40/40 [==============================] - 195s 5s/step - loss: 133.0374 - mae: 8.8423 - val_loss: 151.8825 - val_mae: 8.9269\n",
      "Epoch 9/10\n",
      "40/40 [==============================] - 195s 5s/step - loss: 138.7816 - mae: 8.9975 - val_loss: 146.8892 - val_mae: 8.6207\n",
      "Epoch 10/10\n",
      "40/40 [==============================] - 195s 5s/step - loss: 132.5508 - mae: 8.8088 - val_loss: 156.8488 - val_mae: 8.9893\n"
     ]
    }
   ],
   "source": [
    "# compiling the sequential model\n",
    "model.compile(loss='mse', metrics=['mae'], optimizer='adam')\n",
    "\n",
    "# training the model\n",
    "history= model.fit(x_train, y_train, epochs=10, validation_data=(x_test, y_test))"
   ]
  },
  {
   "cell_type": "code",
   "execution_count": 26,
   "metadata": {
    "colab": {
     "base_uri": "https://localhost:8080/",
     "height": 295
    },
    "id": "IHbA5e-QwC3I",
    "outputId": "80cc98e9-f6a2-471c-9f47-6befddbbf776"
   },
   "outputs": [
    {
     "data": {
      "image/png": "[encoded data removed]",
      "text/plain": [
       "<Figure size 432x288 with 1 Axes>"
      ]
     },
     "metadata": {
      "needs_background": "light"
     },
     "output_type": "display_data"
    }
   ],
   "source": [
    "import matplotlib.pyplot as plt\n",
    "\n",
    "epochs = 10\n",
    "train_loss = history.history['mae']\n",
    "val_loss = history.history['val_mae']\n",
    "\n",
    "epochs = range(epochs)\n",
    "\n",
    "plt.figure()\n",
    "plt.plot(epochs, train_loss, 'r', label='Training loss')\n",
    "plt.plot(epochs, val_loss, 'b', label='Validation loss')\n",
    "plt.title('Training and Validation Loss')\n",
    "plt.xlabel('Epoch')\n",
    "plt.ylabel('Loss Value')\n",
    "\n",
    "plt.legend()\n",
    "plt.show()"
   ]
  },
  {
   "cell_type": "code",
   "execution_count": 27,
   "metadata": {},
   "outputs": [
    {
     "name": "stdout",
     "output_type": "stream",
     "text": [
      "Model: \"sequential_5\"\n",
      "_________________________________________________________________\n",
      "Layer (type)                 Output Shape              Param #   \n",
      "=================================================================\n",
      "conv2d_21 (Conv2D)           (None, 128, 646, 25)      250       \n",
      "_________________________________________________________________\n",
      "conv2d_22 (Conv2D)           (None, 128, 646, 40)      9040      \n",
      "_________________________________________________________________\n",
      "max_pooling2d_10 (MaxPooling (None, 64, 323, 40)       0         \n",
      "_________________________________________________________________\n",
      "conv2d_transpose_10 (Conv2DT (None, 128, 646, 20)      12820     \n",
      "_________________________________________________________________\n",
      "leaky_re_lu_13 (LeakyReLU)   (None, 128, 646, 20)      0         \n",
      "_________________________________________________________________\n",
      "conv2d_23 (Conv2D)           (None, 128, 646, 20)      3620      \n",
      "_________________________________________________________________\n",
      "max_pooling2d_11 (MaxPooling (None, 64, 323, 20)       0         \n",
      "_________________________________________________________________\n",
      "conv2d_transpose_11 (Conv2DT (None, 128, 646, 40)      12840     \n",
      "_________________________________________________________________\n",
      "leaky_re_lu_14 (LeakyReLU)   (None, 128, 646, 40)      0         \n",
      "_________________________________________________________________\n",
      "dropout_5 (Dropout)          (None, 128, 646, 40)      0         \n",
      "_________________________________________________________________\n",
      "dense_5 (Dense)              (None, 128, 646, 1)       41        \n",
      "=================================================================\n",
      "Total params: 38,611\n",
      "Trainable params: 38,611\n",
      "Non-trainable params: 0\n",
      "_________________________________________________________________\n",
      "Epoch 1/7\n",
      "40/40 [==============================] - 194s 5s/step - loss: 1139.8225 - mae: 26.2944 - val_loss: 172.5020 - val_mae: 9.1900\n",
      "Epoch 2/7\n",
      "40/40 [==============================] - 194s 5s/step - loss: 175.0071 - mae: 10.1181 - val_loss: 154.2593 - val_mae: 8.8856\n",
      "Epoch 3/7\n",
      "40/40 [==============================] - 194s 5s/step - loss: 152.9021 - mae: 9.5242 - val_loss: 149.8727 - val_mae: 8.7059\n",
      "Epoch 4/7\n",
      "40/40 [==============================] - 195s 5s/step - loss: 147.3443 - mae: 9.2866 - val_loss: 151.8076 - val_mae: 8.8730\n",
      "Epoch 5/7\n",
      "40/40 [==============================] - 195s 5s/step - loss: 136.5246 - mae: 8.9639 - val_loss: 146.4015 - val_mae: 8.4636\n",
      "Epoch 6/7\n",
      "40/40 [==============================] - 195s 5s/step - loss: 134.4252 - mae: 8.8763 - val_loss: 146.4263 - val_mae: 8.5363\n",
      "Epoch 7/7\n",
      "40/40 [==============================] - 195s 5s/step - loss: 135.7883 - mae: 8.9157 - val_loss: 146.1080 - val_mae: 8.4267\n"
     ]
    }
   ],
   "source": [
    "\n",
    "model = Sequential()\n",
    "\n",
    "model.add(Conv2D(25, kernel_size=(3,3), strides=(1,1), padding='same', activation='relu', input_shape=(128, 646, 1)))\n",
    "\n",
    "# convolutional layer\n",
    "model.add(Conv2D(40, kernel_size=(3,3), strides=(1,1), padding='same', activation='relu'))\n",
    "model.add(MaxPool2D(pool_size=(2,2)))\n",
    "\n",
    "model.add(Conv2DTranspose(20, (4,4), strides=(2,2), padding='same'))\n",
    "model.add(LeakyReLU(alpha=0.2))\n",
    "\n",
    "model.add(Conv2D(20, kernel_size=(3,3), strides=(1,1), padding='same', activation='relu'))\n",
    "model.add(MaxPool2D(pool_size=(2,2)))\n",
    "\n",
    "model.add(Conv2DTranspose(40, (4,4), strides=(2,2), padding='same'))\n",
    "model.add(LeakyReLU(alpha=0.2))\n",
    "model.add(Dropout(0.25))\n",
    "\n",
    "# output layer\n",
    "model.add(Dense(1, activation='linear'))\n",
    "\n",
    "model.summary()\n",
    "\n",
    "# compiling the sequential model\n",
    "model.compile(loss='mse', metrics=['mae'], optimizer='adam')\n",
    "\n",
    "# training the model\n",
    "history= model.fit(x_train, y_train, epochs=7, validation_data=(x_test, y_test))"
   ]
  },
  {
   "cell_type": "code",
   "execution_count": 28,
   "metadata": {},
   "outputs": [
    {
     "data": {
      "image/png": "[encoded data removed]",
      "text/plain": [
       "<Figure size 432x288 with 1 Axes>"
      ]
     },
     "metadata": {
      "needs_background": "light"
     },
     "output_type": "display_data"
    }
   ],
   "source": [
    "import matplotlib.pyplot as plt\n",
    "\n",
    "epochs = 7\n",
    "train_loss = history.history['mae']\n",
    "val_loss = history.history['val_mae']\n",
    "\n",
    "epochs = range(epochs)\n",
    "\n",
    "plt.figure()\n",
    "plt.plot(epochs, train_loss, 'r', label='Training loss')\n",
    "plt.plot(epochs, val_loss, 'b', label='Validation loss')\n",
    "plt.title('Training and Validation Loss')\n",
    "plt.xlabel('Epoch')\n",
    "plt.ylabel('Loss Value')\n",
    "\n",
    "plt.legend()\n",
    "plt.show()"
   ]
  },
  {
   "cell_type": "markdown",
   "metadata": {},
   "source": [
    "### Use the trained model to predict following sequence : output specto array"
   ]
  },
  {
   "cell_type": "code",
   "execution_count": 30,
   "metadata": {},
   "outputs": [],
   "source": [
    "y_pred = model.predict(y_test)"
   ]
  },
  {
   "cell_type": "code",
   "execution_count": 76,
   "metadata": {},
   "outputs": [],
   "source": [
    "np.save(\"/Users/SAMSUNG/Downloads/dnn_data/predicted_output_CNN\", y_pred)"
   ]
  },
  {
   "cell_type": "code",
   "execution_count": 32,
   "metadata": {},
   "outputs": [
    {
     "name": "stdout",
     "output_type": "stream",
     "text": [
      "Requirement already satisfied: librosa in c:\\users\\samsung\\anaconda3\\lib\\site-packages (0.8.0)\n",
      "Requirement already satisfied: soundfile>=0.9.0 in c:\\users\\samsung\\anaconda3\\lib\\site-packages (from librosa) (0.10.3.post1)\n",
      "Requirement already satisfied: numba>=0.43.0 in c:\\users\\samsung\\anaconda3\\lib\\site-packages (from librosa) (0.51.2)\n",
      "Requirement already satisfied: decorator>=3.0.0 in c:\\users\\samsung\\anaconda3\\lib\\site-packages (from librosa) (4.4.2)\n",
      "Requirement already satisfied: resampy>=0.2.2 in c:\\users\\samsung\\anaconda3\\lib\\site-packages (from librosa) (0.2.2)\n",
      "Requirement already satisfied: audioread>=2.0.0 in c:\\users\\samsung\\anaconda3\\lib\\site-packages (from librosa) (2.1.9)\n",
      "Requirement already satisfied: pooch>=1.0 in c:\\users\\samsung\\anaconda3\\lib\\site-packages (from librosa) (1.3.0)\n",
      "Requirement already satisfied: scikit-learn!=0.19.0,>=0.14.0 in c:\\users\\samsung\\anaconda3\\lib\\site-packages (from librosa) (0.23.2)\n",
      "Requirement already satisfied: joblib>=0.14 in c:\\users\\samsung\\anaconda3\\lib\\site-packages (from librosa) (0.17.0)\n",
      "Requirement already satisfied: scipy>=1.0.0 in c:\\users\\samsung\\anaconda3\\lib\\site-packages (from librosa) (1.5.2)\n",
      "Requirement already satisfied: numpy>=1.15.0 in c:\\users\\samsung\\anaconda3\\lib\\site-packages (from librosa) (1.19.2)\n",
      "Requirement already satisfied: cffi>=1.0 in c:\\users\\samsung\\anaconda3\\lib\\site-packages (from soundfile>=0.9.0->librosa) (1.14.3)\n",
      "Requirement already satisfied: llvmlite<0.35,>=0.34.0.dev0 in c:\\users\\samsung\\anaconda3\\lib\\site-packages (from numba>=0.43.0->librosa) (0.34.0)\n",
      "Requirement already satisfied: setuptools in c:\\users\\samsung\\anaconda3\\lib\\site-packages (from numba>=0.43.0->librosa) (50.3.1.post20201107)\n",
      "Requirement already satisfied: six>=1.3 in c:\\users\\samsung\\anaconda3\\lib\\site-packages (from resampy>=0.2.2->librosa) (1.15.0)\n",
      "Requirement already satisfied: requests in c:\\users\\samsung\\anaconda3\\lib\\site-packages (from pooch>=1.0->librosa) (2.24.0)\n",
      "Requirement already satisfied: packaging in c:\\users\\samsung\\anaconda3\\lib\\site-packages (from pooch>=1.0->librosa) (20.4)\n",
      "Requirement already satisfied: appdirs in c:\\users\\samsung\\anaconda3\\lib\\site-packages (from pooch>=1.0->librosa) (1.4.4)\n",
      "Requirement already satisfied: threadpoolctl>=2.0.0 in c:\\users\\samsung\\anaconda3\\lib\\site-packages (from scikit-learn!=0.19.0,>=0.14.0->librosa) (2.1.0)\n",
      "Requirement already satisfied: pycparser in c:\\users\\samsung\\anaconda3\\lib\\site-packages (from cffi>=1.0->soundfile>=0.9.0->librosa) (2.20)\n",
      "Requirement already satisfied: idna<3,>=2.5 in c:\\users\\samsung\\anaconda3\\lib\\site-packages (from requests->pooch>=1.0->librosa) (2.10)\n",
      "Requirement already satisfied: urllib3!=1.25.0,!=1.25.1,<1.26,>=1.21.1 in c:\\users\\samsung\\anaconda3\\lib\\site-packages (from requests->pooch>=1.0->librosa) (1.25.11)\n",
      "Requirement already satisfied: certifi>=2017.4.17 in c:\\users\\samsung\\anaconda3\\lib\\site-packages (from requests->pooch>=1.0->librosa) (2020.6.20)\n",
      "Requirement already satisfied: chardet<4,>=3.0.2 in c:\\users\\samsung\\anaconda3\\lib\\site-packages (from requests->pooch>=1.0->librosa) (3.0.4)\n",
      "Requirement already satisfied: pyparsing>=2.0.2 in c:\\users\\samsung\\anaconda3\\lib\\site-packages (from packaging->pooch>=1.0->librosa) (2.4.7)\n"
     ]
    }
   ],
   "source": [
    "! pip install librosa"
   ]
  },
  {
   "cell_type": "code",
   "execution_count": 35,
   "metadata": {},
   "outputs": [
    {
     "data": {
      "text/plain": [
       "(128, 646, 1)"
      ]
     },
     "execution_count": 35,
     "metadata": {},
     "output_type": "execute_result"
    }
   ],
   "source": [
    "y_pred[0].shape"
   ]
  },
  {
   "cell_type": "markdown",
   "metadata": {},
   "source": [
    "- reshape the array for mel_spectogram conversion"
   ]
  },
  {
   "cell_type": "code",
   "execution_count": 53,
   "metadata": {},
   "outputs": [
    {
     "data": {
      "text/plain": [
       "(128, 646)"
      ]
     },
     "execution_count": 53,
     "metadata": {},
     "output_type": "execute_result"
    }
   ],
   "source": [
    "y2 = y_pred[20].reshape(128,646)\n",
    "\n",
    "y2.shape"
   ]
  },
  {
   "cell_type": "code",
   "execution_count": 52,
   "metadata": {},
   "outputs": [
    {
     "data": {
      "text/plain": [
       "(128, 646)"
      ]
     },
     "execution_count": 52,
     "metadata": {},
     "output_type": "execute_result"
    }
   ],
   "source": [
    "yt2 = y_test[20].reshape(128,646)\n",
    "\n",
    "yt2.shape"
   ]
  },
  {
   "cell_type": "markdown",
   "metadata": {},
   "source": [
    "- Use Librosa inverse.mel_to_audio to convert the arrays into audio"
   ]
  },
  {
   "cell_type": "code",
   "execution_count": null,
   "metadata": {},
   "outputs": [],
   "source": [
    "import librosa\n",
    "from scipy.io.wavfile import write"
   ]
  },
  {
   "cell_type": "code",
   "execution_count": 56,
   "metadata": {},
   "outputs": [],
   "source": [
    "\n",
    "audio_path = '/Users/SAMSUNG/Downloads/y2.wav'\n",
    "\n",
    "sr = 44100\n",
    "wav = librosa.db_to_power(y2, ref=1.0)\n",
    "wav = librosa.feature.inverse.mel_to_audio (M=wav, hop_length=512, sr=sr)\n",
    "#scipy.io.wavfile.write (audio_path, 16000, wav.astype(np.int16))\n",
    "write (audio_path, sr, wav.astype(np.float32))"
   ]
  },
  {
   "cell_type": "code",
   "execution_count": 55,
   "metadata": {},
   "outputs": [],
   "source": [
    "\n",
    "audio_path = '/Users/SAMSUNG/Downloads/yt10.wav'\n",
    "\n",
    "sr = 44100\n",
    "wav = librosa.db_to_power(yt10, ref=1.0)\n",
    "wav = librosa.feature.inverse.mel_to_audio (M=wav, hop_length=512, sr=sr)\n",
    "#scipy.io.wavfile.write (audio_path, 16000, wav.astype(np.int16))\n",
    "write (audio_path, sr, wav.astype(np.float32))"
   ]
  },
  {
   "cell_type": "markdown",
   "metadata": {},
   "source": [
    "- Play the converted audio"
   ]
  },
  {
   "cell_type": "code",
   "execution_count": 69,
   "metadata": {},
   "outputs": [
    {
     "name": "stdout",
     "output_type": "stream",
     "text": [
      "Collecting pygame\n",
      "  Downloading pygame-2.0.1-cp38-cp38-win_amd64.whl (5.2 MB)\n",
      "Installing collected packages: pygame\n",
      "Successfully installed pygame-2.0.1\n"
     ]
    }
   ],
   "source": [
    "! pip install pygame"
   ]
  },
  {
   "cell_type": "code",
   "execution_count": 78,
   "metadata": {},
   "outputs": [],
   "source": [
    "import pygame"
   ]
  },
  {
   "cell_type": "markdown",
   "metadata": {},
   "source": [
    "- **Original audio segment** : run the cell below to play the sequence"
   ]
  },
  {
   "cell_type": "code",
   "execution_count": 92,
   "metadata": {},
   "outputs": [
    {
     "data": {
      "text/plain": [
       "7488"
      ]
     },
     "execution_count": 92,
     "metadata": {},
     "output_type": "execute_result"
    }
   ],
   "source": [
    "pygame.mixer.init()\n",
    "my_sound = pygame.mixer.Sound('results/y_test20_CNN.wav')\n",
    "my_sound.play()\n",
    "pygame.time.wait(int(my_sound.get_length() * 1000))"
   ]
  },
  {
   "cell_type": "markdown",
   "metadata": {},
   "source": [
    "- **Predicted audio segment** : definitely has noise added in, however the rhythm and dim memory can be heard"
   ]
  },
  {
   "cell_type": "code",
   "execution_count": 91,
   "metadata": {},
   "outputs": [
    {
     "data": {
      "text/plain": [
       "7489"
      ]
     },
     "execution_count": 91,
     "metadata": {},
     "output_type": "execute_result"
    }
   ],
   "source": [
    "pygame.mixer.init()\n",
    "my_sound = pygame.mixer.Sound('results/y_pred20_CNN.wav')\n",
    "my_sound.play()\n",
    "pygame.time.wait(int(my_sound.get_length() * 1000))"
   ]
  },
  {
   "cell_type": "markdown",
   "metadata": {},
   "source": [
    "### The output sequences (y_test and y_pred) in spectograms"
   ]
  },
  {
   "cell_type": "code",
   "execution_count": 85,
   "metadata": {
    "id": "-RPmLObv9qXp"
   },
   "outputs": [],
   "source": [
    "from keras.preprocessing.image import load_img\n",
    "from keras.preprocessing.image import img_to_array\n",
    "from keras.preprocessing.image import array_to_img"
   ]
  },
  {
   "cell_type": "markdown",
   "metadata": {},
   "source": [
    "- **Original audio segment**"
   ]
  },
  {
   "cell_type": "code",
   "execution_count": 86,
   "metadata": {},
   "outputs": [
    {
     "data": {
      "image/png": "[encoded data removed]",
      "text/plain": [
       "<PIL.Image.Image image mode=L size=646x128 at 0x1B60ACDCB50>"
      ]
     },
     "execution_count": 86,
     "metadata": {},
     "output_type": "execute_result"
    }
   ],
   "source": [
    "img_array = array_to_img(y_test[0])\n",
    "img_array"
   ]
  },
  {
   "cell_type": "markdown",
   "metadata": {},
   "source": [
    "- **Predicted audio segment** : dim-faded version of the original, however conserves rhythm and basic color concentrations"
   ]
  },
  {
   "cell_type": "code",
   "execution_count": 87,
   "metadata": {},
   "outputs": [
    {
     "data": {
      "image/png": "[encoded data removed]",
      "text/plain": [
       "<PIL.Image.Image image mode=L size=646x128 at 0x1B60BFA6D90>"
      ]
     },
     "execution_count": 87,
     "metadata": {},
     "output_type": "execute_result"
    }
   ],
   "source": [
    "img_array = array_to_img(y_pred[0])\n",
    "img_array"
   ]
  }
 ],
 "metadata": {
  "accelerator": "GPU",
  "colab": {
   "collapsed_sections": [],
   "include_colab_link": true,
   "name": "03_CNN_Product_Audio.ipynb",
   "provenance": []
  },
  "kernelspec": {
   "display_name": "Python 3",
   "language": "python",
   "name": "python3"
  },
  "language_info": {
   "codemirror_mode": {
    "name": "ipython",
    "version": 3
   },
   "file_extension": ".py",
   "mimetype": "text/x-python",
   "name": "python",
   "nbconvert_exporter": "python",
   "pygments_lexer": "ipython3",
   "version": "3.8.5"
  }
 },
 "nbformat": 4,
 "nbformat_minor": 1
}
