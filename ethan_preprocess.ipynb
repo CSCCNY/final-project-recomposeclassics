{
  "nbformat": 4,
  "nbformat_minor": 0,
  "metadata": {
    "colab": {
      "name": "ethan_preprocess.ipynb",
      "provenance": [],
      "collapsed_sections": [],
      "authorship_tag": "ABX9TyPAvNGEtjMBWub+AZqUXNHD",
      "include_colab_link": true
    },
    "kernelspec": {
      "name": "python3",
      "display_name": "Python 3"
    },
    "language_info": {
      "name": "python"
    }
  },
  "cells": [
    {
      "cell_type": "markdown",
      "metadata": {
        "id": "view-in-github",
        "colab_type": "text"
      },
      "source": [
        "<a href=\"https://colab.research.google.com/github/CSCCNY/final-project-recomposeclassics/blob/main/ethan_preprocess.ipynb\" target=\"_parent\"><img src=\"https://colab.research.google.com/assets/colab-badge.svg\" alt=\"Open In Colab\"/></a>"
      ]
    },
    {
      "cell_type": "code",
      "metadata": {
        "colab": {
          "base_uri": "https://localhost:8080/"
        },
        "id": "LXuaRKTw4G48",
        "outputId": "d8dbe269-e0eb-4154-8ae0-f1ee5d61df88"
      },
      "source": [
        "from google.colab import drive\n",
        "drive.mount('/content/gdrive/')"
      ],
      "execution_count": 2,
      "outputs": [
        {
          "output_type": "stream",
          "text": [
            "Drive already mounted at /content/gdrive/; to attempt to forcibly remount, call drive.mount(\"/content/gdrive/\", force_remount=True).\n"
          ],
          "name": "stdout"
        }
      ]
    },
    {
      "cell_type": "code",
      "metadata": {
        "id": "qYjU57wH6F8f"
      },
      "source": [
        "import os\n",
        "import matplotlib.pyplot as plt\n",
        "import librosa\n",
        "import librosa.display\n",
        "import IPython.display as ipd\n",
        "import pickle\n",
        "import numpy as np"
      ],
      "execution_count": 2,
      "outputs": []
    },
    {
      "cell_type": "code",
      "metadata": {
        "id": "uZL4pyDj6P1U"
      },
      "source": [
        "class Loader:\n",
        "    \"\"\"Loader is responsible for loading a wav audio file.\"\"\"\n",
        "\n",
        "    def __init__(self, sample_rate, duration, mono):\n",
        "        self.sample_rate = sample_rate\n",
        "        self.duration = duration\n",
        "        self.mono = mono\n",
        "\n",
        "    def load(self, file_path):\n",
        "        signal = librosa.load(file_path,\n",
        "                              sr=self.sample_rate,\n",
        "                              duration=self.duration,\n",
        "                              mono=self.mono)[0]\n",
        "        return signal\n"
      ],
      "execution_count": 12,
      "outputs": []
    },
    {
      "cell_type": "code",
      "metadata": {
        "id": "x98vTM7Y75rp"
      },
      "source": [
        "class Padder:\n",
        "    \"\"\"Padder is responsible to apply padding to an array.\"\"\"\n",
        "\n",
        "    def __init__(self, mode=\"constant\"):\n",
        "        self.mode = mode\n",
        "\n",
        "    def left_pad(self, array, num_missing_items):\n",
        "        padded_array = np.pad(array,\n",
        "                              (num_missing_items, 0),\n",
        "                              mode=self.mode)\n",
        "        return padded_array\n",
        "\n",
        "    def right_pad(self, array, num_missing_items):\n",
        "        padded_array = np.pad(array,\n",
        "                              (0, num_missing_items),\n",
        "                              mode=self.mode)\n",
        "        return padded_array"
      ],
      "execution_count": 13,
      "outputs": []
    },
    {
      "cell_type": "code",
      "metadata": {
        "id": "_EAQn_ue783U"
      },
      "source": [
        "class LogSpectrogramExtractor:\n",
        "    \"\"\"LogSpectrogramExtractor extracts log spectrograms (in dB) from a\n",
        "    time-series signal.\n",
        "    \"\"\"\n",
        "\n",
        "    def __init__(self, frame_size, hop_length):\n",
        "        self.frame_size = frame_size\n",
        "        self.hop_length = hop_length\n",
        "\n",
        "    def extract(self, signal):\n",
        "        stft = librosa.stft(signal,\n",
        "                            n_fft=self.frame_size,\n",
        "                            hop_length=self.hop_length)[:-1]\n",
        "        spectrogram = np.abs(stft)\n",
        "        log_spectrogram = librosa.amplitude_to_db(spectrogram)\n",
        "        return log_spectrogram"
      ],
      "execution_count": 14,
      "outputs": []
    },
    {
      "cell_type": "code",
      "metadata": {
        "id": "D3sP8BLd8ADM"
      },
      "source": [
        "class MinMaxNormaliser:\n",
        "    \"\"\"MinMaxNormaliser applies min max normalisation to an array.\"\"\"\n",
        "\n",
        "    def __init__(self, min_val, max_val):\n",
        "        self.min = min_val\n",
        "        self.max = max_val\n",
        "\n",
        "    def normalise(self, array):\n",
        "        norm_array = (array - array.min()) / (array.max() - array.min())\n",
        "        norm_array = norm_array * (self.max - self.min) + self.min\n",
        "        return norm_array\n",
        "\n",
        "    def denormalise(self, norm_array, original_min, original_max):\n",
        "        array = (norm_array - self.min) / (self.max - self.min)\n",
        "        array = array * (original_max - original_min) + original_min\n",
        "        return array\n"
      ],
      "execution_count": 15,
      "outputs": []
    },
    {
      "cell_type": "code",
      "metadata": {
        "id": "fzZdgKy-8DQ5"
      },
      "source": [
        "class Saver:\n",
        "    \"\"\"saver is responsible to save features, and the min max values.\"\"\"\n",
        "\n",
        "    def __init__(self, feature_save_dir, min_max_values_save_dir):\n",
        "        self.feature_save_dir = feature_save_dir\n",
        "        self.min_max_values_save_dir = min_max_values_save_dir\n",
        "\n",
        "    def save_feature(self, feature, file_path):\n",
        "        save_path = self._generate_save_path(file_path)\n",
        "        np.save(save_path, feature)\n",
        "\n",
        "    def save_min_max_values(self, min_max_values):\n",
        "        save_path = os.path.join(self.min_max_values_save_dir,\n",
        "                                 \"min_max_values.pkl\")\n",
        "        self._save(min_max_values, save_path)\n",
        "\n",
        "    @staticmethod\n",
        "    def _save(data, save_path):\n",
        "        with open(save_path, \"wb\") as f:\n",
        "            pickle.dump(data, f)\n",
        "\n",
        "    def _generate_save_path(self, file_path):\n",
        "        file_name = os.path.split(file_path)[1]\n",
        "        save_path = os.path.join(self.feature_save_dir, file_name + \".npy\")\n",
        "        return save_path\n"
      ],
      "execution_count": 16,
      "outputs": []
    },
    {
      "cell_type": "code",
      "metadata": {
        "id": "bj-t0NC58Gra"
      },
      "source": [
        "class PreprocessingPipeline:\n",
        "    \"\"\"PreprocessingPipeline processes audio files in a directory, applying\n",
        "    the following steps to each file:\n",
        "        1- load a file\n",
        "        2- pad the signal (if necessary)\n",
        "        3- extracting log spectrogram from signal\n",
        "        4- normalise spectrogram\n",
        "        5- save the normalised spectrogram\n",
        "\n",
        "    Storing the min max values for all the log spectrograms.\n",
        "    \"\"\"\n",
        "\n",
        "    def __init__(self):\n",
        "        self.padder = None\n",
        "        self.extractor = None\n",
        "        self.normaliser = None\n",
        "        self.saver = None\n",
        "        self.min_max_values = {}\n",
        "        self._loader = None\n",
        "        self._num_expected_samples = None\n",
        "\n",
        "    @property\n",
        "    def loader(self):\n",
        "        return self._loader\n",
        "\n",
        "    @loader.setter\n",
        "    def loader(self, loader):\n",
        "        self._loader = loader\n",
        "        self._num_expected_samples = int(loader.sample_rate * loader.duration)\n",
        "\n",
        "    def process(self, audio_files_dir):\n",
        "        for root, _, files in os.walk(audio_files_dir):\n",
        "            for file in files:\n",
        "                file_path = os.path.join(root, file)\n",
        "                self._process_file(file_path)\n",
        "                print(f\"Processed file {file_path}\")\n",
        "        self.saver.save_min_max_values(self.min_max_values)\n",
        "\n",
        "    def _process_file(self, file_path):\n",
        "        signal = self.loader.load(file_path)\n",
        "        if self._is_padding_necessary(signal):\n",
        "            signal = self._apply_padding(signal)\n",
        "        feature = self.extractor.extract(signal)\n",
        "        norm_feature = self.normaliser.normalise(feature)\n",
        "        save_path = self.saver.save_feature(norm_feature, file_path)\n",
        "        self._store_min_max_value(save_path, feature.min(), feature.max())\n",
        "\n",
        "    def _is_padding_necessary(self, signal):\n",
        "        if len(signal) < self._num_expected_samples:\n",
        "            return True\n",
        "        return False\n",
        "\n",
        "    def _apply_padding(self, signal):\n",
        "        num_missing_samples = self._num_expected_samples - len(signal)\n",
        "        padded_signal = self.padder.right_pad(signal, num_missing_samples)\n",
        "        return padded_signal\n",
        "\n",
        "    def _store_min_max_value(self, save_path, min_val, max_val):\n",
        "        self.min_max_values[save_path] = {\n",
        "            \"min\": min_val,\n",
        "            \"max\": max_val\n",
        "        }"
      ],
      "execution_count": 22,
      "outputs": []
    },
    {
      "cell_type": "code",
      "metadata": {
        "id": "7ohtSiSOUCRi"
      },
      "source": [
        "audio_fpath = \"/content/gdrive/My Drive/Classics_DNN/unzipped_classics/\"\n",
        "composer = 'chopin/'\n",
        "audio_clips = os.listdir(audio_fpath+composer)"
      ],
      "execution_count": 17,
      "outputs": []
    },
    {
      "cell_type": "code",
      "metadata": {
        "id": "g0lmP54Y8gOq"
      },
      "source": [
        "class Converter:\n",
        "  \"\"\" This class converts MIDI files in the midi_path directory to WAV files\n",
        "      in the wav_path directory \"\"\"\n",
        "\n",
        "  def __init__(self, midi_path, wav_path):\n",
        "      self.midi_path = midi_path\n",
        "      self.wav_path = wav_path\n",
        "\n",
        "  def convert(self):\n",
        "      i = 0\n",
        "      for i in range(len(audio_clips)):\n",
        "        ! fluidsynth -ni font.sf2 {midi_path + audio_clips[i]} -F {wav_path + os.path.splitext(audio_clips[i])[0]+'.wav'} -r 44100\n",
        "        print(os.path.splitext(audio_clips[i])[0]+'.wav file downloaded \\n')\n",
        "        i += 1\n",
        "        print(str(i) + \" files downloaded. \\n\")"
      ],
      "execution_count": 18,
      "outputs": []
    },
    {
      "cell_type": "code",
      "metadata": {
        "colab": {
          "base_uri": "https://localhost:8080/"
        },
        "id": "tsXUSwJg_mVG",
        "outputId": "ab37e3f9-140c-4197-e305-d1734813efcc"
      },
      "source": [
        "!sudo apt install fluidsynth\n",
        "!cp /usr/share/sounds/sf2/FluidR3_GM.sf2 ./font.sf2\n",
        "# Copy chopin MIDI files to new destination\n",
        "!cp /content/gdrive/My\\ Drive/Classics_DNN/unzipped_classics/chopin/*.mid /content/gdrive/My\\ Drive/Deep\\ Learning/Final\\ Project/midi/"
      ],
      "execution_count": 19,
      "outputs": [
        {
          "output_type": "stream",
          "text": [
            "Reading package lists... Done\n",
            "Building dependency tree       \n",
            "Reading state information... Done\n",
            "fluidsynth is already the newest version (1.1.9-1).\n",
            "The following package was automatically installed and is no longer required:\n",
            "  libnvidia-common-460\n",
            "Use 'sudo apt autoremove' to remove it.\n",
            "0 upgraded, 0 newly installed, 0 to remove and 34 not upgraded.\n"
          ],
          "name": "stdout"
        }
      ]
    },
    {
      "cell_type": "code",
      "metadata": {
        "colab": {
          "base_uri": "https://localhost:8080/"
        },
        "id": "b8X8Ap64GlIg",
        "outputId": "c2b7e887-635f-46b4-df4d-bf9b990a0409"
      },
      "source": [
        "midi_path = \"/content/gdrive/My\\ Drive/Deep\\ Learning/Final\\ Project/midi/\"\n",
        "wav_path = \"/content/gdrive/My\\ Drive/Deep\\ Learning/Final\\ Project/wav/\"\n",
        "converter = Converter(midi_path, wav_path)\n",
        "converter.convert()"
      ],
      "execution_count": null,
      "outputs": [
        {
          "output_type": "stream",
          "text": [
            "Rendering audio to file '/content/gdrive/My Drive/Deep Learning/Final Project/wav/chpn-p10.wav'..\n",
            "chpn-p10.wav file downloaded \n",
            "\n",
            "4 files downloaded. \n",
            "\n",
            "FluidSynth version 1.1.9\n",
            "Copyright (C) 2000-2018 Peter Hanappe and others.\n",
            "Distributed under the LGPL license.\n",
            "SoundFont(R) is a registered trademark of E-mu Systems, Inc.\n",
            "\n",
            "Rendering audio to file '/content/gdrive/My Drive/Deep Learning/Final Project/wav/chpn-p11.wav'..\n",
            "^C\n",
            "chpn-p11.wav file downloaded \n",
            "\n",
            "5 files downloaded. \n",
            "\n",
            "FluidSynth version 1.1.9\n",
            "Copyright (C) 2000-2018 Peter Hanappe and others.\n",
            "Distributed under the LGPL license.\n",
            "SoundFont(R) is a registered trademark of E-mu Systems, Inc.\n",
            "\n",
            "Rendering audio to file '/content/gdrive/My Drive/Deep Learning/Final Project/wav/chpn-p12.wav'..\n"
          ],
          "name": "stdout"
        }
      ]
    },
    {
      "cell_type": "code",
      "metadata": {
        "id": "bZbLgLsF8KeP"
      },
      "source": [
        "FRAME_SIZE = 512\n",
        "HOP_LENGTH = 256\n",
        "DURATION = 4.5  # in seconds\n",
        "SAMPLE_RATE = 22050\n",
        "MONO = True\n",
        "\n",
        "wav_path = \"/content/gdrive/My Drive/Deep Learning/Final Project/wav/\"\n",
        "fsdd_path = \"/content/gdrive/My Drive/Deep Learning/Final Project/fsdd/\"\n",
        "\n",
        "SPECTROGRAMS_SAVE_DIR = fsdd_path + \"/spectograms/\"\n",
        "MIN_MAX_VALUES_SAVE_DIR = fsdd_path\n",
        "FILES_DIR = wav_path"
      ],
      "execution_count": 33,
      "outputs": []
    },
    {
      "cell_type": "code",
      "metadata": {
        "colab": {
          "base_uri": "https://localhost:8080/"
        },
        "id": "t5Qgh11U8Paq",
        "outputId": "86a8a0ab-1e22-451c-8332-15f0a03d6bc4"
      },
      "source": [
        "# instantiate all objects\n",
        "loader = Loader(SAMPLE_RATE, DURATION, MONO)\n",
        "padder = Padder()\n",
        "log_spectrogram_extractor = LogSpectrogramExtractor(FRAME_SIZE, HOP_LENGTH)\n",
        "min_max_normaliser = MinMaxNormaliser(0, 1)\n",
        "saver = Saver(SPECTROGRAMS_SAVE_DIR, MIN_MAX_VALUES_SAVE_DIR)\n",
        "\n",
        "preprocessing_pipeline = PreprocessingPipeline()\n",
        "preprocessing_pipeline.loader = loader\n",
        "preprocessing_pipeline.padder = padder\n",
        "preprocessing_pipeline.extractor = log_spectrogram_extractor\n",
        "preprocessing_pipeline.normaliser = min_max_normaliser\n",
        "preprocessing_pipeline.saver = saver\n",
        "\n",
        "preprocessing_pipeline.process(FILES_DIR)"
      ],
      "execution_count": 34,
      "outputs": [
        {
          "output_type": "stream",
          "text": [
            "Processed file /content/gdrive/My Drive/Deep Learning/Final Project/wav/chp_op18.wav\n",
            "Processed file /content/gdrive/My Drive/Deep Learning/Final Project/wav/chp_op31.wav\n",
            "Processed file /content/gdrive/My Drive/Deep Learning/Final Project/wav/chpn-p1.wav\n",
            "Processed file /content/gdrive/My Drive/Deep Learning/Final Project/wav/chpn-p10.wav\n",
            "Processed file /content/gdrive/My Drive/Deep Learning/Final Project/wav/chpn-p11.wav\n",
            "Processed file /content/gdrive/My Drive/Deep Learning/Final Project/wav/chpn-p12.wav\n",
            "Processed file /content/gdrive/My Drive/Deep Learning/Final Project/wav/chpn-p13.wav\n",
            "Processed file /content/gdrive/My Drive/Deep Learning/Final Project/wav/chpn-p15.wav\n",
            "Processed file /content/gdrive/My Drive/Deep Learning/Final Project/wav/chpn-p14.wav\n",
            "Processed file /content/gdrive/My Drive/Deep Learning/Final Project/wav/chpn-p16.wav\n",
            "Processed file /content/gdrive/My Drive/Deep Learning/Final Project/wav/chpn-p17.wav\n",
            "Processed file /content/gdrive/My Drive/Deep Learning/Final Project/wav/chpn-p18.wav\n",
            "Processed file /content/gdrive/My Drive/Deep Learning/Final Project/wav/chpn-p19.wav\n",
            "Processed file /content/gdrive/My Drive/Deep Learning/Final Project/wav/chpn-p2.wav\n",
            "Processed file /content/gdrive/My Drive/Deep Learning/Final Project/wav/chpn-p21.wav\n",
            "Processed file /content/gdrive/My Drive/Deep Learning/Final Project/wav/chpn-p20.wav\n",
            "Processed file /content/gdrive/My Drive/Deep Learning/Final Project/wav/chpn-p22.wav\n",
            "Processed file /content/gdrive/My Drive/Deep Learning/Final Project/wav/chpn-p23.wav\n",
            "Processed file /content/gdrive/My Drive/Deep Learning/Final Project/wav/chpn-p24.wav\n",
            "Processed file /content/gdrive/My Drive/Deep Learning/Final Project/wav/chpn-p3.wav\n",
            "Processed file /content/gdrive/My Drive/Deep Learning/Final Project/wav/chpn-p4.wav\n",
            "Processed file /content/gdrive/My Drive/Deep Learning/Final Project/wav/chpn-p5.wav\n",
            "Processed file /content/gdrive/My Drive/Deep Learning/Final Project/wav/chpn-p6.wav\n",
            "Processed file /content/gdrive/My Drive/Deep Learning/Final Project/wav/chpn-p8.wav\n",
            "Processed file /content/gdrive/My Drive/Deep Learning/Final Project/wav/chpn-p7.wav\n",
            "Processed file /content/gdrive/My Drive/Deep Learning/Final Project/wav/chpn-p9.wav\n",
            "Processed file /content/gdrive/My Drive/Deep Learning/Final Project/wav/chpn_op10_e01.wav\n",
            "Processed file /content/gdrive/My Drive/Deep Learning/Final Project/wav/chpn_op10_e05.wav\n",
            "Processed file /content/gdrive/My Drive/Deep Learning/Final Project/wav/chpn_op10_e12.wav\n",
            "Processed file /content/gdrive/My Drive/Deep Learning/Final Project/wav/chpn_op23.wav\n",
            "Processed file /content/gdrive/My Drive/Deep Learning/Final Project/wav/chpn_op25_e1.wav\n",
            "Processed file /content/gdrive/My Drive/Deep Learning/Final Project/wav/chpn_op25_e11.wav\n",
            "Processed file /content/gdrive/My Drive/Deep Learning/Final Project/wav/chpn_op25_e12.wav\n",
            "Processed file /content/gdrive/My Drive/Deep Learning/Final Project/wav/chpn_op25_e3.wav\n",
            "Processed file /content/gdrive/My Drive/Deep Learning/Final Project/wav/chpn_op25_e2.wav\n",
            "Processed file /content/gdrive/My Drive/Deep Learning/Final Project/wav/chpn_op25_e4.wav\n",
            "Processed file /content/gdrive/My Drive/Deep Learning/Final Project/wav/chpn_op27_1.wav\n",
            "Processed file /content/gdrive/My Drive/Deep Learning/Final Project/wav/chpn_op27_2.wav\n",
            "Processed file /content/gdrive/My Drive/Deep Learning/Final Project/wav/chpn_op33_2.wav\n",
            "Processed file /content/gdrive/My Drive/Deep Learning/Final Project/wav/chpn_op33_4.wav\n",
            "Processed file /content/gdrive/My Drive/Deep Learning/Final Project/wav/chpn_op35_1.wav\n",
            "Processed file /content/gdrive/My Drive/Deep Learning/Final Project/wav/chpn_op35_2.wav\n",
            "Processed file /content/gdrive/My Drive/Deep Learning/Final Project/wav/chpn_op35_3.wav\n",
            "Processed file /content/gdrive/My Drive/Deep Learning/Final Project/wav/chpn_op35_4.wav\n",
            "Processed file /content/gdrive/My Drive/Deep Learning/Final Project/wav/chpn_op53.wav\n",
            "Processed file /content/gdrive/My Drive/Deep Learning/Final Project/wav/chpn_op66.wav\n",
            "Processed file /content/gdrive/My Drive/Deep Learning/Final Project/wav/chpn_op7_1.wav\n",
            "Processed file /content/gdrive/My Drive/Deep Learning/Final Project/wav/chpn_op7_2.wav\n"
          ],
          "name": "stdout"
        }
      ]
    }
  ]
}