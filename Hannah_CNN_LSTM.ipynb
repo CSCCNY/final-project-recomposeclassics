{
  "nbformat": 4,
  "nbformat_minor": 0,
  "metadata": {
    "colab": {
      "name": "models_CNN_LSTM.ipynb",
      "provenance": [],
      "toc_visible": true,
      "authorship_tag": "ABX9TyMyIKdKqXYQhIDtjcqyCqcg",
      "include_colab_link": true
    },
    "kernelspec": {
      "name": "python3",
      "display_name": "Python 3"
    },
    "language_info": {
      "name": "python"
    },
    "accelerator": "TPU"
  },
  "cells": [
    {
      "cell_type": "markdown",
      "metadata": {
        "id": "view-in-github",
        "colab_type": "text"
      },
      "source": [
        "<a href=\"https://colab.research.google.com/github/CSCCNY/final-project-recomposeclassics/blob/main/models_CNN_LSTM.ipynb\" target=\"_parent\"><img src=\"https://colab.research.google.com/assets/colab-badge.svg\" alt=\"Open In Colab\"/></a>"
      ]
    },
    {
      "cell_type": "markdown",
      "metadata": {
        "id": "Sjhmnigvmugj"
      },
      "source": [
        "## Recompose Classics : **CNN and LSTM models**\n",
        "Hannah Do\n",
        "April 22nd, 2021\n",
        "\n",
        "\n",
        "---\n",
        "\n",
        "\n",
        "##### **Summary**\n",
        "\n",
        "1. Spectogram files import\n",
        "\n",
        "\n",
        "2. Use of Scikit learn, numpy, and tensorflow/keras for CNN and LSTM implementation\n",
        "\n",
        "3. Evaluation\n",
        "\n",
        "\n",
        "---"
      ]
    },
    {
      "cell_type": "code",
      "metadata": {
        "colab": {
          "base_uri": "https://localhost:8080/"
        },
        "id": "Id8631JVlzl6",
        "outputId": "21ecbf42-2da6-4aee-cc11-f0dcb12aa28a"
      },
      "source": [
        "from google.colab import drive\n",
        "drive.mount('/content/gdrive/')"
      ],
      "execution_count": 1,
      "outputs": [
        {
          "output_type": "stream",
          "text": [
            "Mounted at /content/gdrive/\n"
          ],
          "name": "stdout"
        }
      ]
    },
    {
      "cell_type": "code",
      "metadata": {
        "id": "J_Lce7RznxtP"
      },
      "source": [
        "import pandas as pd\n",
        "import numpy as np\n",
        "from numpy import argmax\n",
        "import matplotlib.pyplot as plt\n",
        "%matplotlib inline\n",
        "import librosa\n",
        "import librosa.display\n",
        "import IPython.display\n",
        "import random\n",
        "import warnings\n",
        "import os\n",
        "from PIL import Image\n",
        "import pathlib\n",
        "import csv\n",
        "# sklearn Preprocessing\n",
        "from sklearn.model_selection import train_test_split\n",
        "#Keras\n",
        "import keras\n",
        "import warnings\n",
        "warnings.filterwarnings('ignore')\n",
        "from keras import layers\n",
        "from keras.layers import Activation, Dense, Dropout, Conv2D, Flatten, MaxPooling2D, GlobalMaxPooling2D, GlobalAveragePooling1D, AveragePooling2D, Input, Add\n",
        "from keras.models import Sequential\n",
        "from keras.optimizers import SGD"
      ],
      "execution_count": 2,
      "outputs": []
    },
    {
      "cell_type": "code",
      "metadata": {
        "colab": {
          "base_uri": "https://localhost:8080/"
        },
        "id": "m6R8DAXyqIOr",
        "outputId": "1602dfdb-1e1b-45d2-fb90-5ee1025e01f1"
      },
      "source": [
        "from PIL import Image\n",
        "import numpy as np\n",
        "\n",
        "im = np.array(Image.open('/content/gdrive/My Drive/Classics_DNN/unzipped_classics/chopin_spectogram/chpn_op10_e01.png'))\n",
        "\n",
        "print(type(im))\n",
        "# <class 'numpy.ndarray'>\n",
        "\n",
        "print(im.dtype)\n",
        "# uint8\n",
        "\n",
        "print(im.shape)\n",
        "# (225, 400, 3)"
      ],
      "execution_count": 10,
      "outputs": [
        {
          "output_type": "stream",
          "text": [
            "<class 'numpy.ndarray'>\n",
            "uint8\n",
            "(434, 892, 4)\n"
          ],
          "name": "stdout"
        }
      ]
    },
    {
      "cell_type": "code",
      "metadata": {
        "colab": {
          "base_uri": "https://localhost:8080/"
        },
        "id": "lQdk2LllqICk",
        "outputId": "9625dce9-c585-40d4-ea15-8cf6d940cb8b"
      },
      "source": [
        "im"
      ],
      "execution_count": 11,
      "outputs": [
        {
          "output_type": "execute_result",
          "data": {
            "text/plain": [
              "array([[[  0,   0,   4, 255],\n",
              "        [  0,   0,   4, 255],\n",
              "        [  0,   0,   4, 255],\n",
              "        ...,\n",
              "        [  0,   0,   4, 255],\n",
              "        [  0,   0,   4, 255],\n",
              "        [  0,   0,   4, 255]],\n",
              "\n",
              "       [[  0,   0,   4, 255],\n",
              "        [  0,   0,   4, 255],\n",
              "        [  0,   0,   4, 255],\n",
              "        ...,\n",
              "        [  0,   0,   4, 255],\n",
              "        [  0,   0,   4, 255],\n",
              "        [  0,   0,   4, 255]],\n",
              "\n",
              "       [[  0,   0,   4, 255],\n",
              "        [  0,   0,   4, 255],\n",
              "        [  0,   0,   4, 255],\n",
              "        ...,\n",
              "        [  0,   0,   4, 255],\n",
              "        [  0,   0,   4, 255],\n",
              "        [  0,   0,   4, 255]],\n",
              "\n",
              "       ...,\n",
              "\n",
              "       [[139,  41, 129, 255],\n",
              "        [ 61,  15, 113, 255],\n",
              "        [ 45,  17,  97, 255],\n",
              "        ...,\n",
              "        [ 11,   9,  36, 255],\n",
              "        [ 66,  15, 117, 255],\n",
              "        [ 76,  17, 122, 255]],\n",
              "\n",
              "       [[139,  41, 129, 255],\n",
              "        [ 61,  15, 113, 255],\n",
              "        [ 45,  17,  97, 255],\n",
              "        ...,\n",
              "        [ 11,   9,  36, 255],\n",
              "        [ 66,  15, 117, 255],\n",
              "        [ 76,  17, 122, 255]],\n",
              "\n",
              "       [[139,  41, 129, 255],\n",
              "        [ 61,  15, 113, 255],\n",
              "        [ 45,  17,  97, 255],\n",
              "        ...,\n",
              "        [ 11,   9,  36, 255],\n",
              "        [ 66,  15, 117, 255],\n",
              "        [ 76,  17, 122, 255]]], dtype=uint8)"
            ]
          },
          "metadata": {
            "tags": []
          },
          "execution_count": 11
        }
      ]
    },
    {
      "cell_type": "code",
      "metadata": {
        "id": "yemX7vS0qH5I"
      },
      "source": [
        ""
      ],
      "execution_count": null,
      "outputs": []
    },
    {
      "cell_type": "code",
      "metadata": {
        "id": "qUuOhOjPoI7-"
      },
      "source": [
        "# model = Sequential()\n",
        "# input_shape=(64, 64, 3)#1st hidden layer\n",
        "# model.add(Conv2D(32, (3, 3), strides=(2, 2), input_shape=input_shape))\n",
        "# model.add(AveragePooling2D((2, 2), strides=(2,2)))\n",
        "# model.add(Activation('relu'))#2nd hidden layer\n",
        "# model.add(Conv2D(64, (3, 3), padding=\"same\"))\n",
        "# model.add(AveragePooling2D((2, 2), strides=(2,2)))\n",
        "# model.add(Activation('relu'))#3rd hidden layer\n",
        "# model.add(Conv2D(64, (3, 3), padding=\"same\"))\n",
        "# model.add(AveragePooling2D((2, 2), strides=(2,2)))\n",
        "# model.add(Activation('relu'))#Flatten\n",
        "# model.add(Flatten())\n",
        "# model.add(Dropout(rate=0.5))#Add fully connected layer.\n",
        "# model.add(Dense(64))\n",
        "# model.add(Activation('relu'))\n",
        "# model.add(Dropout(rate=0.5))#Output layer\n",
        "# model.add(Dense(10))\n",
        "# model.add(Activation('softmax'))model.summary()"
      ],
      "execution_count": null,
      "outputs": []
    },
    {
      "cell_type": "code",
      "metadata": {
        "id": "hXmsXuF7oLwK"
      },
      "source": [
        "# epochs = 200\n",
        "# batch_size = 8\n",
        "# learning_rate = 0.01\n",
        "# decay_rate = learning_rate / epochs\n",
        "# momentum = 0.9\n",
        "# sgd = SGD(lr=learning_rate, momentum=momentum, decay=decay_rate, nesterov=False)\n",
        "# model.compile(optimizer=\"sgd\", loss=\"categorical_crossentropy\", metrics=['accuracy'])"
      ],
      "execution_count": null,
      "outputs": []
    },
    {
      "cell_type": "code",
      "metadata": {
        "id": "_VpTMCxroPPN"
      },
      "source": [
        "# model.fit_generator(\n",
        "#         training_set,\n",
        "#         steps_per_epoch=100,\n",
        "#         epochs=50,\n",
        "#         validation_data=test_set,\n",
        "#         validation_steps=200)"
      ],
      "execution_count": null,
      "outputs": []
    },
    {
      "cell_type": "code",
      "metadata": {
        "id": "vvlFSIT1oQ3H"
      },
      "source": [
        "# #Model Evaluation\n",
        "# model.evaluate_generator(generator=test_set, steps=50)"
      ],
      "execution_count": null,
      "outputs": []
    },
    {
      "cell_type": "code",
      "metadata": {
        "id": "RJl6WWP2oSm6"
      },
      "source": [
        "# test_set.reset()\n",
        "# pred = model.predict_generator(test_set, steps=50, verbose=1)"
      ],
      "execution_count": null,
      "outputs": []
    },
    {
      "cell_type": "code",
      "metadata": {
        "id": "cynYd6PtoVxO"
      },
      "source": [
        "# predicted_class_indices=np.argmax(pred,axis=1)\n",
        "\n",
        "# labels = (training_set.class_indices)\n",
        "# labels = dict((v,k) for k,v in labels.items())\n",
        "# predictions = [labels[k] for k in predicted_class_indices]\n",
        "# predictions = predictions[:200]\n",
        "# filenames=test_set.filenames"
      ],
      "execution_count": null,
      "outputs": []
    },
    {
      "cell_type": "code",
      "metadata": {
        "id": "aaW5H6DeoY48"
      },
      "source": [
        "# print(len(filename, len(predictions)))\n",
        "# # (200, 200)"
      ],
      "execution_count": null,
      "outputs": []
    }
  ]
}
