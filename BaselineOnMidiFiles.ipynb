{
  "nbformat": 4,
  "nbformat_minor": 0,
  "metadata": {
    "colab": {
      "name": "BaselineOnMidiFiles.ipynb",
      "provenance": [],
      "toc_visible": true,
      "authorship_tag": "ABX9TyNLfnemu1jJ+chIaxradA3K",
      "include_colab_link": true
    },
    "kernelspec": {
      "name": "python3",
      "display_name": "Python 3"
    },
    "language_info": {
      "name": "python"
    },
    "accelerator": "TPU"
  },
  "cells": [
    {
      "cell_type": "markdown",
      "metadata": {
        "id": "view-in-github",
        "colab_type": "text"
      },
      "source": [
        "<a href=\"https://colab.research.google.com/github/CSCCNY/final-project-recomposeclassics/blob/main/BaselineOnMidiFiles.ipynb\" target=\"_parent\"><img src=\"https://colab.research.google.com/assets/colab-badge.svg\" alt=\"Open In Colab\"/></a>"
      ]
    },
    {
      "cell_type": "markdown",
      "metadata": {
        "id": "aLhS44VCaKO6"
      },
      "source": [
        "##**Recompose Classics : Baseline Model on Midi files**\n",
        "######Hannah Do\n",
        "\n",
        "---\n",
        "***Summary***\n",
        "\n",
        "1. Extract the notes and chords from the midi files with **music21**\n",
        "2. Build Baseline Model\n",
        "3. Run the models to predict and evaluate\n",
        "\n",
        "\n",
        "---"
      ]
    },
    {
      "cell_type": "code",
      "metadata": {
        "colab": {
          "base_uri": "https://localhost:8080/"
        },
        "id": "jW2K-z1LZ964",
        "outputId": "b7b5c78a-28b6-48af-ce41-c4da36a15a44"
      },
      "source": [
        "from google.colab import drive\n",
        "drive.mount('/content/gdrive/')"
      ],
      "execution_count": null,
      "outputs": [
        {
          "output_type": "stream",
          "text": [
            "Mounted at /content/gdrive/\n"
          ],
          "name": "stdout"
        }
      ]
    },
    {
      "cell_type": "code",
      "metadata": {
        "id": "5A1R7uD0cLHZ"
      },
      "source": [
        "import glob\n",
        "import pickle\n",
        "import numpy as np\n",
        "from music21 import converter, instrument, note, chord\n",
        "\n",
        "import tensorflow as tf\n",
        "import keras\n",
        "from tensorflow.keras.models import Sequential\n",
        "from tensorflow.keras.layers import BatchNormalization\n",
        "from tensorflow.keras.layers import Conv2DTranspose\n",
        "from tensorflow.keras.layers import Conv2D\n",
        "from tensorflow.keras.layers import LeakyReLU\n",
        "from tensorflow.keras.layers import Activation\n",
        "from tensorflow.keras.layers import Flatten\n",
        "from tensorflow.keras.layers import Dense\n",
        "from tensorflow.keras.layers import Reshape\n",
        "from tensorflow.keras.layers import Dropout\n",
        "from tensorflow.keras.layers import MaxPooling2D\n"
      ],
      "execution_count": 274,
      "outputs": []
    },
    {
      "cell_type": "markdown",
      "metadata": {
        "id": "adaHER9M9fO3"
      },
      "source": [
        "#### 1. Extract the notes and chords from the midi files with **music21**"
      ]
    },
    {
      "cell_type": "code",
      "metadata": {
        "id": "uc0dnXH-criR"
      },
      "source": [
        "def get_notes():\n",
        "\n",
        "    notes = []\n",
        "\n",
        "    for file in glob.glob(\"/content/gdrive/My Drive/RecomposeClassics/chopin/*.mid\"):\n",
        "        midi = converter.parse(file)\n",
        "\n",
        "        print(\"Parsing %s\" % file)\n",
        "\n",
        "        notes_to_parse = None\n",
        "\n",
        "        try: # file has instrument parts\n",
        "            s2 = instrument.partitionByInstrument(midi)\n",
        "            notes_to_parse = s2.parts[0].recurse() \n",
        "        except: # file has notes in a flat structure\n",
        "            notes_to_parse = midi.flat.notes\n",
        "\n",
        "        for element in notes_to_parse:\n",
        "            if isinstance(element, note.Note):\n",
        "                notes.append(str(element.pitch))\n",
        "            elif isinstance(element, chord.Chord):\n",
        "                notes.append('.'.join(str(n) for n in element.normalOrder))\n",
        "\n",
        "    with open('/content/gdrive/My Drive/RecomposeClassics/data/notes', 'wb') as filepath:\n",
        "        pickle.dump(notes, filepath)\n",
        "\n",
        "    return notes\n",
        "\n",
        "\n",
        "def prepare_sequences(notes, n_vocab):\n",
        "\n",
        "    sequence_length = 50\n",
        "\n",
        "    # get all pitch names\n",
        "    pitchnames = sorted(set(item for item in notes))\n",
        "\n",
        "     # create a dictionary to map pitches to integers\n",
        "    note_to_int = dict((note, number) for number, note in enumerate(pitchnames))\n",
        "\n",
        "    network_input = []\n",
        "    network_output = []\n",
        "\n",
        "    # create input sequences and the corresponding outputs\n",
        "    for i in range(0, len(notes) - sequence_length, sequence_length):\n",
        "\n",
        "        sequence_in = notes[i:i + sequence_length]\n",
        "        network_input.append([note_to_int[char] for char in sequence_in])\n",
        "\n",
        "    n_patterns = len(network_input)\n",
        "\n",
        "\n",
        "    \n",
        "    network_input = numpy.reshape(network_input, (n_patterns, sequence_length, 1))\n",
        "    # normalize input\n",
        "    network_input = network_input / float(n_vocab)\n",
        "\n",
        "    # network_output = np_utils.to_categorical(network_output)\n",
        "\n",
        "    return network_input\n"
      ],
      "execution_count": 218,
      "outputs": []
    },
    {
      "cell_type": "code",
      "metadata": {
        "colab": {
          "base_uri": "https://localhost:8080/"
        },
        "id": "EQv3DVQ8GTYe",
        "outputId": "b39bd533-3e24-4d01-ad30-bcfe4e00edc8"
      },
      "source": [
        "notes = get_notes()"
      ],
      "execution_count": 5,
      "outputs": [
        {
          "output_type": "stream",
          "text": [
            "Parsing /content/gdrive/My Drive/RecomposeClassics/chopin/chp_op18.mid\n",
            "Parsing /content/gdrive/My Drive/RecomposeClassics/chopin/chpn-p10.mid\n",
            "Parsing /content/gdrive/My Drive/RecomposeClassics/chopin/chpn-p11.mid\n",
            "Parsing /content/gdrive/My Drive/RecomposeClassics/chopin/chp_op31.mid\n",
            "Parsing /content/gdrive/My Drive/RecomposeClassics/chopin/chpn-p1.mid\n",
            "Parsing /content/gdrive/My Drive/RecomposeClassics/chopin/chpn-p12.mid\n",
            "Parsing /content/gdrive/My Drive/RecomposeClassics/chopin/chpn-p14.mid\n",
            "Parsing /content/gdrive/My Drive/RecomposeClassics/chopin/chpn-p15.mid\n",
            "Parsing /content/gdrive/My Drive/RecomposeClassics/chopin/chpn-p13.mid\n",
            "Parsing /content/gdrive/My Drive/RecomposeClassics/chopin/chpn-p18.mid\n",
            "Parsing /content/gdrive/My Drive/RecomposeClassics/chopin/chpn-p16.mid\n",
            "Parsing /content/gdrive/My Drive/RecomposeClassics/chopin/chpn-p17.mid\n",
            "Parsing /content/gdrive/My Drive/RecomposeClassics/chopin/chpn-p2.mid\n",
            "Parsing /content/gdrive/My Drive/RecomposeClassics/chopin/chpn-p19.mid\n",
            "Parsing /content/gdrive/My Drive/RecomposeClassics/chopin/chpn-p21.mid\n",
            "Parsing /content/gdrive/My Drive/RecomposeClassics/chopin/chpn-p22.mid\n",
            "Parsing /content/gdrive/My Drive/RecomposeClassics/chopin/chpn-p20.mid\n",
            "Parsing /content/gdrive/My Drive/RecomposeClassics/chopin/chpn-p23.mid\n",
            "Parsing /content/gdrive/My Drive/RecomposeClassics/chopin/chpn-p3.mid\n",
            "Parsing /content/gdrive/My Drive/RecomposeClassics/chopin/chpn-p24.mid\n",
            "Parsing /content/gdrive/My Drive/RecomposeClassics/chopin/chpn-p4.mid\n",
            "Parsing /content/gdrive/My Drive/RecomposeClassics/chopin/chpn-p5.mid\n",
            "Parsing /content/gdrive/My Drive/RecomposeClassics/chopin/chpn_op10_e01.mid\n",
            "Parsing /content/gdrive/My Drive/RecomposeClassics/chopin/chpn-p7.mid\n",
            "Parsing /content/gdrive/My Drive/RecomposeClassics/chopin/chpn-p6.mid\n",
            "Parsing /content/gdrive/My Drive/RecomposeClassics/chopin/chpn-p8.mid\n",
            "Parsing /content/gdrive/My Drive/RecomposeClassics/chopin/chpn-p9.mid\n",
            "Parsing /content/gdrive/My Drive/RecomposeClassics/chopin/chpn_op10_e05.mid\n",
            "Parsing /content/gdrive/My Drive/RecomposeClassics/chopin/chpn_op10_e12.mid\n",
            "Parsing /content/gdrive/My Drive/RecomposeClassics/chopin/chpn_op25_e11.mid\n",
            "Parsing /content/gdrive/My Drive/RecomposeClassics/chopin/chpn_op23.mid\n",
            "Parsing /content/gdrive/My Drive/RecomposeClassics/chopin/chpn_op25_e1.mid\n",
            "Parsing /content/gdrive/My Drive/RecomposeClassics/chopin/chpn_op25_e12.mid\n",
            "Parsing /content/gdrive/My Drive/RecomposeClassics/chopin/chpn_op25_e2.mid\n",
            "Parsing /content/gdrive/My Drive/RecomposeClassics/chopin/chpn_op25_e4.mid\n",
            "Parsing /content/gdrive/My Drive/RecomposeClassics/chopin/chpn_op25_e3.mid\n",
            "Parsing /content/gdrive/My Drive/RecomposeClassics/chopin/chpn_op33_2.mid\n",
            "Parsing /content/gdrive/My Drive/RecomposeClassics/chopin/chpn_op27_1.mid\n",
            "Parsing /content/gdrive/My Drive/RecomposeClassics/chopin/chpn_op27_2.mid\n",
            "Parsing /content/gdrive/My Drive/RecomposeClassics/chopin/chpn_op33_4.mid\n",
            "Parsing /content/gdrive/My Drive/RecomposeClassics/chopin/chpn_op35_1.mid\n",
            "Parsing /content/gdrive/My Drive/RecomposeClassics/chopin/chpn_op35_2.mid\n",
            "Parsing /content/gdrive/My Drive/RecomposeClassics/chopin/chpn_op35_4.mid\n",
            "Parsing /content/gdrive/My Drive/RecomposeClassics/chopin/chpn_op53.mid\n",
            "Parsing /content/gdrive/My Drive/RecomposeClassics/chopin/chpn_op35_3.mid\n",
            "Parsing /content/gdrive/My Drive/RecomposeClassics/chopin/chpn_op7_1.mid\n",
            "Parsing /content/gdrive/My Drive/RecomposeClassics/chopin/chpn_op7_2.mid\n",
            "Parsing /content/gdrive/My Drive/RecomposeClassics/chopin/chpn_op66.mid\n"
          ],
          "name": "stdout"
        }
      ]
    },
    {
      "cell_type": "code",
      "metadata": {
        "id": "Dj6kVe4eGdZ-"
      },
      "source": [
        "from keras.utils import np_utils\n",
        "\n",
        "n_vocab = len(set(notes))\n",
        "\n",
        "network_input = prepare_sequences(notes, n_vocab)"
      ],
      "execution_count": 219,
      "outputs": []
    },
    {
      "cell_type": "code",
      "metadata": {
        "colab": {
          "base_uri": "https://localhost:8080/"
        },
        "id": "VcAj5IP2JG7U",
        "outputId": "de06d799-4fdc-4be4-eff2-58dbfb9e48e0"
      },
      "source": [
        "np.shape(network_input)"
      ],
      "execution_count": 220,
      "outputs": [
        {
          "output_type": "execute_result",
          "data": {
            "text/plain": [
              "(1268, 50, 1)"
            ]
          },
          "metadata": {
            "tags": []
          },
          "execution_count": 220
        }
      ]
    },
    {
      "cell_type": "code",
      "metadata": {
        "colab": {
          "base_uri": "https://localhost:8080/"
        },
        "id": "L1iYK4bq4qud",
        "outputId": "78d85c73-41e9-46ab-fd5d-0088c648a706"
      },
      "source": [
        "a, b = np.split(network_input, 2)\n",
        "\n",
        "np.shape(a)\n"
      ],
      "execution_count": 241,
      "outputs": [
        {
          "output_type": "execute_result",
          "data": {
            "text/plain": [
              "(634, 50, 1)"
            ]
          },
          "metadata": {
            "tags": []
          },
          "execution_count": 241
        }
      ]
    },
    {
      "cell_type": "code",
      "metadata": {
        "id": "_6dcqbWQB4t1",
        "outputId": "e5c10441-bd13-4fc8-b708-5ccb949c5649",
        "colab": {
          "base_uri": "https://localhost:8080/"
        }
      },
      "source": [
        "c, d = np.split(a, 2)\n",
        "\n",
        "np.shape(c)"
      ],
      "execution_count": 242,
      "outputs": [
        {
          "output_type": "execute_result",
          "data": {
            "text/plain": [
              "(317, 50, 1)"
            ]
          },
          "metadata": {
            "tags": []
          },
          "execution_count": 242
        }
      ]
    },
    {
      "cell_type": "code",
      "metadata": {
        "id": "xzqtI8-2CCNZ"
      },
      "source": [
        "input1 = np.concatenate(((b, d)), axis=0)\n",
        "\n",
        "input2 = c"
      ],
      "execution_count": 243,
      "outputs": []
    },
    {
      "cell_type": "code",
      "metadata": {
        "id": "JKA8_-oUESIg",
        "outputId": "1d52971d-d7c5-43dd-fdd9-24581f3a5cc8",
        "colab": {
          "base_uri": "https://localhost:8080/"
        }
      },
      "source": [
        "\n",
        "input1 = input1.transpose(1, 2, 0)\n",
        "np.shape(input1)"
      ],
      "execution_count": 244,
      "outputs": [
        {
          "output_type": "execute_result",
          "data": {
            "text/plain": [
              "(50, 1, 951)"
            ]
          },
          "metadata": {
            "tags": []
          },
          "execution_count": 244
        }
      ]
    },
    {
      "cell_type": "code",
      "metadata": {
        "id": "2Suvap76FCk7"
      },
      "source": [
        "input2 = input2.transpose(1, 2, 0)"
      ],
      "execution_count": 245,
      "outputs": []
    },
    {
      "cell_type": "code",
      "metadata": {
        "id": "4dHOdewdJQHP"
      },
      "source": [
        "from sklearn.model_selection import train_test_split\n",
        "\n",
        "x_train, x_test, y_train, y_test = train_test_split(input1, input2, test_size=0.2, random_state=42)"
      ],
      "execution_count": 246,
      "outputs": []
    },
    {
      "cell_type": "code",
      "metadata": {
        "colab": {
          "base_uri": "https://localhost:8080/"
        },
        "id": "PufvPtiMKH7s",
        "outputId": "fee7936d-ce1c-43d9-bce5-ce686955bbc3"
      },
      "source": [
        "np.shape(x_train)"
      ],
      "execution_count": 247,
      "outputs": [
        {
          "output_type": "execute_result",
          "data": {
            "text/plain": [
              "(40, 1, 951)"
            ]
          },
          "metadata": {
            "tags": []
          },
          "execution_count": 247
        }
      ]
    },
    {
      "cell_type": "code",
      "metadata": {
        "id": "KKw-EO20cyah"
      },
      "source": [
        "\n",
        "def baseline(network_input, n_vocab):\n",
        "\n",
        "    model = Sequential()\n",
        "\n",
        "    model.add(Dense(2, input_shape=(np.shape(network_input))))\n",
        "    model.add(Dense(3))\n",
        "    model.add(Dense(4))\n",
        "    # model.add(Dropout(0.2))\n",
        "    model.add(Dense(317))\n",
        "\n",
        "    model.add(Activation('softmax'))\n",
        "    model.compile(loss='categorical_crossentropy', optimizer='rmsprop')\n",
        "\n",
        "    return model\n",
        "    "
      ],
      "execution_count": 278,
      "outputs": []
    },
    {
      "cell_type": "code",
      "metadata": {
        "id": "kpr7dzHkGoKS"
      },
      "source": [
        "baseline_model = baseline(x_train, n_vocab)\n"
      ],
      "execution_count": 280,
      "outputs": []
    },
    {
      "cell_type": "code",
      "metadata": {
        "colab": {
          "base_uri": "https://localhost:8080/"
        },
        "id": "BN2iEJkC-cff",
        "outputId": "fc2156c1-932d-4dfc-ca44-99a322922345"
      },
      "source": [
        "baseline_model.summary()"
      ],
      "execution_count": 281,
      "outputs": [
        {
          "output_type": "stream",
          "text": [
            "Model: \"sequential_51\"\n",
            "_________________________________________________________________\n",
            "Layer (type)                 Output Shape              Param #   \n",
            "=================================================================\n",
            "dense_139 (Dense)            (None, 40, 1, 2)          1904      \n",
            "_________________________________________________________________\n",
            "dense_140 (Dense)            (None, 40, 1, 3)          9         \n",
            "_________________________________________________________________\n",
            "dense_141 (Dense)            (None, 40, 1, 4)          16        \n",
            "_________________________________________________________________\n",
            "dense_142 (Dense)            (None, 40, 1, 317)        1585      \n",
            "_________________________________________________________________\n",
            "activation_53 (Activation)   (None, 40, 1, 317)        0         \n",
            "=================================================================\n",
            "Total params: 3,514\n",
            "Trainable params: 3,514\n",
            "Non-trainable params: 0\n",
            "_________________________________________________________________\n"
          ],
          "name": "stdout"
        }
      ]
    },
    {
      "cell_type": "code",
      "metadata": {
        "id": "gjcaw4zNc3nJ"
      },
      "source": [
        "from keras.callbacks import ModelCheckpoint\n",
        "\n",
        "def train(baseline_model, input1, input2):\n",
        "\n",
        "    filepath = \"weights-improvement-{epoch:02d}-{loss:.4f}-bigger.hdf5\"\n",
        "    checkpoint = ModelCheckpoint(\n",
        "        filepath,\n",
        "        monitor='loss',\n",
        "        verbose=0,\n",
        "        save_best_only=True,\n",
        "        mode='min'\n",
        "    )\n",
        "    callbacks_list = [checkpoint]\n",
        "\n",
        "    baseline_model.fit(input1, input2, epochs=250, batch_size=128, callbacks=callbacks_list)\n",
        "\n",
        "    baseline_model.compile(\n",
        "      optimizer=tf.optimizers.Adam(learning_rate=0.1),\n",
        "      loss='mean_absolute_error', metrics='mean_squared_error')"
      ],
      "execution_count": 288,
      "outputs": []
    },
    {
      "cell_type": "code",
      "metadata": {
        "colab": {
          "base_uri": "https://localhost:8080/"
        },
        "id": "RrnsAZUL4eZ4",
        "outputId": "5a9fa11e-8de8-47bb-cf7c-d95203a6e513"
      },
      "source": [
        "\n",
        "train(baseline_model, x_train, y_train)\n"
      ],
      "execution_count": 289,
      "outputs": [
        {
          "output_type": "stream",
          "text": [
            "Epoch 1/250\n",
            "1/1 [==============================] - 0s 13ms/step - loss: 0.7261 - mean_squared_error: 0.6033\n",
            "Epoch 2/250\n",
            "1/1 [==============================] - 0s 7ms/step - loss: 0.7261 - mean_squared_error: 0.6033\n",
            "Epoch 3/250\n",
            "1/1 [==============================] - 0s 6ms/step - loss: 0.7261 - mean_squared_error: 0.6033\n",
            "Epoch 4/250\n",
            "1/1 [==============================] - 0s 8ms/step - loss: 0.7261 - mean_squared_error: 0.6033\n",
            "Epoch 5/250\n",
            "1/1 [==============================] - 0s 7ms/step - loss: 0.7261 - mean_squared_error: 0.6033\n",
            "Epoch 6/250\n",
            "1/1 [==============================] - 0s 7ms/step - loss: 0.7261 - mean_squared_error: 0.6033\n",
            "Epoch 7/250\n",
            "1/1 [==============================] - 0s 8ms/step - loss: 0.7261 - mean_squared_error: 0.6033\n",
            "Epoch 8/250\n",
            "1/1 [==============================] - 0s 8ms/step - loss: 0.7261 - mean_squared_error: 0.6033\n",
            "Epoch 9/250\n",
            "1/1 [==============================] - 0s 6ms/step - loss: 0.7261 - mean_squared_error: 0.6033\n",
            "Epoch 10/250\n",
            "1/1 [==============================] - 0s 6ms/step - loss: 0.7261 - mean_squared_error: 0.6033\n",
            "Epoch 11/250\n",
            "1/1 [==============================] - 0s 10ms/step - loss: 0.7261 - mean_squared_error: 0.6033\n",
            "Epoch 12/250\n",
            "1/1 [==============================] - 0s 5ms/step - loss: 0.7261 - mean_squared_error: 0.6033\n",
            "Epoch 13/250\n",
            "1/1 [==============================] - 0s 8ms/step - loss: 0.7261 - mean_squared_error: 0.6033\n",
            "Epoch 14/250\n",
            "1/1 [==============================] - 0s 6ms/step - loss: 0.7261 - mean_squared_error: 0.6033\n",
            "Epoch 15/250\n",
            "1/1 [==============================] - 0s 6ms/step - loss: 0.7261 - mean_squared_error: 0.6033\n",
            "Epoch 16/250\n",
            "1/1 [==============================] - 0s 5ms/step - loss: 0.7261 - mean_squared_error: 0.6033\n",
            "Epoch 17/250\n",
            "1/1 [==============================] - 0s 8ms/step - loss: 0.7261 - mean_squared_error: 0.6033\n",
            "Epoch 18/250\n",
            "1/1 [==============================] - 0s 11ms/step - loss: 0.7261 - mean_squared_error: 0.6033\n",
            "Epoch 19/250\n",
            "1/1 [==============================] - 0s 14ms/step - loss: 0.7261 - mean_squared_error: 0.6033\n",
            "Epoch 20/250\n",
            "1/1 [==============================] - 0s 13ms/step - loss: 0.7261 - mean_squared_error: 0.6033\n",
            "Epoch 21/250\n",
            "1/1 [==============================] - 0s 6ms/step - loss: 0.7261 - mean_squared_error: 0.6033\n",
            "Epoch 22/250\n",
            "1/1 [==============================] - 0s 6ms/step - loss: 0.7261 - mean_squared_error: 0.6033\n",
            "Epoch 23/250\n",
            "1/1 [==============================] - 0s 7ms/step - loss: 0.7261 - mean_squared_error: 0.6033\n",
            "Epoch 24/250\n",
            "1/1 [==============================] - 0s 8ms/step - loss: 0.7261 - mean_squared_error: 0.6033\n",
            "Epoch 25/250\n",
            "1/1 [==============================] - 0s 11ms/step - loss: 0.7261 - mean_squared_error: 0.6033\n",
            "Epoch 26/250\n",
            "1/1 [==============================] - 0s 7ms/step - loss: 0.7261 - mean_squared_error: 0.6033\n",
            "Epoch 27/250\n",
            "1/1 [==============================] - 0s 8ms/step - loss: 0.7261 - mean_squared_error: 0.6033\n",
            "Epoch 28/250\n",
            "1/1 [==============================] - 0s 6ms/step - loss: 0.7261 - mean_squared_error: 0.6033\n",
            "Epoch 29/250\n",
            "1/1 [==============================] - 0s 6ms/step - loss: 0.7261 - mean_squared_error: 0.6033\n",
            "Epoch 30/250\n",
            "1/1 [==============================] - 0s 7ms/step - loss: 0.7261 - mean_squared_error: 0.6033\n",
            "Epoch 31/250\n",
            "1/1 [==============================] - 0s 8ms/step - loss: 0.7261 - mean_squared_error: 0.6033\n",
            "Epoch 32/250\n",
            "1/1 [==============================] - 0s 8ms/step - loss: 0.7261 - mean_squared_error: 0.6033\n",
            "Epoch 33/250\n",
            "1/1 [==============================] - 0s 8ms/step - loss: 0.7261 - mean_squared_error: 0.6033\n",
            "Epoch 34/250\n",
            "1/1 [==============================] - 0s 9ms/step - loss: 0.7261 - mean_squared_error: 0.6033\n",
            "Epoch 35/250\n",
            "1/1 [==============================] - 0s 8ms/step - loss: 0.7261 - mean_squared_error: 0.6033\n",
            "Epoch 36/250\n",
            "1/1 [==============================] - 0s 10ms/step - loss: 0.7261 - mean_squared_error: 0.6033\n",
            "Epoch 37/250\n",
            "1/1 [==============================] - 0s 9ms/step - loss: 0.7261 - mean_squared_error: 0.6033\n",
            "Epoch 38/250\n",
            "1/1 [==============================] - 0s 11ms/step - loss: 0.7261 - mean_squared_error: 0.6033\n",
            "Epoch 39/250\n",
            "1/1 [==============================] - 0s 7ms/step - loss: 0.7261 - mean_squared_error: 0.6033\n",
            "Epoch 40/250\n",
            "1/1 [==============================] - 0s 9ms/step - loss: 0.7261 - mean_squared_error: 0.6033\n",
            "Epoch 41/250\n",
            "1/1 [==============================] - 0s 9ms/step - loss: 0.7261 - mean_squared_error: 0.6033\n",
            "Epoch 42/250\n",
            "1/1 [==============================] - 0s 9ms/step - loss: 0.7261 - mean_squared_error: 0.6033\n",
            "Epoch 43/250\n",
            "1/1 [==============================] - 0s 7ms/step - loss: 0.7261 - mean_squared_error: 0.6033\n",
            "Epoch 44/250\n",
            "1/1 [==============================] - 0s 9ms/step - loss: 0.7261 - mean_squared_error: 0.6033\n",
            "Epoch 45/250\n",
            "1/1 [==============================] - 0s 9ms/step - loss: 0.7261 - mean_squared_error: 0.6033\n",
            "Epoch 46/250\n",
            "1/1 [==============================] - 0s 9ms/step - loss: 0.7261 - mean_squared_error: 0.6033\n",
            "Epoch 47/250\n",
            "1/1 [==============================] - 0s 9ms/step - loss: 0.7261 - mean_squared_error: 0.6033\n",
            "Epoch 48/250\n",
            "1/1 [==============================] - 0s 9ms/step - loss: 0.7261 - mean_squared_error: 0.6033\n",
            "Epoch 49/250\n",
            "1/1 [==============================] - 0s 12ms/step - loss: 0.7261 - mean_squared_error: 0.6033\n",
            "Epoch 50/250\n",
            "1/1 [==============================] - 0s 7ms/step - loss: 0.7261 - mean_squared_error: 0.6033\n",
            "Epoch 51/250\n",
            "1/1 [==============================] - 0s 10ms/step - loss: 0.7261 - mean_squared_error: 0.6033\n",
            "Epoch 52/250\n",
            "1/1 [==============================] - 0s 9ms/step - loss: 0.7261 - mean_squared_error: 0.6033\n",
            "Epoch 53/250\n",
            "1/1 [==============================] - 0s 10ms/step - loss: 0.7261 - mean_squared_error: 0.6033\n",
            "Epoch 54/250\n",
            "1/1 [==============================] - 0s 8ms/step - loss: 0.7261 - mean_squared_error: 0.6033\n",
            "Epoch 55/250\n",
            "1/1 [==============================] - 0s 7ms/step - loss: 0.7261 - mean_squared_error: 0.6033\n",
            "Epoch 56/250\n",
            "1/1 [==============================] - 0s 10ms/step - loss: 0.7261 - mean_squared_error: 0.6033\n",
            "Epoch 57/250\n",
            "1/1 [==============================] - 0s 9ms/step - loss: 0.7261 - mean_squared_error: 0.6033\n",
            "Epoch 58/250\n",
            "1/1 [==============================] - 0s 12ms/step - loss: 0.7261 - mean_squared_error: 0.6033\n",
            "Epoch 59/250\n",
            "1/1 [==============================] - 0s 8ms/step - loss: 0.7261 - mean_squared_error: 0.6033\n",
            "Epoch 60/250\n",
            "1/1 [==============================] - 0s 9ms/step - loss: 0.7261 - mean_squared_error: 0.6033\n",
            "Epoch 61/250\n",
            "1/1 [==============================] - 0s 9ms/step - loss: 0.7261 - mean_squared_error: 0.6033\n",
            "Epoch 62/250\n",
            "1/1 [==============================] - 0s 11ms/step - loss: 0.7261 - mean_squared_error: 0.6033\n",
            "Epoch 63/250\n",
            "1/1 [==============================] - 0s 10ms/step - loss: 0.7261 - mean_squared_error: 0.6033\n",
            "Epoch 64/250\n",
            "1/1 [==============================] - 0s 9ms/step - loss: 0.7261 - mean_squared_error: 0.6033\n",
            "Epoch 65/250\n",
            "1/1 [==============================] - 0s 9ms/step - loss: 0.7261 - mean_squared_error: 0.6033\n",
            "Epoch 66/250\n",
            "1/1 [==============================] - 0s 10ms/step - loss: 0.7261 - mean_squared_error: 0.6033\n",
            "Epoch 67/250\n",
            "1/1 [==============================] - 0s 9ms/step - loss: 0.7261 - mean_squared_error: 0.6033\n",
            "Epoch 68/250\n",
            "1/1 [==============================] - 0s 9ms/step - loss: 0.7261 - mean_squared_error: 0.6033\n",
            "Epoch 69/250\n",
            "1/1 [==============================] - 0s 12ms/step - loss: 0.7261 - mean_squared_error: 0.6033\n",
            "Epoch 70/250\n",
            "1/1 [==============================] - 0s 7ms/step - loss: 0.7261 - mean_squared_error: 0.6033\n",
            "Epoch 71/250\n",
            "1/1 [==============================] - 0s 9ms/step - loss: 0.7261 - mean_squared_error: 0.6033\n",
            "Epoch 72/250\n",
            "1/1 [==============================] - 0s 14ms/step - loss: 0.7261 - mean_squared_error: 0.6033\n",
            "Epoch 73/250\n",
            "1/1 [==============================] - 0s 12ms/step - loss: 0.7261 - mean_squared_error: 0.6033\n",
            "Epoch 74/250\n",
            "1/1 [==============================] - 0s 8ms/step - loss: 0.7261 - mean_squared_error: 0.6033\n",
            "Epoch 75/250\n",
            "1/1 [==============================] - 0s 11ms/step - loss: 0.7261 - mean_squared_error: 0.6033\n",
            "Epoch 76/250\n",
            "1/1 [==============================] - 0s 9ms/step - loss: 0.7261 - mean_squared_error: 0.6033\n",
            "Epoch 77/250\n",
            "1/1 [==============================] - 0s 11ms/step - loss: 0.7261 - mean_squared_error: 0.6033\n",
            "Epoch 78/250\n",
            "1/1 [==============================] - 0s 10ms/step - loss: 0.7261 - mean_squared_error: 0.6033\n",
            "Epoch 79/250\n",
            "1/1 [==============================] - 0s 13ms/step - loss: 0.7261 - mean_squared_error: 0.6033\n",
            "Epoch 80/250\n",
            "1/1 [==============================] - 0s 7ms/step - loss: 0.7261 - mean_squared_error: 0.6033\n",
            "Epoch 81/250\n",
            "1/1 [==============================] - 0s 20ms/step - loss: 0.7261 - mean_squared_error: 0.6033\n",
            "Epoch 82/250\n",
            "1/1 [==============================] - 0s 13ms/step - loss: 0.7261 - mean_squared_error: 0.6033\n",
            "Epoch 83/250\n",
            "1/1 [==============================] - 0s 10ms/step - loss: 0.7261 - mean_squared_error: 0.6033\n",
            "Epoch 84/250\n",
            "1/1 [==============================] - 0s 9ms/step - loss: 0.7261 - mean_squared_error: 0.6033\n",
            "Epoch 85/250\n",
            "1/1 [==============================] - 0s 9ms/step - loss: 0.7261 - mean_squared_error: 0.6033\n",
            "Epoch 86/250\n",
            "1/1 [==============================] - 0s 9ms/step - loss: 0.7261 - mean_squared_error: 0.6033\n",
            "Epoch 87/250\n",
            "1/1 [==============================] - 0s 8ms/step - loss: 0.7261 - mean_squared_error: 0.6033\n",
            "Epoch 88/250\n",
            "1/1 [==============================] - 0s 12ms/step - loss: 0.7261 - mean_squared_error: 0.6033\n",
            "Epoch 89/250\n",
            "1/1 [==============================] - 0s 22ms/step - loss: 0.7261 - mean_squared_error: 0.6033\n",
            "Epoch 90/250\n",
            "1/1 [==============================] - 0s 13ms/step - loss: 0.7261 - mean_squared_error: 0.6033\n",
            "Epoch 91/250\n",
            "1/1 [==============================] - 0s 10ms/step - loss: 0.7261 - mean_squared_error: 0.6033\n",
            "Epoch 92/250\n",
            "1/1 [==============================] - 0s 9ms/step - loss: 0.7261 - mean_squared_error: 0.6033\n",
            "Epoch 93/250\n",
            "1/1 [==============================] - 0s 9ms/step - loss: 0.7261 - mean_squared_error: 0.6033\n",
            "Epoch 94/250\n",
            "1/1 [==============================] - 0s 7ms/step - loss: 0.7261 - mean_squared_error: 0.6033\n",
            "Epoch 95/250\n",
            "1/1 [==============================] - 0s 10ms/step - loss: 0.7261 - mean_squared_error: 0.6033\n",
            "Epoch 96/250\n",
            "1/1 [==============================] - 0s 8ms/step - loss: 0.7261 - mean_squared_error: 0.6033\n",
            "Epoch 97/250\n",
            "1/1 [==============================] - 0s 11ms/step - loss: 0.7261 - mean_squared_error: 0.6033\n",
            "Epoch 98/250\n",
            "1/1 [==============================] - 0s 10ms/step - loss: 0.7261 - mean_squared_error: 0.6033\n",
            "Epoch 99/250\n",
            "1/1 [==============================] - 0s 9ms/step - loss: 0.7261 - mean_squared_error: 0.6033\n",
            "Epoch 100/250\n",
            "1/1 [==============================] - 0s 9ms/step - loss: 0.7261 - mean_squared_error: 0.6033\n",
            "Epoch 101/250\n",
            "1/1 [==============================] - 0s 10ms/step - loss: 0.7261 - mean_squared_error: 0.6033\n",
            "Epoch 102/250\n",
            "1/1 [==============================] - 0s 9ms/step - loss: 0.7261 - mean_squared_error: 0.6033\n",
            "Epoch 103/250\n",
            "1/1 [==============================] - 0s 7ms/step - loss: 0.7261 - mean_squared_error: 0.6033\n",
            "Epoch 104/250\n",
            "1/1 [==============================] - 0s 10ms/step - loss: 0.7261 - mean_squared_error: 0.6033\n",
            "Epoch 105/250\n",
            "1/1 [==============================] - 0s 9ms/step - loss: 0.7261 - mean_squared_error: 0.6033\n",
            "Epoch 106/250\n",
            "1/1 [==============================] - 0s 8ms/step - loss: 0.7261 - mean_squared_error: 0.6033\n",
            "Epoch 107/250\n",
            "1/1 [==============================] - 0s 6ms/step - loss: 0.7261 - mean_squared_error: 0.6033\n",
            "Epoch 108/250\n",
            "1/1 [==============================] - 0s 7ms/step - loss: 0.7261 - mean_squared_error: 0.6033\n",
            "Epoch 109/250\n",
            "1/1 [==============================] - 0s 9ms/step - loss: 0.7261 - mean_squared_error: 0.6033\n",
            "Epoch 110/250\n",
            "1/1 [==============================] - 0s 13ms/step - loss: 0.7261 - mean_squared_error: 0.6033\n",
            "Epoch 111/250\n",
            "1/1 [==============================] - 0s 19ms/step - loss: 0.7261 - mean_squared_error: 0.6033\n",
            "Epoch 112/250\n",
            "1/1 [==============================] - 0s 13ms/step - loss: 0.7261 - mean_squared_error: 0.6033\n",
            "Epoch 113/250\n",
            "1/1 [==============================] - 0s 10ms/step - loss: 0.7261 - mean_squared_error: 0.6033\n",
            "Epoch 114/250\n",
            "1/1 [==============================] - 0s 6ms/step - loss: 0.7261 - mean_squared_error: 0.6033\n",
            "Epoch 115/250\n",
            "1/1 [==============================] - 0s 9ms/step - loss: 0.7261 - mean_squared_error: 0.6033\n",
            "Epoch 116/250\n",
            "1/1 [==============================] - 0s 6ms/step - loss: 0.7261 - mean_squared_error: 0.6033\n",
            "Epoch 117/250\n",
            "1/1 [==============================] - 0s 12ms/step - loss: 0.7261 - mean_squared_error: 0.6033\n",
            "Epoch 118/250\n",
            "1/1 [==============================] - 0s 9ms/step - loss: 0.7261 - mean_squared_error: 0.6033\n",
            "Epoch 119/250\n",
            "1/1 [==============================] - 0s 7ms/step - loss: 0.7261 - mean_squared_error: 0.6033\n",
            "Epoch 120/250\n",
            "1/1 [==============================] - 0s 7ms/step - loss: 0.7261 - mean_squared_error: 0.6033\n",
            "Epoch 121/250\n",
            "1/1 [==============================] - 0s 7ms/step - loss: 0.7261 - mean_squared_error: 0.6033\n",
            "Epoch 122/250\n",
            "1/1 [==============================] - 0s 8ms/step - loss: 0.7261 - mean_squared_error: 0.6033\n",
            "Epoch 123/250\n",
            "1/1 [==============================] - 0s 10ms/step - loss: 0.7261 - mean_squared_error: 0.6033\n",
            "Epoch 124/250\n",
            "1/1 [==============================] - 0s 8ms/step - loss: 0.7261 - mean_squared_error: 0.6033\n",
            "Epoch 125/250\n",
            "1/1 [==============================] - 0s 6ms/step - loss: 0.7261 - mean_squared_error: 0.6033\n",
            "Epoch 126/250\n",
            "1/1 [==============================] - 0s 7ms/step - loss: 0.7261 - mean_squared_error: 0.6033\n",
            "Epoch 127/250\n",
            "1/1 [==============================] - 0s 6ms/step - loss: 0.7261 - mean_squared_error: 0.6033\n",
            "Epoch 128/250\n",
            "1/1 [==============================] - 0s 8ms/step - loss: 0.7261 - mean_squared_error: 0.6033\n",
            "Epoch 129/250\n",
            "1/1 [==============================] - 0s 7ms/step - loss: 0.7261 - mean_squared_error: 0.6033\n",
            "Epoch 130/250\n",
            "1/1 [==============================] - 0s 8ms/step - loss: 0.7261 - mean_squared_error: 0.6033\n",
            "Epoch 131/250\n",
            "1/1 [==============================] - 0s 10ms/step - loss: 0.7261 - mean_squared_error: 0.6033\n",
            "Epoch 132/250\n",
            "1/1 [==============================] - 0s 8ms/step - loss: 0.7261 - mean_squared_error: 0.6033\n",
            "Epoch 133/250\n",
            "1/1 [==============================] - 0s 7ms/step - loss: 0.7261 - mean_squared_error: 0.6033\n",
            "Epoch 134/250\n",
            "1/1 [==============================] - 0s 9ms/step - loss: 0.7261 - mean_squared_error: 0.6033\n",
            "Epoch 135/250\n",
            "1/1 [==============================] - 0s 10ms/step - loss: 0.7261 - mean_squared_error: 0.6033\n",
            "Epoch 136/250\n",
            "1/1 [==============================] - 0s 6ms/step - loss: 0.7261 - mean_squared_error: 0.6033\n",
            "Epoch 137/250\n",
            "1/1 [==============================] - 0s 8ms/step - loss: 0.7261 - mean_squared_error: 0.6033\n",
            "Epoch 138/250\n",
            "1/1 [==============================] - 0s 6ms/step - loss: 0.7261 - mean_squared_error: 0.6033\n",
            "Epoch 139/250\n",
            "1/1 [==============================] - 0s 10ms/step - loss: 0.7261 - mean_squared_error: 0.6033\n",
            "Epoch 140/250\n",
            "1/1 [==============================] - 0s 8ms/step - loss: 0.7261 - mean_squared_error: 0.6033\n",
            "Epoch 141/250\n",
            "1/1 [==============================] - 0s 6ms/step - loss: 0.7261 - mean_squared_error: 0.6033\n",
            "Epoch 142/250\n",
            "1/1 [==============================] - 0s 7ms/step - loss: 0.7261 - mean_squared_error: 0.6033\n",
            "Epoch 143/250\n",
            "1/1 [==============================] - 0s 10ms/step - loss: 0.7261 - mean_squared_error: 0.6033\n",
            "Epoch 144/250\n",
            "1/1 [==============================] - 0s 7ms/step - loss: 0.7261 - mean_squared_error: 0.6033\n",
            "Epoch 145/250\n",
            "1/1 [==============================] - 0s 13ms/step - loss: 0.7261 - mean_squared_error: 0.6033\n",
            "Epoch 146/250\n",
            "1/1 [==============================] - 0s 9ms/step - loss: 0.7261 - mean_squared_error: 0.6033\n",
            "Epoch 147/250\n",
            "1/1 [==============================] - 0s 18ms/step - loss: 0.7261 - mean_squared_error: 0.6033\n",
            "Epoch 148/250\n",
            "1/1 [==============================] - 0s 12ms/step - loss: 0.7261 - mean_squared_error: 0.6033\n",
            "Epoch 149/250\n",
            "1/1 [==============================] - 0s 13ms/step - loss: 0.7261 - mean_squared_error: 0.6033\n",
            "Epoch 150/250\n",
            "1/1 [==============================] - 0s 11ms/step - loss: 0.7261 - mean_squared_error: 0.6033\n",
            "Epoch 151/250\n",
            "1/1 [==============================] - 0s 14ms/step - loss: 0.7261 - mean_squared_error: 0.6033\n",
            "Epoch 152/250\n",
            "1/1 [==============================] - 0s 7ms/step - loss: 0.7261 - mean_squared_error: 0.6033\n",
            "Epoch 153/250\n",
            "1/1 [==============================] - 0s 10ms/step - loss: 0.7261 - mean_squared_error: 0.6033\n",
            "Epoch 154/250\n",
            "1/1 [==============================] - 0s 10ms/step - loss: 0.7261 - mean_squared_error: 0.6033\n",
            "Epoch 155/250\n",
            "1/1 [==============================] - 0s 8ms/step - loss: 0.7261 - mean_squared_error: 0.6033\n",
            "Epoch 156/250\n",
            "1/1 [==============================] - 0s 9ms/step - loss: 0.7261 - mean_squared_error: 0.6033\n",
            "Epoch 157/250\n",
            "1/1 [==============================] - 0s 12ms/step - loss: 0.7261 - mean_squared_error: 0.6033\n",
            "Epoch 158/250\n",
            "1/1 [==============================] - 0s 10ms/step - loss: 0.7261 - mean_squared_error: 0.6033\n",
            "Epoch 159/250\n",
            "1/1 [==============================] - 0s 8ms/step - loss: 0.7261 - mean_squared_error: 0.6033\n",
            "Epoch 160/250\n",
            "1/1 [==============================] - 0s 13ms/step - loss: 0.7261 - mean_squared_error: 0.6033\n",
            "Epoch 161/250\n",
            "1/1 [==============================] - 0s 8ms/step - loss: 0.7261 - mean_squared_error: 0.6033\n",
            "Epoch 162/250\n",
            "1/1 [==============================] - 0s 10ms/step - loss: 0.7261 - mean_squared_error: 0.6033\n",
            "Epoch 163/250\n",
            "1/1 [==============================] - 0s 40ms/step - loss: 0.7261 - mean_squared_error: 0.6033\n",
            "Epoch 164/250\n",
            "1/1 [==============================] - 0s 7ms/step - loss: 0.7261 - mean_squared_error: 0.6033\n",
            "Epoch 165/250\n",
            "1/1 [==============================] - 0s 7ms/step - loss: 0.7261 - mean_squared_error: 0.6033\n",
            "Epoch 166/250\n",
            "1/1 [==============================] - 0s 9ms/step - loss: 0.7261 - mean_squared_error: 0.6033\n",
            "Epoch 167/250\n",
            "1/1 [==============================] - 0s 11ms/step - loss: 0.7261 - mean_squared_error: 0.6033\n",
            "Epoch 168/250\n",
            "1/1 [==============================] - 0s 8ms/step - loss: 0.7261 - mean_squared_error: 0.6033\n",
            "Epoch 169/250\n",
            "1/1 [==============================] - 0s 11ms/step - loss: 0.7261 - mean_squared_error: 0.6033\n",
            "Epoch 170/250\n",
            "1/1 [==============================] - 0s 12ms/step - loss: 0.7261 - mean_squared_error: 0.6033\n",
            "Epoch 171/250\n",
            "1/1 [==============================] - 0s 7ms/step - loss: 0.7261 - mean_squared_error: 0.6033\n",
            "Epoch 172/250\n",
            "1/1 [==============================] - 0s 7ms/step - loss: 0.7261 - mean_squared_error: 0.6033\n",
            "Epoch 173/250\n",
            "1/1 [==============================] - 0s 17ms/step - loss: 0.7261 - mean_squared_error: 0.6033\n",
            "Epoch 174/250\n",
            "1/1 [==============================] - 0s 9ms/step - loss: 0.7261 - mean_squared_error: 0.6033\n",
            "Epoch 175/250\n",
            "1/1 [==============================] - 0s 8ms/step - loss: 0.7261 - mean_squared_error: 0.6033\n",
            "Epoch 176/250\n",
            "1/1 [==============================] - 0s 8ms/step - loss: 0.7261 - mean_squared_error: 0.6033\n",
            "Epoch 177/250\n",
            "1/1 [==============================] - 0s 11ms/step - loss: 0.7261 - mean_squared_error: 0.6033\n",
            "Epoch 178/250\n",
            "1/1 [==============================] - 0s 7ms/step - loss: 0.7261 - mean_squared_error: 0.6033\n",
            "Epoch 179/250\n",
            "1/1 [==============================] - 0s 12ms/step - loss: 0.7261 - mean_squared_error: 0.6033\n",
            "Epoch 180/250\n",
            "1/1 [==============================] - 0s 10ms/step - loss: 0.7261 - mean_squared_error: 0.6033\n",
            "Epoch 181/250\n",
            "1/1 [==============================] - 0s 7ms/step - loss: 0.7261 - mean_squared_error: 0.6033\n",
            "Epoch 182/250\n",
            "1/1 [==============================] - 0s 14ms/step - loss: 0.7261 - mean_squared_error: 0.6033\n",
            "Epoch 183/250\n",
            "1/1 [==============================] - 0s 10ms/step - loss: 0.7261 - mean_squared_error: 0.6033\n",
            "Epoch 184/250\n",
            "1/1 [==============================] - 0s 14ms/step - loss: 0.7261 - mean_squared_error: 0.6033\n",
            "Epoch 185/250\n",
            "1/1 [==============================] - 0s 14ms/step - loss: 0.7261 - mean_squared_error: 0.6033\n",
            "Epoch 186/250\n",
            "1/1 [==============================] - 0s 11ms/step - loss: 0.7261 - mean_squared_error: 0.6033\n",
            "Epoch 187/250\n",
            "1/1 [==============================] - 0s 8ms/step - loss: 0.7261 - mean_squared_error: 0.6033\n",
            "Epoch 188/250\n",
            "1/1 [==============================] - 0s 12ms/step - loss: 0.7261 - mean_squared_error: 0.6033\n",
            "Epoch 189/250\n",
            "1/1 [==============================] - 0s 11ms/step - loss: 0.7261 - mean_squared_error: 0.6033\n",
            "Epoch 190/250\n",
            "1/1 [==============================] - 0s 15ms/step - loss: 0.7261 - mean_squared_error: 0.6033\n",
            "Epoch 191/250\n",
            "1/1 [==============================] - 0s 7ms/step - loss: 0.7261 - mean_squared_error: 0.6033\n",
            "Epoch 192/250\n",
            "1/1 [==============================] - 0s 11ms/step - loss: 0.7261 - mean_squared_error: 0.6033\n",
            "Epoch 193/250\n",
            "1/1 [==============================] - 0s 12ms/step - loss: 0.7261 - mean_squared_error: 0.6033\n",
            "Epoch 194/250\n",
            "1/1 [==============================] - 0s 18ms/step - loss: 0.7261 - mean_squared_error: 0.6033\n",
            "Epoch 195/250\n",
            "1/1 [==============================] - 0s 8ms/step - loss: 0.7261 - mean_squared_error: 0.6033\n",
            "Epoch 196/250\n",
            "1/1 [==============================] - 0s 6ms/step - loss: 0.7261 - mean_squared_error: 0.6033\n",
            "Epoch 197/250\n",
            "1/1 [==============================] - 0s 10ms/step - loss: 0.7261 - mean_squared_error: 0.6033\n",
            "Epoch 198/250\n",
            "1/1 [==============================] - 0s 7ms/step - loss: 0.7261 - mean_squared_error: 0.6033\n",
            "Epoch 199/250\n",
            "1/1 [==============================] - 0s 13ms/step - loss: 0.7261 - mean_squared_error: 0.6033\n",
            "Epoch 200/250\n",
            "1/1 [==============================] - 0s 8ms/step - loss: 0.7261 - mean_squared_error: 0.6033\n",
            "Epoch 201/250\n",
            "1/1 [==============================] - 0s 17ms/step - loss: 0.7261 - mean_squared_error: 0.6033\n",
            "Epoch 202/250\n",
            "1/1 [==============================] - 0s 7ms/step - loss: 0.7261 - mean_squared_error: 0.6033\n",
            "Epoch 203/250\n",
            "1/1 [==============================] - 0s 11ms/step - loss: 0.7261 - mean_squared_error: 0.6033\n",
            "Epoch 204/250\n",
            "1/1 [==============================] - 0s 7ms/step - loss: 0.7261 - mean_squared_error: 0.6033\n",
            "Epoch 205/250\n",
            "1/1 [==============================] - 0s 7ms/step - loss: 0.7261 - mean_squared_error: 0.6033\n",
            "Epoch 206/250\n",
            "1/1 [==============================] - 0s 10ms/step - loss: 0.7261 - mean_squared_error: 0.6033\n",
            "Epoch 207/250\n",
            "1/1 [==============================] - 0s 10ms/step - loss: 0.7261 - mean_squared_error: 0.6033\n",
            "Epoch 208/250\n",
            "1/1 [==============================] - 0s 7ms/step - loss: 0.7261 - mean_squared_error: 0.6033\n",
            "Epoch 209/250\n",
            "1/1 [==============================] - 0s 12ms/step - loss: 0.7261 - mean_squared_error: 0.6033\n",
            "Epoch 210/250\n",
            "1/1 [==============================] - 0s 9ms/step - loss: 0.7261 - mean_squared_error: 0.6033\n",
            "Epoch 211/250\n",
            "1/1 [==============================] - 0s 6ms/step - loss: 0.7261 - mean_squared_error: 0.6033\n",
            "Epoch 212/250\n",
            "1/1 [==============================] - 0s 7ms/step - loss: 0.7261 - mean_squared_error: 0.6033\n",
            "Epoch 213/250\n",
            "1/1 [==============================] - 0s 11ms/step - loss: 0.7261 - mean_squared_error: 0.6033\n",
            "Epoch 214/250\n",
            "1/1 [==============================] - 0s 7ms/step - loss: 0.7261 - mean_squared_error: 0.6033\n",
            "Epoch 215/250\n",
            "1/1 [==============================] - 0s 9ms/step - loss: 0.7261 - mean_squared_error: 0.6033\n",
            "Epoch 216/250\n",
            "1/1 [==============================] - 0s 6ms/step - loss: 0.7261 - mean_squared_error: 0.6033\n",
            "Epoch 217/250\n",
            "1/1 [==============================] - 0s 9ms/step - loss: 0.7261 - mean_squared_error: 0.6033\n",
            "Epoch 218/250\n",
            "1/1 [==============================] - 0s 12ms/step - loss: 0.7261 - mean_squared_error: 0.6033\n",
            "Epoch 219/250\n",
            "1/1 [==============================] - 0s 6ms/step - loss: 0.7261 - mean_squared_error: 0.6033\n",
            "Epoch 220/250\n",
            "1/1 [==============================] - 0s 6ms/step - loss: 0.7261 - mean_squared_error: 0.6033\n",
            "Epoch 221/250\n",
            "1/1 [==============================] - 0s 7ms/step - loss: 0.7261 - mean_squared_error: 0.6033\n",
            "Epoch 222/250\n",
            "1/1 [==============================] - 0s 13ms/step - loss: 0.7261 - mean_squared_error: 0.6033\n",
            "Epoch 223/250\n",
            "1/1 [==============================] - 0s 6ms/step - loss: 0.7261 - mean_squared_error: 0.6033\n",
            "Epoch 224/250\n",
            "1/1 [==============================] - 0s 7ms/step - loss: 0.7261 - mean_squared_error: 0.6033\n",
            "Epoch 225/250\n",
            "1/1 [==============================] - 0s 14ms/step - loss: 0.7261 - mean_squared_error: 0.6033\n",
            "Epoch 226/250\n",
            "1/1 [==============================] - 0s 20ms/step - loss: 0.7261 - mean_squared_error: 0.6033\n",
            "Epoch 227/250\n",
            "1/1 [==============================] - 0s 8ms/step - loss: 0.7261 - mean_squared_error: 0.6033\n",
            "Epoch 228/250\n",
            "1/1 [==============================] - 0s 12ms/step - loss: 0.7261 - mean_squared_error: 0.6033\n",
            "Epoch 229/250\n",
            "1/1 [==============================] - 0s 7ms/step - loss: 0.7261 - mean_squared_error: 0.6033\n",
            "Epoch 230/250\n",
            "1/1 [==============================] - 0s 8ms/step - loss: 0.7261 - mean_squared_error: 0.6033\n",
            "Epoch 231/250\n",
            "1/1 [==============================] - 0s 11ms/step - loss: 0.7261 - mean_squared_error: 0.6033\n",
            "Epoch 232/250\n",
            "1/1 [==============================] - 0s 6ms/step - loss: 0.7261 - mean_squared_error: 0.6033\n",
            "Epoch 233/250\n",
            "1/1 [==============================] - 0s 11ms/step - loss: 0.7261 - mean_squared_error: 0.6033\n",
            "Epoch 234/250\n",
            "1/1 [==============================] - 0s 10ms/step - loss: 0.7261 - mean_squared_error: 0.6033\n",
            "Epoch 235/250\n",
            "1/1 [==============================] - 0s 10ms/step - loss: 0.7261 - mean_squared_error: 0.6033\n",
            "Epoch 236/250\n",
            "1/1 [==============================] - 0s 7ms/step - loss: 0.7261 - mean_squared_error: 0.6033\n",
            "Epoch 237/250\n",
            "1/1 [==============================] - 0s 9ms/step - loss: 0.7261 - mean_squared_error: 0.6033\n",
            "Epoch 238/250\n",
            "1/1 [==============================] - 0s 29ms/step - loss: 0.7261 - mean_squared_error: 0.6033\n",
            "Epoch 239/250\n",
            "1/1 [==============================] - 0s 12ms/step - loss: 0.7261 - mean_squared_error: 0.6033\n",
            "Epoch 240/250\n",
            "1/1 [==============================] - 0s 22ms/step - loss: 0.7261 - mean_squared_error: 0.6033\n",
            "Epoch 241/250\n",
            "1/1 [==============================] - 0s 10ms/step - loss: 0.7261 - mean_squared_error: 0.6033\n",
            "Epoch 242/250\n",
            "1/1 [==============================] - 0s 17ms/step - loss: 0.7261 - mean_squared_error: 0.6033\n",
            "Epoch 243/250\n",
            "1/1 [==============================] - 0s 18ms/step - loss: 0.7261 - mean_squared_error: 0.6033\n",
            "Epoch 244/250\n",
            "1/1 [==============================] - 0s 8ms/step - loss: 0.7261 - mean_squared_error: 0.6033\n",
            "Epoch 245/250\n",
            "1/1 [==============================] - 0s 9ms/step - loss: 0.7261 - mean_squared_error: 0.6033\n",
            "Epoch 246/250\n",
            "1/1 [==============================] - 0s 11ms/step - loss: 0.7261 - mean_squared_error: 0.6033\n",
            "Epoch 247/250\n",
            "1/1 [==============================] - 0s 11ms/step - loss: 0.7261 - mean_squared_error: 0.6033\n",
            "Epoch 248/250\n",
            "1/1 [==============================] - 0s 25ms/step - loss: 0.7261 - mean_squared_error: 0.6033\n",
            "Epoch 249/250\n",
            "1/1 [==============================] - 0s 21ms/step - loss: 0.7261 - mean_squared_error: 0.6033\n",
            "Epoch 250/250\n",
            "1/1 [==============================] - 0s 22ms/step - loss: 0.7261 - mean_squared_error: 0.6033\n"
          ],
          "name": "stdout"
        }
      ]
    },
    {
      "cell_type": "code",
      "metadata": {
        "id": "6ID7T8IDcTCZ"
      },
      "source": [
        "# all-in-one function\n",
        "\n",
        "def train_network():\n",
        "\n",
        "    notes = get_notes()\n",
        "\n",
        "    n_vocab = len(set(notes))\n",
        "\n",
        "    network_input, network_output = prepare_sequences(notes, n_vocab)\n",
        "\n",
        "    model = baseline(network_input, n_vocab)\n",
        "\n",
        "    train(model, network_input, network_output)"
      ],
      "execution_count": null,
      "outputs": []
    },
    {
      "cell_type": "markdown",
      "metadata": {
        "id": "khdN8ROY-hGN"
      },
      "source": [
        "###References\n",
        "- Classical Piano Composer by Skuldur : https://github.com/Skuldur/Classical-Piano-Composer\n",
        "\n",
        "\n"
      ]
    }
  ]
}