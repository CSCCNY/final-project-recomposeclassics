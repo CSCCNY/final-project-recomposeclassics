{
  "nbformat": 4,
  "nbformat_minor": 0,
  "metadata": {
    "colab": {
      "name": "first_model.ipynb",
      "provenance": [],
      "collapsed_sections": []
    },
    "kernelspec": {
      "name": "python3",
      "display_name": "Python 3"
    },
    "language_info": {
      "name": "python"
    },
    "accelerator": "GPU"
  },
  "cells": [
    {
      "cell_type": "code",
      "metadata": {
        "colab": {
          "base_uri": "https://localhost:8080/"
        },
        "id": "1Pj1F5s4n7GN",
        "outputId": "ebcaf176-0524-4260-86f0-751adaee91d0"
      },
      "source": [
        "#Mounting google and authenticating\n",
        "from google.colab import drive\n",
        "drive.mount('/content/gdrive')\n",
        "\n",
        "!ln -s /content/gdrive/My\\ Drive/ /mydrive\n",
        "#!ls /mydrive"
      ],
      "execution_count": 1,
      "outputs": [
        {
          "output_type": "stream",
          "text": [
            "Mounted at /content/gdrive\n"
          ],
          "name": "stdout"
        }
      ]
    },
    {
      "cell_type": "code",
      "metadata": {
        "id": "wb0U8-xnoD7M"
      },
      "source": [
        "!cp /mydrive/music\\ project/X_spec_half.pickle ./\n",
        "!cp /mydrive/music\\ project/y_spec_half.pickle ./"
      ],
      "execution_count": 2,
      "outputs": []
    },
    {
      "cell_type": "code",
      "metadata": {
        "id": "uHSKIjrXOP2H"
      },
      "source": [
        "#LOADING DATA\n",
        "import pickle \n",
        "pickle_off = open(\"X_spec_half.pickle\", 'rb')\n",
        "X_spec = pickle.load(pickle_off)\n",
        "\n",
        "pickle_off = open(\"y_spec_half.pickle\", 'rb')\n",
        "y_spec = pickle.load(pickle_off)"
      ],
      "execution_count": 7,
      "outputs": []
    },
    {
      "cell_type": "code",
      "metadata": {
        "id": "Qey86mOGQuWy"
      },
      "source": [
        "#RESHAPING\n",
        "X_spec_ = X_spec.reshape(48, 440, 128, 1)\n",
        "y_spec_ = y_spec.reshape(48, 440, 128, 1)"
      ],
      "execution_count": 8,
      "outputs": []
    },
    {
      "cell_type": "code",
      "metadata": {
        "colab": {
          "base_uri": "https://localhost:8080/"
        },
        "id": "viDlfI6DSZ9w",
        "outputId": "dec552c7-e69d-47b2-c822-899e0d4423ca"
      },
      "source": [
        "#SPLITTING TO TRAIN AND TEST\n",
        "print(X_spec_.shape)\n",
        "from sklearn.model_selection import train_test_split\n",
        "X_train, X_test, y_train, y_test = train_test_split(\n",
        "    X_spec_, y_spec_, test_size=0.1, random_state=42)\n",
        "print(X_train.shape, X_test.shape)"
      ],
      "execution_count": 9,
      "outputs": [
        {
          "output_type": "stream",
          "text": [
            "(48, 440, 128, 1)\n",
            "(43, 440, 128, 1) (5, 440, 128, 1)\n"
          ],
          "name": "stdout"
        }
      ]
    },
    {
      "cell_type": "code",
      "metadata": {
        "id": "yw4bEN-9aFOV"
      },
      "source": [
        ""
      ],
      "execution_count": null,
      "outputs": []
    },
    {
      "cell_type": "code",
      "metadata": {
        "id": "5a_f33SmaFbk"
      },
      "source": [
        ""
      ],
      "execution_count": null,
      "outputs": []
    },
    {
      "cell_type": "code",
      "metadata": {
        "id": "BLzImOQmaFDa"
      },
      "source": [
        "#for regression\n",
        "X_val_reshape = X_val.reshape(-1,1)\n",
        "y_val_reshape = y_val.reshape(-1,1)\n",
        "\n",
        "X_val_reshape = X_val_reshape.reshape(1, len(X_val_reshape),1)\n",
        "y_val_reshape = y_val_reshape.reshape(1, len(y_val_reshape),1)"
      ],
      "execution_count": 30,
      "outputs": []
    },
    {
      "cell_type": "code",
      "metadata": {
        "colab": {
          "base_uri": "https://localhost:8080/"
        },
        "id": "OChkyk5emfiY",
        "outputId": "624c1389-3188-410f-a129-c1a6d8eccb6f"
      },
      "source": [
        "#Using Random Forest\n",
        "from sklearn.ensemble import RandomForestRegressor\n",
        "regr = RandomForestRegressor(max_depth=2, random_state=0)\n",
        "regr.fit(X_spec_, y_spec_)\n",
        "\n",
        "#print(regr.predict([[0, 0, 0, 0]]))"
      ],
      "execution_count": null,
      "outputs": [
        {
          "output_type": "stream",
          "text": [
            "/usr/local/lib/python3.7/dist-packages/ipykernel_launcher.py:3: DataConversionWarning: A column-vector y was passed when a 1d array was expected. Please change the shape of y to (n_samples,), for example using ravel().\n",
            "  This is separate from the ipykernel package so we can avoid doing imports until\n"
          ],
          "name": "stderr"
        },
        {
          "output_type": "execute_result",
          "data": {
            "text/plain": [
              "RandomForestRegressor(bootstrap=True, ccp_alpha=0.0, criterion='mse',\n",
              "                      max_depth=2, max_features='auto', max_leaf_nodes=None,\n",
              "                      max_samples=None, min_impurity_decrease=0.0,\n",
              "                      min_impurity_split=None, min_samples_leaf=1,\n",
              "                      min_samples_split=2, min_weight_fraction_leaf=0.0,\n",
              "                      n_estimators=100, n_jobs=None, oob_score=False,\n",
              "                      random_state=0, verbose=0, warm_start=False)"
            ]
          },
          "metadata": {
            "tags": []
          },
          "execution_count": 12
        }
      ]
    },
    {
      "cell_type": "code",
      "metadata": {
        "colab": {
          "base_uri": "https://localhost:8080/"
        },
        "id": "OXmkkJVdoeA9",
        "outputId": "da0f41cd-5bba-41bb-92cf-41a8e7cfb023"
      },
      "source": [
        "#R square\n",
        "regr.score(X_spec_, y_spec_)"
      ],
      "execution_count": null,
      "outputs": [
        {
          "output_type": "execute_result",
          "data": {
            "text/plain": [
              "0.3967978758216605"
            ]
          },
          "metadata": {
            "tags": []
          },
          "execution_count": 13
        }
      ]
    },
    {
      "cell_type": "code",
      "metadata": {
        "id": "NsWLQr_Quluy"
      },
      "source": [
        ""
      ],
      "execution_count": null,
      "outputs": []
    },
    {
      "cell_type": "code",
      "metadata": {
        "id": "EIh-Bzk_ulyY"
      },
      "source": [
        ""
      ],
      "execution_count": null,
      "outputs": []
    },
    {
      "cell_type": "code",
      "metadata": {
        "id": "y1O_dod6V6uE"
      },
      "source": [
        "#Using regressor sequential\n",
        "from tensorflow import keras\n",
        "from tensorflow.keras import layers\n",
        "\n",
        "horsepower_normalizer = preprocessing.Normalization(input_shape=[1,])\n",
        "horsepower_normalizer.adapt(X_spec_\n",
        "                            )\n",
        "\n",
        "horsepower_model = tf.keras.Sequential([\n",
        "    horsepower_normalizer,\n",
        "    layers.Dense(units=1)\n",
        "])"
      ],
      "execution_count": null,
      "outputs": []
    },
    {
      "cell_type": "code",
      "metadata": {
        "id": "A_zsgvmzpco5",
        "colab": {
          "base_uri": "https://localhost:8080/"
        },
        "outputId": "abb31c50-55e1-499d-ce78-e92726d9d551"
      },
      "source": [
        "import tensorflow as tf\n",
        "horsepower_model.compile(\n",
        "    optimizer=tf.optimizers.Adam(learning_rate=0.1),\n",
        "    loss='mean_absolute_error', metrics=[tf.keras.metrics.MeanSquaredError()])\n",
        "\n",
        "history = horsepower_model.fit(\n",
        "    X_spec_, y_spec_,\n",
        "    epochs=5,\n",
        "    # suppress logging\n",
        "    #verbose=0,\n",
        "    # Calculate validation results on 10% of the training data\n",
        "    validation_split = 0.1)"
      ],
      "execution_count": null,
      "outputs": [
        {
          "output_type": "stream",
          "text": [
            "Epoch 1/5\n",
            "76032/76032 [==============================] - 117s 2ms/step - loss: 10.2469 - mean_squared_error: 186.6453 - val_loss: 8.7888 - val_mean_squared_error: 126.8809\n",
            "Epoch 2/5\n",
            "76032/76032 [==============================] - 116s 2ms/step - loss: 9.7955 - mean_squared_error: 165.4883 - val_loss: 8.7916 - val_mean_squared_error: 126.2527\n",
            "Epoch 3/5\n",
            "76032/76032 [==============================] - 117s 2ms/step - loss: 9.7876 - mean_squared_error: 165.1230 - val_loss: 8.8311 - val_mean_squared_error: 127.3049\n",
            "Epoch 4/5\n",
            "76032/76032 [==============================] - 117s 2ms/step - loss: 9.8009 - mean_squared_error: 165.6078 - val_loss: 8.7863 - val_mean_squared_error: 126.4755\n",
            "Epoch 5/5\n",
            "76032/76032 [==============================] - 117s 2ms/step - loss: 9.7931 - mean_squared_error: 165.4911 - val_loss: 8.7642 - val_mean_squared_error: 125.6438\n"
          ],
          "name": "stdout"
        }
      ]
    },
    {
      "cell_type": "code",
      "metadata": {
        "colab": {
          "base_uri": "https://localhost:8080/",
          "height": 295
        },
        "id": "46z6Lnv2UB0E",
        "outputId": "74439423-cbde-4e3f-c208-cc501ddb6427"
      },
      "source": [
        "import matplotlib.pyplot as plt\n",
        "\n",
        "Epochs = 5\n",
        "train_loss = history.history['loss']\n",
        "train_accuracy = history.history['val_loss']\n",
        "\n",
        "epochs = range(Epochs)\n",
        "\n",
        "plt.figure()\n",
        "plt.plot(epochs, train_loss, 'r', label='Training loss')\n",
        "plt.plot(epochs, train_accuracy, 'bo', label='Validation loss')\n",
        "plt.title('Training and Validation Loss')\n",
        "plt.xlabel('Epoch')\n",
        "plt.ylabel('Loss Value')\n",
        "plt.ylim([5, 12])\n",
        "plt.legend()\n",
        "plt.show()"
      ],
      "execution_count": null,
      "outputs": [
        {
          "output_type": "display_data",
          "data": {
            "image/png": "[encoded data removed]",
            "text/plain": [
              "<Figure size 432x288 with 1 Axes>"
            ]
          },
          "metadata": {
            "tags": [],
            "needs_background": "light"
          }
        }
      ]
    },
    {
      "cell_type": "code",
      "metadata": {
        "colab": {
          "base_uri": "https://localhost:8080/",
          "height": 295
        },
        "id": "ILABgTMHTzEk",
        "outputId": "80b31941-43fb-4968-e6b0-be2d91d0193d"
      },
      "source": [
        "import matplotlib.pyplot as plt\n",
        "\n",
        "Epochs = 5\n",
        "train_loss = history.history['mean_squared_error']\n",
        "train_accuracy = history.history['val_mean_squared_error']\n",
        "\n",
        "epochs = range(Epochs)\n",
        "\n",
        "plt.figure()\n",
        "plt.plot(epochs, train_loss, 'r', label='Training mse')\n",
        "plt.plot(epochs, train_accuracy, 'bo', label='Validation mse')\n",
        "plt.title('Training and Validation Loss')\n",
        "plt.xlabel('Epoch')\n",
        "plt.ylabel('Loss Value')\n",
        "plt.ylim([100, 190])\n",
        "plt.legend()\n",
        "plt.show()"
      ],
      "execution_count": null,
      "outputs": [
        {
          "output_type": "display_data",
          "data": {
            "image/png": "[encoded data removed]",
            "text/plain": [
              "<Figure size 432x288 with 1 Axes>"
            ]
          },
          "metadata": {
            "tags": [],
            "needs_background": "light"
          }
        }
      ]
    },
    {
      "cell_type": "code",
      "metadata": {
        "id": "hbfeWWiicjVn"
      },
      "source": [
        ""
      ],
      "execution_count": null,
      "outputs": []
    },
    {
      "cell_type": "code",
      "metadata": {
        "id": "snxNLxsYuo2O"
      },
      "source": [
        ""
      ],
      "execution_count": null,
      "outputs": []
    },
    {
      "cell_type": "code",
      "metadata": {
        "id": "tZ7hXQRhcCtm"
      },
      "source": [
        "from tensorflow.keras.models import Model, load_model\n",
        "from tensorflow.keras.layers import Input, BatchNormalization, Activation, Dense, Dropout\n",
        "#from tensorflow.keras.layers import Lambda, RepeatVector, Reshape\n",
        "from tensorflow.keras.layers import Conv2D, Conv2DTranspose\n",
        "from tensorflow.keras.layers import MaxPooling2D, GlobalMaxPool2D\n",
        "from tensorflow.keras.layers import Concatenate \n",
        "from tensorflow.keras.optimizers import Adam"
      ],
      "execution_count": 6,
      "outputs": []
    },
    {
      "cell_type": "code",
      "metadata": {
        "colab": {
          "base_uri": "https://localhost:8080/"
        },
        "id": "kfq_ZG8ckLsw",
        "outputId": "f095ed02-32b8-4530-d610-04143c7878ba"
      },
      "source": [
        "#AUTOENCODING\n",
        "from tensorflow import keras\n",
        "from tensorflow.keras import layers\n",
        "\n",
        "\n",
        "\n",
        "encoder_input = keras.Input(shape=(440, 128, 1), name=\"original_img\")\n",
        "x = layers.Conv2D(16, 3, activation=\"relu\")(encoder_input)\n",
        "x = tf.keras.layers.Conv2D(32, 3, activation=\"relu\")(x)\n",
        "x = layers.MaxPooling2D(3)(x)\n",
        "x = layers.Conv2D(32, 3, activation=\"relu\")(x)\n",
        "x = layers.Conv2D(16, 3, activation=\"relu\")(x)\n",
        "encoder_output = layers.GlobalMaxPooling2D()(x)\n",
        "\n",
        "encoder = keras.Model(encoder_input, encoder_output, name=\"encoder\")\n",
        "encoder.summary()\n",
        "\n",
        "decoder_input = keras.Input(shape=(16,), name=\"encoded_img\")\n",
        "x = layers.Reshape((4, 4, 1))(decoder_input)\n",
        "x = layers.Conv2DTranspose(16, 3, activation=\"relu\")(x)\n",
        "x = layers.Conv2DTranspose(32, 3, activation=\"relu\")(x)\n",
        "x = layers.UpSampling2D((54,15))(x)\n",
        "x = layers.Conv2DTranspose(32, 5, activation=\"relu\")(x)\n",
        "decoder_output = layers.Conv2DTranspose(1, 5)(x)\n",
        "\n",
        "decoder = keras.Model(decoder_input, decoder_output, name=\"decoder\")\n",
        "decoder.summary()\n",
        "\n",
        "autoencoder_input = keras.Input(shape=(440, 128, 1), name=\"img\")\n",
        "encoded_img = encoder(autoencoder_input)\n",
        "decoded_img = decoder(encoded_img)\n",
        "autoencoder = keras.Model(autoencoder_input, decoded_img, name=\"autoencoder\")\n",
        "autoencoder.summary()"
      ],
      "execution_count": 48,
      "outputs": [
        {
          "output_type": "stream",
          "text": [
            "Model: \"encoder\"\n",
            "_________________________________________________________________\n",
            "Layer (type)                 Output Shape              Param #   \n",
            "=================================================================\n",
            "original_img (InputLayer)    [(None, 440, 128, 1)]     0         \n",
            "_________________________________________________________________\n",
            "conv2d_105 (Conv2D)          (None, 438, 126, 16)      160       \n",
            "_________________________________________________________________\n",
            "conv2d_106 (Conv2D)          (None, 436, 124, 32)      4640      \n",
            "_________________________________________________________________\n",
            "max_pooling2d_32 (MaxPooling (None, 145, 41, 32)       0         \n",
            "_________________________________________________________________\n",
            "conv2d_107 (Conv2D)          (None, 143, 39, 32)       9248      \n",
            "_________________________________________________________________\n",
            "conv2d_108 (Conv2D)          (None, 141, 37, 16)       4624      \n",
            "_________________________________________________________________\n",
            "global_max_pooling2d_16 (Glo (None, 16)                0         \n",
            "=================================================================\n",
            "Total params: 18,672\n",
            "Trainable params: 18,672\n",
            "Non-trainable params: 0\n",
            "_________________________________________________________________\n",
            "Model: \"decoder\"\n",
            "_________________________________________________________________\n",
            "Layer (type)                 Output Shape              Param #   \n",
            "=================================================================\n",
            "encoded_img (InputLayer)     [(None, 16)]              0         \n",
            "_________________________________________________________________\n",
            "reshape_16 (Reshape)         (None, 4, 4, 1)           0         \n",
            "_________________________________________________________________\n",
            "conv2d_transpose_68 (Conv2DT (None, 6, 6, 16)          160       \n",
            "_________________________________________________________________\n",
            "conv2d_transpose_69 (Conv2DT (None, 8, 8, 32)          4640      \n",
            "_________________________________________________________________\n",
            "up_sampling2d_16 (UpSampling (None, 432, 120, 32)      0         \n",
            "_________________________________________________________________\n",
            "conv2d_transpose_70 (Conv2DT (None, 436, 124, 32)      25632     \n",
            "_________________________________________________________________\n",
            "conv2d_transpose_71 (Conv2DT (None, 440, 128, 1)       801       \n",
            "=================================================================\n",
            "Total params: 31,233\n",
            "Trainable params: 31,233\n",
            "Non-trainable params: 0\n",
            "_________________________________________________________________\n",
            "Model: \"autoencoder\"\n",
            "_________________________________________________________________\n",
            "Layer (type)                 Output Shape              Param #   \n",
            "=================================================================\n",
            "img (InputLayer)             [(None, 440, 128, 1)]     0         \n",
            "_________________________________________________________________\n",
            "encoder (Functional)         (None, 16)                18672     \n",
            "_________________________________________________________________\n",
            "decoder (Functional)         (None, 440, 128, 1)       31233     \n",
            "=================================================================\n",
            "Total params: 49,905\n",
            "Trainable params: 49,905\n",
            "Non-trainable params: 0\n",
            "_________________________________________________________________\n"
          ],
          "name": "stdout"
        }
      ]
    },
    {
      "cell_type": "code",
      "metadata": {
        "id": "p5q-kJ0EnwG6"
      },
      "source": [
        "autoencoder.compile(optimizer=Adam(), loss=\"mse\", metrics=[tf.keras.metrics.MeanSquaredError()])"
      ],
      "execution_count": 49,
      "outputs": []
    },
    {
      "cell_type": "code",
      "metadata": {
        "colab": {
          "base_uri": "https://localhost:8080/"
        },
        "id": "UO6I0Jk-o-Sa",
        "outputId": "883fc45b-6cd6-469b-fe03-aeb0e048a8a5"
      },
      "source": [
        "history = autoencoder.fit(X_train, y_train, epochs=50, validation_split=0.1)"
      ],
      "execution_count": 53,
      "outputs": [
        {
          "output_type": "stream",
          "text": [
            "Epoch 1/50\n",
            "2/2 [==============================] - 0s 138ms/step - loss: 158.6112 - mean_squared_error: 158.6112 - val_loss: 113.9731 - val_mean_squared_error: 113.9731\n",
            "Epoch 2/50\n",
            "2/2 [==============================] - 0s 73ms/step - loss: 148.0618 - mean_squared_error: 148.0618 - val_loss: 114.2196 - val_mean_squared_error: 114.2196\n",
            "Epoch 3/50\n",
            "2/2 [==============================] - 0s 80ms/step - loss: 140.7964 - mean_squared_error: 140.7964 - val_loss: 141.5448 - val_mean_squared_error: 141.5448\n",
            "Epoch 4/50\n",
            "2/2 [==============================] - 0s 71ms/step - loss: 163.2144 - mean_squared_error: 163.2144 - val_loss: 144.7345 - val_mean_squared_error: 144.7345\n",
            "Epoch 5/50\n",
            "2/2 [==============================] - 0s 74ms/step - loss: 162.1255 - mean_squared_error: 162.1255 - val_loss: 109.7072 - val_mean_squared_error: 109.7072\n",
            "Epoch 6/50\n",
            "2/2 [==============================] - 0s 72ms/step - loss: 141.9182 - mean_squared_error: 141.9182 - val_loss: 120.6839 - val_mean_squared_error: 120.6839\n",
            "Epoch 7/50\n",
            "2/2 [==============================] - 0s 76ms/step - loss: 152.3775 - mean_squared_error: 152.3775 - val_loss: 121.2858 - val_mean_squared_error: 121.2858\n",
            "Epoch 8/50\n",
            "2/2 [==============================] - 0s 79ms/step - loss: 145.9977 - mean_squared_error: 145.9977 - val_loss: 145.4189 - val_mean_squared_error: 145.4189\n",
            "Epoch 9/50\n",
            "2/2 [==============================] - 0s 74ms/step - loss: 160.6684 - mean_squared_error: 160.6684 - val_loss: 104.6369 - val_mean_squared_error: 104.6369\n",
            "Epoch 10/50\n",
            "2/2 [==============================] - 0s 73ms/step - loss: 133.6332 - mean_squared_error: 133.6332 - val_loss: 131.4404 - val_mean_squared_error: 131.4404\n",
            "Epoch 11/50\n",
            "2/2 [==============================] - 0s 75ms/step - loss: 166.7582 - mean_squared_error: 166.7582 - val_loss: 109.0628 - val_mean_squared_error: 109.0628\n",
            "Epoch 12/50\n",
            "2/2 [==============================] - 0s 74ms/step - loss: 138.1268 - mean_squared_error: 138.1268 - val_loss: 140.4755 - val_mean_squared_error: 140.4755\n",
            "Epoch 13/50\n",
            "2/2 [==============================] - 0s 77ms/step - loss: 160.4041 - mean_squared_error: 160.4041 - val_loss: 105.7696 - val_mean_squared_error: 105.7696\n",
            "Epoch 14/50\n",
            "2/2 [==============================] - 0s 73ms/step - loss: 129.2370 - mean_squared_error: 129.2370 - val_loss: 108.9528 - val_mean_squared_error: 108.9528\n",
            "Epoch 15/50\n",
            "2/2 [==============================] - 0s 74ms/step - loss: 140.1530 - mean_squared_error: 140.1529 - val_loss: 106.0425 - val_mean_squared_error: 106.0425\n",
            "Epoch 16/50\n",
            "2/2 [==============================] - 0s 74ms/step - loss: 132.5624 - mean_squared_error: 132.5624 - val_loss: 111.4401 - val_mean_squared_error: 111.4401\n",
            "Epoch 17/50\n",
            "2/2 [==============================] - 0s 70ms/step - loss: 130.2890 - mean_squared_error: 130.2890 - val_loss: 107.8690 - val_mean_squared_error: 107.8690\n",
            "Epoch 18/50\n",
            "2/2 [==============================] - 0s 74ms/step - loss: 128.6892 - mean_squared_error: 128.6892 - val_loss: 106.2370 - val_mean_squared_error: 106.2370\n",
            "Epoch 19/50\n",
            "2/2 [==============================] - 0s 71ms/step - loss: 129.7223 - mean_squared_error: 129.7223 - val_loss: 107.5369 - val_mean_squared_error: 107.5369\n",
            "Epoch 20/50\n",
            "2/2 [==============================] - 0s 70ms/step - loss: 127.6325 - mean_squared_error: 127.6325 - val_loss: 109.0505 - val_mean_squared_error: 109.0505\n",
            "Epoch 21/50\n",
            "2/2 [==============================] - 0s 71ms/step - loss: 127.6039 - mean_squared_error: 127.6039 - val_loss: 104.1013 - val_mean_squared_error: 104.1013\n",
            "Epoch 22/50\n",
            "2/2 [==============================] - 0s 71ms/step - loss: 125.7191 - mean_squared_error: 125.7191 - val_loss: 103.2761 - val_mean_squared_error: 103.2761\n",
            "Epoch 23/50\n",
            "2/2 [==============================] - 0s 73ms/step - loss: 126.0656 - mean_squared_error: 126.0656 - val_loss: 102.1814 - val_mean_squared_error: 102.1814\n",
            "Epoch 24/50\n",
            "2/2 [==============================] - 0s 76ms/step - loss: 125.0155 - mean_squared_error: 125.0155 - val_loss: 101.8602 - val_mean_squared_error: 101.8602\n",
            "Epoch 25/50\n",
            "2/2 [==============================] - 0s 72ms/step - loss: 124.6793 - mean_squared_error: 124.6793 - val_loss: 104.3061 - val_mean_squared_error: 104.3061\n",
            "Epoch 26/50\n",
            "2/2 [==============================] - 0s 74ms/step - loss: 123.7739 - mean_squared_error: 123.7739 - val_loss: 105.6602 - val_mean_squared_error: 105.6602\n",
            "Epoch 27/50\n",
            "2/2 [==============================] - 0s 75ms/step - loss: 124.5534 - mean_squared_error: 124.5534 - val_loss: 100.4709 - val_mean_squared_error: 100.4709\n",
            "Epoch 28/50\n",
            "2/2 [==============================] - 0s 74ms/step - loss: 123.9247 - mean_squared_error: 123.9247 - val_loss: 104.0506 - val_mean_squared_error: 104.0506\n",
            "Epoch 29/50\n",
            "2/2 [==============================] - 0s 73ms/step - loss: 124.1240 - mean_squared_error: 124.1240 - val_loss: 110.6206 - val_mean_squared_error: 110.6206\n",
            "Epoch 30/50\n",
            "2/2 [==============================] - 0s 71ms/step - loss: 125.7716 - mean_squared_error: 125.7716 - val_loss: 101.5354 - val_mean_squared_error: 101.5354\n",
            "Epoch 31/50\n",
            "2/2 [==============================] - 0s 70ms/step - loss: 124.7348 - mean_squared_error: 124.7348 - val_loss: 101.8546 - val_mean_squared_error: 101.8546\n",
            "Epoch 32/50\n",
            "2/2 [==============================] - 0s 71ms/step - loss: 123.9417 - mean_squared_error: 123.9417 - val_loss: 107.1669 - val_mean_squared_error: 107.1669\n",
            "Epoch 33/50\n",
            "2/2 [==============================] - 0s 75ms/step - loss: 123.8447 - mean_squared_error: 123.8447 - val_loss: 102.6522 - val_mean_squared_error: 102.6522\n",
            "Epoch 34/50\n",
            "2/2 [==============================] - 0s 74ms/step - loss: 121.4757 - mean_squared_error: 121.4757 - val_loss: 103.1509 - val_mean_squared_error: 103.1509\n",
            "Epoch 35/50\n",
            "2/2 [==============================] - 0s 75ms/step - loss: 131.1813 - mean_squared_error: 131.1813 - val_loss: 105.0030 - val_mean_squared_error: 105.0030\n",
            "Epoch 36/50\n",
            "2/2 [==============================] - 0s 74ms/step - loss: 129.0558 - mean_squared_error: 129.0558 - val_loss: 114.4776 - val_mean_squared_error: 114.4776\n",
            "Epoch 37/50\n",
            "2/2 [==============================] - 0s 73ms/step - loss: 130.0315 - mean_squared_error: 130.0315 - val_loss: 116.7405 - val_mean_squared_error: 116.7405\n",
            "Epoch 38/50\n",
            "2/2 [==============================] - 0s 71ms/step - loss: 129.2246 - mean_squared_error: 129.2246 - val_loss: 101.0124 - val_mean_squared_error: 101.0124\n",
            "Epoch 39/50\n",
            "2/2 [==============================] - 0s 71ms/step - loss: 124.9936 - mean_squared_error: 124.9936 - val_loss: 109.7193 - val_mean_squared_error: 109.7194\n",
            "Epoch 40/50\n",
            "2/2 [==============================] - 0s 73ms/step - loss: 135.0341 - mean_squared_error: 135.0341 - val_loss: 108.3337 - val_mean_squared_error: 108.3337\n",
            "Epoch 41/50\n",
            "2/2 [==============================] - 0s 71ms/step - loss: 124.5257 - mean_squared_error: 124.5256 - val_loss: 135.7908 - val_mean_squared_error: 135.7908\n",
            "Epoch 42/50\n",
            "2/2 [==============================] - 0s 70ms/step - loss: 142.7800 - mean_squared_error: 142.7800 - val_loss: 100.2086 - val_mean_squared_error: 100.2086\n",
            "Epoch 43/50\n",
            "2/2 [==============================] - 0s 75ms/step - loss: 123.6791 - mean_squared_error: 123.6791 - val_loss: 111.4296 - val_mean_squared_error: 111.4296\n",
            "Epoch 44/50\n",
            "2/2 [==============================] - 0s 72ms/step - loss: 134.8527 - mean_squared_error: 134.8527 - val_loss: 110.8046 - val_mean_squared_error: 110.8046\n",
            "Epoch 45/50\n",
            "2/2 [==============================] - 0s 74ms/step - loss: 123.9001 - mean_squared_error: 123.9001 - val_loss: 122.6495 - val_mean_squared_error: 122.6495\n",
            "Epoch 46/50\n",
            "2/2 [==============================] - 0s 71ms/step - loss: 131.4264 - mean_squared_error: 131.4264 - val_loss: 102.8850 - val_mean_squared_error: 102.8850\n",
            "Epoch 47/50\n",
            "2/2 [==============================] - 0s 73ms/step - loss: 118.1292 - mean_squared_error: 118.1292 - val_loss: 106.0949 - val_mean_squared_error: 106.0949\n",
            "Epoch 48/50\n",
            "2/2 [==============================] - 0s 72ms/step - loss: 124.1787 - mean_squared_error: 124.1787 - val_loss: 105.4828 - val_mean_squared_error: 105.4828\n",
            "Epoch 49/50\n",
            "2/2 [==============================] - 0s 71ms/step - loss: 119.2061 - mean_squared_error: 119.2061 - val_loss: 117.5527 - val_mean_squared_error: 117.5527\n",
            "Epoch 50/50\n",
            "2/2 [==============================] - 0s 68ms/step - loss: 126.9669 - mean_squared_error: 126.9669 - val_loss: 100.7358 - val_mean_squared_error: 100.7358\n"
          ],
          "name": "stdout"
        }
      ]
    },
    {
      "cell_type": "code",
      "metadata": {
        "colab": {
          "base_uri": "https://localhost:8080/",
          "height": 295
        },
        "id": "2JkjNtF4peJi",
        "outputId": "5edecc7c-8375-4749-f3aa-73b201665b0b"
      },
      "source": [
        "#SHOWING RESULTS OF AUTOENCODING\n",
        "import matplotlib.pyplot as plt\n",
        "\n",
        "Epochs = 50\n",
        "train_loss = history.history['loss']\n",
        "train_accuracy = history.history['val_loss']\n",
        "\n",
        "epochs = range(Epochs)\n",
        "\n",
        "plt.figure()\n",
        "plt.plot(epochs, train_loss, 'r', label='Training loss')\n",
        "plt.plot(epochs, train_accuracy, 'bo', label='Validation loss')\n",
        "plt.title('Training and Validation Loss')\n",
        "plt.xlabel('Epoch')\n",
        "plt.ylabel('Loss Value')\n",
        "plt.ylim([100, 190])\n",
        "plt.legend()\n",
        "plt.show()"
      ],
      "execution_count": 54,
      "outputs": [
        {
          "output_type": "display_data",
          "data": {
            "image/png": "[encoded data removed]",
            "text/plain": [
              "<Figure size 432x288 with 1 Axes>"
            ]
          },
          "metadata": {
            "tags": [],
            "needs_background": "light"
          }
        }
      ]
    },
    {
      "cell_type": "code",
      "metadata": {
        "id": "x_VDWupWtUR8"
      },
      "source": [
        ""
      ],
      "execution_count": null,
      "outputs": []
    }
  ]
}
