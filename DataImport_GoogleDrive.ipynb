{
  "nbformat": 4,
  "nbformat_minor": 0,
  "metadata": {
    "colab": {
      "name": "Classics_DNN.ipynb",
      "provenance": [],
      "authorship_tag": "ABX9TyP1MxQr7Ms7sUIqRB2XcVLx",
      "include_colab_link": true
    },
    "kernelspec": {
      "name": "python3",
      "display_name": "Python 3"
    },
    "language_info": {
      "name": "python"
    }
  },
  "cells": [
    {
      "cell_type": "markdown",
      "metadata": {
        "id": "view-in-github",
        "colab_type": "text"
      },
      "source": [
        "<a href=\"https://colab.research.google.com/github/CSCCNY/final-project-recomposeclassics/blob/Betholdcamp-patch-1/DataImport_GoogleDrive.ipynb\" target=\"_parent\"><img src=\"https://colab.research.google.com/assets/colab-badge.svg\" alt=\"Open In Colab\"/></a>"
      ]
    },
    {
      "cell_type": "code",
      "metadata": {
        "colab": {
          "base_uri": "https://localhost:8080/"
        },
        "id": "PDE22KEJwBvA",
        "outputId": "03a3fb4d-e741-4a7c-91e9-d6bd46bc2db1"
      },
      "source": [
        "!pip install PyDrive"
      ],
      "execution_count": null,
      "outputs": [
        {
          "output_type": "stream",
          "text": [
            "Requirement already satisfied: PyDrive in /usr/local/lib/python3.7/dist-packages (1.3.1)\n",
            "Requirement already satisfied: google-api-python-client>=1.2 in /usr/local/lib/python3.7/dist-packages (from PyDrive) (1.12.8)\n",
            "Requirement already satisfied: oauth2client>=4.0.0 in /usr/local/lib/python3.7/dist-packages (from PyDrive) (4.1.3)\n",
            "Requirement already satisfied: PyYAML>=3.0 in /usr/local/lib/python3.7/dist-packages (from PyDrive) (3.13)\n",
            "Requirement already satisfied: google-auth-httplib2>=0.0.3 in /usr/local/lib/python3.7/dist-packages (from google-api-python-client>=1.2->PyDrive) (0.0.4)\n",
            "Requirement already satisfied: httplib2<1dev,>=0.15.0 in /usr/local/lib/python3.7/dist-packages (from google-api-python-client>=1.2->PyDrive) (0.17.4)\n",
            "Requirement already satisfied: google-api-core<2dev,>=1.21.0 in /usr/local/lib/python3.7/dist-packages (from google-api-python-client>=1.2->PyDrive) (1.26.3)\n",
            "Requirement already satisfied: uritemplate<4dev,>=3.0.0 in /usr/local/lib/python3.7/dist-packages (from google-api-python-client>=1.2->PyDrive) (3.0.1)\n",
            "Requirement already satisfied: google-auth>=1.16.0 in /usr/local/lib/python3.7/dist-packages (from google-api-python-client>=1.2->PyDrive) (1.28.1)\n",
            "Requirement already satisfied: six<2dev,>=1.13.0 in /usr/local/lib/python3.7/dist-packages (from google-api-python-client>=1.2->PyDrive) (1.15.0)\n",
            "Requirement already satisfied: pyasn1-modules>=0.0.5 in /usr/local/lib/python3.7/dist-packages (from oauth2client>=4.0.0->PyDrive) (0.2.8)\n",
            "Requirement already satisfied: rsa>=3.1.4 in /usr/local/lib/python3.7/dist-packages (from oauth2client>=4.0.0->PyDrive) (4.7.2)\n",
            "Requirement already satisfied: pyasn1>=0.1.7 in /usr/local/lib/python3.7/dist-packages (from oauth2client>=4.0.0->PyDrive) (0.4.8)\n",
            "Requirement already satisfied: protobuf>=3.12.0 in /usr/local/lib/python3.7/dist-packages (from google-api-core<2dev,>=1.21.0->google-api-python-client>=1.2->PyDrive) (3.12.4)\n",
            "Requirement already satisfied: pytz in /usr/local/lib/python3.7/dist-packages (from google-api-core<2dev,>=1.21.0->google-api-python-client>=1.2->PyDrive) (2018.9)\n",
            "Requirement already satisfied: packaging>=14.3 in /usr/local/lib/python3.7/dist-packages (from google-api-core<2dev,>=1.21.0->google-api-python-client>=1.2->PyDrive) (20.9)\n",
            "Requirement already satisfied: setuptools>=40.3.0 in /usr/local/lib/python3.7/dist-packages (from google-api-core<2dev,>=1.21.0->google-api-python-client>=1.2->PyDrive) (54.2.0)\n",
            "Requirement already satisfied: requests<3.0.0dev,>=2.18.0 in /usr/local/lib/python3.7/dist-packages (from google-api-core<2dev,>=1.21.0->google-api-python-client>=1.2->PyDrive) (2.23.0)\n",
            "Requirement already satisfied: googleapis-common-protos<2.0dev,>=1.6.0 in /usr/local/lib/python3.7/dist-packages (from google-api-core<2dev,>=1.21.0->google-api-python-client>=1.2->PyDrive) (1.53.0)\n",
            "Requirement already satisfied: cachetools<5.0,>=2.0.0 in /usr/local/lib/python3.7/dist-packages (from google-auth>=1.16.0->google-api-python-client>=1.2->PyDrive) (4.2.1)\n",
            "Requirement already satisfied: pyparsing>=2.0.2 in /usr/local/lib/python3.7/dist-packages (from packaging>=14.3->google-api-core<2dev,>=1.21.0->google-api-python-client>=1.2->PyDrive) (2.4.7)\n",
            "Requirement already satisfied: idna<3,>=2.5 in /usr/local/lib/python3.7/dist-packages (from requests<3.0.0dev,>=2.18.0->google-api-core<2dev,>=1.21.0->google-api-python-client>=1.2->PyDrive) (2.10)\n",
            "Requirement already satisfied: urllib3!=1.25.0,!=1.25.1,<1.26,>=1.21.1 in /usr/local/lib/python3.7/dist-packages (from requests<3.0.0dev,>=2.18.0->google-api-core<2dev,>=1.21.0->google-api-python-client>=1.2->PyDrive) (1.24.3)\n",
            "Requirement already satisfied: certifi>=2017.4.17 in /usr/local/lib/python3.7/dist-packages (from requests<3.0.0dev,>=2.18.0->google-api-core<2dev,>=1.21.0->google-api-python-client>=1.2->PyDrive) (2020.12.5)\n",
            "Requirement already satisfied: chardet<4,>=3.0.2 in /usr/local/lib/python3.7/dist-packages (from requests<3.0.0dev,>=2.18.0->google-api-core<2dev,>=1.21.0->google-api-python-client>=1.2->PyDrive) (3.0.4)\n"
          ],
          "name": "stdout"
        }
      ]
    },
    {
      "cell_type": "code",
      "metadata": {
        "id": "fUu8XieCwUrc"
      },
      "source": [
        "import os\n",
        "from pydrive.auth import GoogleAuth\n",
        "from pydrive.drive import GoogleDrive\n",
        "from google.colab import auth\n",
        "from oauth2client.client import GoogleCredentials"
      ],
      "execution_count": null,
      "outputs": []
    },
    {
      "cell_type": "code",
      "metadata": {
        "id": "1CU29Nrowc9D"
      },
      "source": [
        "auth.authenticate_user()\n",
        "gauth = GoogleAuth()\n",
        "gauth.credentials = GoogleCredentials.get_application_default()\n",
        "drive = GoogleDrive(gauth)"
      ],
      "execution_count": null,
      "outputs": []
    },
    {
      "cell_type": "code",
      "metadata": {
        "id": "qod3sjb_wqyT"
      },
      "source": [
        "download = drive.CreateFile({'id': '1blhinQ9YeuoHQK0danuqV0ZaWwZ7VCB9'})\n",
        "download.GetContentFile('chpn-p24.mid')"
      ],
      "execution_count": null,
      "outputs": []
    },
    {
      "cell_type": "code",
      "metadata": {
        "id": "8Xs1xbdxxvLz"
      },
      "source": [
        "// // when uploading to Google Drive from Colab\n",
        "\n",
        "// upload = drive.CreateFile({'title': 'DRIVE.txt'})\n",
        "// upload.SetContentFile('FILE_ON_COLAB.txt')\n",
        "// upload.Upload()\n",
        "\n"
      ],
      "execution_count": null,
      "outputs": []
    },
    {
      "cell_type": "code",
      "metadata": {
        "colab": {
          "base_uri": "https://localhost:8080/"
        },
        "id": "cnwRw-k0z_iV",
        "outputId": "a6e55a60-adfd-49f7-f513-6921b880e564"
      },
      "source": [
        "download"
      ],
      "execution_count": null,
      "outputs": [
        {
          "output_type": "execute_result",
          "data": {
            "text/plain": [
              "GoogleDriveFile({'id': '1blhinQ9YeuoHQK0danuqV0ZaWwZ7VCB9', 'kind': 'drive#file', 'etag': '\"MTYxODM5NDMyMjMyMA\"', 'selfLink': 'https://www.googleapis.com/drive/v2/files/1blhinQ9YeuoHQK0danuqV0ZaWwZ7VCB9', 'webContentLink': 'https://drive.google.com/uc?id=1blhinQ9YeuoHQK0danuqV0ZaWwZ7VCB9&export=download', 'alternateLink': 'https://drive.google.com/file/d/1blhinQ9YeuoHQK0danuqV0ZaWwZ7VCB9/view?usp=drivesdk', 'embedLink': 'https://drive.google.com/file/d/1blhinQ9YeuoHQK0danuqV0ZaWwZ7VCB9/preview?usp=drivesdk', 'iconLink': 'https://drive-thirdparty.googleusercontent.com/16/type/audio/unknown', 'title': 'chpn-p24.mid', 'mimeType': 'audio/unknown', 'labels': {'starred': False, 'hidden': False, 'trashed': False, 'restricted': False, 'viewed': True}, 'copyRequiresWriterPermission': False, 'createdDate': '2021-04-14T09:58:42.320Z', 'modifiedDate': '2021-04-14T09:58:42.320Z', 'modifiedByMeDate': '2021-04-14T09:58:42.320Z', 'lastViewedByMeDate': '2021-04-14T10:04:04.400Z', 'markedViewedByMeDate': '1970-01-01T00:00:00.000Z', 'version': '2', 'parents': [{'kind': 'drive#parentReference', 'id': '1OAPOwrXS0fh-qo19uKz4sJc8Ex_VxF2N', 'selfLink': 'https://www.googleapis.com/drive/v2/files/1blhinQ9YeuoHQK0danuqV0ZaWwZ7VCB9/parents/1OAPOwrXS0fh-qo19uKz4sJc8Ex_VxF2N', 'parentLink': 'https://www.googleapis.com/drive/v2/files/1OAPOwrXS0fh-qo19uKz4sJc8Ex_VxF2N', 'isRoot': False}], 'downloadUrl': 'https://www.googleapis.com/drive/v2/files/1blhinQ9YeuoHQK0danuqV0ZaWwZ7VCB9?alt=media&source=downloadUrl', 'userPermission': {'kind': 'drive#permission', 'etag': '\"aGWBIWt0tSNsZmfwffA-w-iMTsY\"', 'id': 'me', 'selfLink': 'https://www.googleapis.com/drive/v2/files/1blhinQ9YeuoHQK0danuqV0ZaWwZ7VCB9/permissions/me', 'role': 'owner', 'type': 'user'}, 'originalFilename': 'chpn-p24.mid', 'fileExtension': 'mid', 'md5Checksum': '1f0431c9fb0f4d76c2c45eb7c8c15d41', 'fileSize': '12895', 'quotaBytesUsed': '12895', 'ownerNames': ['Hannah Do'], 'owners': [{'kind': 'drive#user', 'displayName': 'Hannah Do', 'isAuthenticatedUser': True, 'permissionId': '09169567944837111458', 'emailAddress': 'hannah.hj.do@gmail.com'}], 'lastModifyingUserName': 'Hannah Do', 'lastModifyingUser': {'kind': 'drive#user', 'displayName': 'Hannah Do', 'isAuthenticatedUser': True, 'permissionId': '09169567944837111458', 'emailAddress': 'hannah.hj.do@gmail.com'}, 'capabilities': {'canCopy': True, 'canEdit': True}, 'editable': True, 'copyable': True, 'writersCanShare': True, 'shared': False, 'explicitlyTrashed': False, 'appDataContents': False, 'headRevisionId': '0BwtSwKoEde9lZWRYTm5OU1dCNktmSHVjYmE5Rm44YWtvdDZFPQ', 'spaces': ['drive']})"
            ]
          },
          "metadata": {
            "tags": []
          },
          "execution_count": 10
        }
      ]
    },
    {
      "cell_type": "code",
      "metadata": {
        "id": "vO0tGm530Fk0"
      },
      "source": [
        ""
      ],
      "execution_count": null,
      "outputs": []
    }
  ]
}